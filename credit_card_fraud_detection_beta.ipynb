{
  "nbformat": 4,
  "nbformat_minor": 0,
  "metadata": {
    "colab": {
      "provenance": [],
      "collapsed_sections": [
        "QT1ch_tjZi7h",
        "wtKuP_HC0J4p",
        "9eif2-raVc7L",
        "vBARCtSSVm5s",
        "s1VliyQf9Mkm",
        "tf5mRERKV527"
      ],
      "mount_file_id": "1M672erfjCaijPqXATLLhRMGn2pI5lwLU",
      "authorship_tag": "ABX9TyOnqZzmAavcJD57m0cz388g",
      "include_colab_link": true
    },
    "kernelspec": {
      "name": "python3",
      "display_name": "Python 3"
    },
    "language_info": {
      "name": "python"
    }
  },
  "cells": [
    {
      "cell_type": "markdown",
      "metadata": {
        "id": "view-in-github",
        "colab_type": "text"
      },
      "source": [
        "<a href=\"https://colab.research.google.com/github/ConfusedTraveler/credit-card-fraud-detect/blob/main/credit_card_fraud_detection_beta.ipynb\" target=\"_parent\"><img src=\"https://colab.research.google.com/assets/colab-badge.svg\" alt=\"Open In Colab\"/></a>"
      ]
    },
    {
      "cell_type": "markdown",
      "source": [
        "# Related Libraries and Settings"
      ],
      "metadata": {
        "id": "QT1ch_tjZi7h"
      }
    },
    {
      "cell_type": "code",
      "source": [
        "import numpy as np\n",
        "import scipy as sp\n",
        "from  scipy.stats import boxcox\n",
        "import pandas as pd\n",
        "import matplotlib as mpl\n",
        "import matplotlib.pyplot as plt\n",
        "import seaborn as sns\n",
        "\n",
        "# Pandas options\n",
        "pd.set_option('display.max_colwidth', 1000, 'display.max_rows', None, 'display.max_columns', None)\n",
        "\n",
        "# Plotting options\n",
        "%matplotlib inline\n",
        "mpl.style.use('ggplot')\n",
        "sns.set(style='whitegrid')"
      ],
      "metadata": {
        "id": "oa59FBdh0jNw"
      },
      "execution_count": 1,
      "outputs": []
    },
    {
      "cell_type": "markdown",
      "source": [
        "# Exploratory Data Analysis\n",
        "\n",
        "to get an general understanding of the data and its underlying structure"
      ],
      "metadata": {
        "id": "wtKuP_HC0J4p"
      }
    },
    {
      "cell_type": "code",
      "source": [
        "# 导入数据\n",
        "transactions = pd.read_csv('/content/drive/MyDrive/credit_card_fraud_detection/data/creditcard.csv')"
      ],
      "metadata": {
        "id": "D3lb4tf40O3K"
      },
      "execution_count": 2,
      "outputs": []
    },
    {
      "cell_type": "code",
      "source": [
        "transactions.shape"
      ],
      "metadata": {
        "id": "S88SMD7j2NE5",
        "colab": {
          "base_uri": "https://localhost:8080/"
        },
        "outputId": "9bde35c0-2228-4ad8-cf7e-e16773ea3f1c"
      },
      "execution_count": null,
      "outputs": [
        {
          "output_type": "execute_result",
          "data": {
            "text/plain": [
              "(284807, 31)"
            ]
          },
          "metadata": {},
          "execution_count": 4
        }
      ]
    },
    {
      "cell_type": "code",
      "source": [
        "transactions.info()"
      ],
      "metadata": {
        "id": "e9gF4w6Z3JQQ",
        "colab": {
          "base_uri": "https://localhost:8080/"
        },
        "outputId": "b5bcb2e1-b937-4762-b106-2ab0bd36c0b4"
      },
      "execution_count": null,
      "outputs": [
        {
          "output_type": "stream",
          "name": "stdout",
          "text": [
            "<class 'pandas.core.frame.DataFrame'>\n",
            "RangeIndex: 284807 entries, 0 to 284806\n",
            "Data columns (total 31 columns):\n",
            " #   Column  Non-Null Count   Dtype  \n",
            "---  ------  --------------   -----  \n",
            " 0   Time    284807 non-null  float64\n",
            " 1   V1      284807 non-null  float64\n",
            " 2   V2      284807 non-null  float64\n",
            " 3   V3      284807 non-null  float64\n",
            " 4   V4      284807 non-null  float64\n",
            " 5   V5      284807 non-null  float64\n",
            " 6   V6      284807 non-null  float64\n",
            " 7   V7      284807 non-null  float64\n",
            " 8   V8      284807 non-null  float64\n",
            " 9   V9      284807 non-null  float64\n",
            " 10  V10     284807 non-null  float64\n",
            " 11  V11     284807 non-null  float64\n",
            " 12  V12     284807 non-null  float64\n",
            " 13  V13     284807 non-null  float64\n",
            " 14  V14     284807 non-null  float64\n",
            " 15  V15     284807 non-null  float64\n",
            " 16  V16     284807 non-null  float64\n",
            " 17  V17     284807 non-null  float64\n",
            " 18  V18     284807 non-null  float64\n",
            " 19  V19     284807 non-null  float64\n",
            " 20  V20     284807 non-null  float64\n",
            " 21  V21     284807 non-null  float64\n",
            " 22  V22     284807 non-null  float64\n",
            " 23  V23     284807 non-null  float64\n",
            " 24  V24     284807 non-null  float64\n",
            " 25  V25     284807 non-null  float64\n",
            " 26  V26     284807 non-null  float64\n",
            " 27  V27     284807 non-null  float64\n",
            " 28  V28     284807 non-null  float64\n",
            " 29  Amount  284807 non-null  float64\n",
            " 30  Class   284807 non-null  int64  \n",
            "dtypes: float64(30), int64(1)\n",
            "memory usage: 67.4 MB\n"
          ]
        }
      ]
    },
    {
      "cell_type": "markdown",
      "source": [
        "没有缺失值，都是数值特征"
      ],
      "metadata": {
        "id": "iIgHcl-FRilk"
      }
    },
    {
      "cell_type": "code",
      "source": [
        "# Does dataset has duplicates?"
      ],
      "metadata": {
        "id": "v1C1idpNNIxc"
      },
      "execution_count": null,
      "outputs": []
    },
    {
      "cell_type": "code",
      "source": [
        "transactions.sample(5)"
      ],
      "metadata": {
        "id": "OVaXsAss34xo",
        "colab": {
          "base_uri": "https://localhost:8080/",
          "height": 226
        },
        "outputId": "019027d5-5ee0-4d35-965a-7f34a10a2205"
      },
      "execution_count": null,
      "outputs": [
        {
          "output_type": "execute_result",
          "data": {
            "text/plain": [
              "            Time        V1        V2        V3        V4        V5        V6  \\\n",
              "171694  120773.0 -2.032271 -2.327549 -0.541162 -1.960303  1.346147 -2.103816   \n",
              "18329    29391.0  0.635921 -1.610698  0.359508 -1.255057 -1.276377  0.158189   \n",
              "225324  144203.0  1.733527  0.192115 -0.596588  3.655108  0.380741  0.597431   \n",
              "188136  127833.0 -0.547318  0.358981  0.347084 -0.523232  1.944033  4.610052   \n",
              "23702    32874.0  1.262292 -0.467867  0.032072 -0.340923 -0.886434 -1.042372   \n",
              "\n",
              "              V7        V8        V9       V10       V11       V12       V13  \\\n",
              "171694 -0.648890  0.348502 -1.405983 -0.285962  0.423801  0.633656  0.270006   \n",
              "18329  -0.494621  0.199723  1.741064 -1.157040  1.143339  1.141118 -0.438062   \n",
              "225324 -0.042081  0.181358 -0.979216  1.579108  0.409305  0.134631 -0.692110   \n",
              "188136 -0.790194  1.284724  0.688283 -0.005594 -0.478102 -0.032214  0.006629   \n",
              "23702  -0.332843 -0.247977 -0.722160  0.076317 -0.048070 -0.290112  0.638783   \n",
              "\n",
              "             V14       V15       V16       V17       V18       V19       V20  \\\n",
              "171694  0.939499 -0.261129 -1.375096 -0.226125  1.372256 -0.217140  0.208691   \n",
              "18329   0.137837  0.998973 -0.360202 -0.132298  0.469608  0.638873  0.479833   \n",
              "225324  0.471519 -1.253546  1.091002 -0.973255  0.098173 -1.336327 -0.158009   \n",
              "188136 -0.356095  1.050653  0.425499 -0.914551  0.702879 -0.657971  0.023634   \n",
              "23702  -1.460332  0.004926  1.091970  1.275225 -1.309882  0.644002  0.260429   \n",
              "\n",
              "             V21       V22       V23       V24       V25       V26       V27  \\\n",
              "171694 -0.176309 -1.173100  0.086868 -0.399973 -0.034010  0.446630 -0.184358   \n",
              "18329   0.345010  0.566226 -0.383263 -0.219055  0.301274  0.116559 -0.001501   \n",
              "225324  0.078344  0.017352  0.201248  0.645393 -0.210942 -0.154591 -0.046805   \n",
              "188136  0.359793  1.163048  0.053820  0.688311 -0.954145 -0.631148  0.343650   \n",
              "23702  -0.034438 -0.195649 -0.076630  0.337928  0.473337 -0.310184  0.013439   \n",
              "\n",
              "             V28  Amount  Class  \n",
              "171694 -0.485799   70.00      0  \n",
              "18329   0.057066  300.00      0  \n",
              "225324 -0.034900   75.66      0  \n",
              "188136  0.314031   27.96      0  \n",
              "23702   0.050809   77.88      0  "
            ],
            "text/html": [
              "\n",
              "  <div id=\"df-57fcf13f-aabf-400e-b134-3d3e57194ed8\" class=\"colab-df-container\">\n",
              "    <div>\n",
              "<style scoped>\n",
              "    .dataframe tbody tr th:only-of-type {\n",
              "        vertical-align: middle;\n",
              "    }\n",
              "\n",
              "    .dataframe tbody tr th {\n",
              "        vertical-align: top;\n",
              "    }\n",
              "\n",
              "    .dataframe thead th {\n",
              "        text-align: right;\n",
              "    }\n",
              "</style>\n",
              "<table border=\"1\" class=\"dataframe\">\n",
              "  <thead>\n",
              "    <tr style=\"text-align: right;\">\n",
              "      <th></th>\n",
              "      <th>Time</th>\n",
              "      <th>V1</th>\n",
              "      <th>V2</th>\n",
              "      <th>V3</th>\n",
              "      <th>V4</th>\n",
              "      <th>V5</th>\n",
              "      <th>V6</th>\n",
              "      <th>V7</th>\n",
              "      <th>V8</th>\n",
              "      <th>V9</th>\n",
              "      <th>V10</th>\n",
              "      <th>V11</th>\n",
              "      <th>V12</th>\n",
              "      <th>V13</th>\n",
              "      <th>V14</th>\n",
              "      <th>V15</th>\n",
              "      <th>V16</th>\n",
              "      <th>V17</th>\n",
              "      <th>V18</th>\n",
              "      <th>V19</th>\n",
              "      <th>V20</th>\n",
              "      <th>V21</th>\n",
              "      <th>V22</th>\n",
              "      <th>V23</th>\n",
              "      <th>V24</th>\n",
              "      <th>V25</th>\n",
              "      <th>V26</th>\n",
              "      <th>V27</th>\n",
              "      <th>V28</th>\n",
              "      <th>Amount</th>\n",
              "      <th>Class</th>\n",
              "    </tr>\n",
              "  </thead>\n",
              "  <tbody>\n",
              "    <tr>\n",
              "      <th>171694</th>\n",
              "      <td>120773.0</td>\n",
              "      <td>-2.032271</td>\n",
              "      <td>-2.327549</td>\n",
              "      <td>-0.541162</td>\n",
              "      <td>-1.960303</td>\n",
              "      <td>1.346147</td>\n",
              "      <td>-2.103816</td>\n",
              "      <td>-0.648890</td>\n",
              "      <td>0.348502</td>\n",
              "      <td>-1.405983</td>\n",
              "      <td>-0.285962</td>\n",
              "      <td>0.423801</td>\n",
              "      <td>0.633656</td>\n",
              "      <td>0.270006</td>\n",
              "      <td>0.939499</td>\n",
              "      <td>-0.261129</td>\n",
              "      <td>-1.375096</td>\n",
              "      <td>-0.226125</td>\n",
              "      <td>1.372256</td>\n",
              "      <td>-0.217140</td>\n",
              "      <td>0.208691</td>\n",
              "      <td>-0.176309</td>\n",
              "      <td>-1.173100</td>\n",
              "      <td>0.086868</td>\n",
              "      <td>-0.399973</td>\n",
              "      <td>-0.034010</td>\n",
              "      <td>0.446630</td>\n",
              "      <td>-0.184358</td>\n",
              "      <td>-0.485799</td>\n",
              "      <td>70.00</td>\n",
              "      <td>0</td>\n",
              "    </tr>\n",
              "    <tr>\n",
              "      <th>18329</th>\n",
              "      <td>29391.0</td>\n",
              "      <td>0.635921</td>\n",
              "      <td>-1.610698</td>\n",
              "      <td>0.359508</td>\n",
              "      <td>-1.255057</td>\n",
              "      <td>-1.276377</td>\n",
              "      <td>0.158189</td>\n",
              "      <td>-0.494621</td>\n",
              "      <td>0.199723</td>\n",
              "      <td>1.741064</td>\n",
              "      <td>-1.157040</td>\n",
              "      <td>1.143339</td>\n",
              "      <td>1.141118</td>\n",
              "      <td>-0.438062</td>\n",
              "      <td>0.137837</td>\n",
              "      <td>0.998973</td>\n",
              "      <td>-0.360202</td>\n",
              "      <td>-0.132298</td>\n",
              "      <td>0.469608</td>\n",
              "      <td>0.638873</td>\n",
              "      <td>0.479833</td>\n",
              "      <td>0.345010</td>\n",
              "      <td>0.566226</td>\n",
              "      <td>-0.383263</td>\n",
              "      <td>-0.219055</td>\n",
              "      <td>0.301274</td>\n",
              "      <td>0.116559</td>\n",
              "      <td>-0.001501</td>\n",
              "      <td>0.057066</td>\n",
              "      <td>300.00</td>\n",
              "      <td>0</td>\n",
              "    </tr>\n",
              "    <tr>\n",
              "      <th>225324</th>\n",
              "      <td>144203.0</td>\n",
              "      <td>1.733527</td>\n",
              "      <td>0.192115</td>\n",
              "      <td>-0.596588</td>\n",
              "      <td>3.655108</td>\n",
              "      <td>0.380741</td>\n",
              "      <td>0.597431</td>\n",
              "      <td>-0.042081</td>\n",
              "      <td>0.181358</td>\n",
              "      <td>-0.979216</td>\n",
              "      <td>1.579108</td>\n",
              "      <td>0.409305</td>\n",
              "      <td>0.134631</td>\n",
              "      <td>-0.692110</td>\n",
              "      <td>0.471519</td>\n",
              "      <td>-1.253546</td>\n",
              "      <td>1.091002</td>\n",
              "      <td>-0.973255</td>\n",
              "      <td>0.098173</td>\n",
              "      <td>-1.336327</td>\n",
              "      <td>-0.158009</td>\n",
              "      <td>0.078344</td>\n",
              "      <td>0.017352</td>\n",
              "      <td>0.201248</td>\n",
              "      <td>0.645393</td>\n",
              "      <td>-0.210942</td>\n",
              "      <td>-0.154591</td>\n",
              "      <td>-0.046805</td>\n",
              "      <td>-0.034900</td>\n",
              "      <td>75.66</td>\n",
              "      <td>0</td>\n",
              "    </tr>\n",
              "    <tr>\n",
              "      <th>188136</th>\n",
              "      <td>127833.0</td>\n",
              "      <td>-0.547318</td>\n",
              "      <td>0.358981</td>\n",
              "      <td>0.347084</td>\n",
              "      <td>-0.523232</td>\n",
              "      <td>1.944033</td>\n",
              "      <td>4.610052</td>\n",
              "      <td>-0.790194</td>\n",
              "      <td>1.284724</td>\n",
              "      <td>0.688283</td>\n",
              "      <td>-0.005594</td>\n",
              "      <td>-0.478102</td>\n",
              "      <td>-0.032214</td>\n",
              "      <td>0.006629</td>\n",
              "      <td>-0.356095</td>\n",
              "      <td>1.050653</td>\n",
              "      <td>0.425499</td>\n",
              "      <td>-0.914551</td>\n",
              "      <td>0.702879</td>\n",
              "      <td>-0.657971</td>\n",
              "      <td>0.023634</td>\n",
              "      <td>0.359793</td>\n",
              "      <td>1.163048</td>\n",
              "      <td>0.053820</td>\n",
              "      <td>0.688311</td>\n",
              "      <td>-0.954145</td>\n",
              "      <td>-0.631148</td>\n",
              "      <td>0.343650</td>\n",
              "      <td>0.314031</td>\n",
              "      <td>27.96</td>\n",
              "      <td>0</td>\n",
              "    </tr>\n",
              "    <tr>\n",
              "      <th>23702</th>\n",
              "      <td>32874.0</td>\n",
              "      <td>1.262292</td>\n",
              "      <td>-0.467867</td>\n",
              "      <td>0.032072</td>\n",
              "      <td>-0.340923</td>\n",
              "      <td>-0.886434</td>\n",
              "      <td>-1.042372</td>\n",
              "      <td>-0.332843</td>\n",
              "      <td>-0.247977</td>\n",
              "      <td>-0.722160</td>\n",
              "      <td>0.076317</td>\n",
              "      <td>-0.048070</td>\n",
              "      <td>-0.290112</td>\n",
              "      <td>0.638783</td>\n",
              "      <td>-1.460332</td>\n",
              "      <td>0.004926</td>\n",
              "      <td>1.091970</td>\n",
              "      <td>1.275225</td>\n",
              "      <td>-1.309882</td>\n",
              "      <td>0.644002</td>\n",
              "      <td>0.260429</td>\n",
              "      <td>-0.034438</td>\n",
              "      <td>-0.195649</td>\n",
              "      <td>-0.076630</td>\n",
              "      <td>0.337928</td>\n",
              "      <td>0.473337</td>\n",
              "      <td>-0.310184</td>\n",
              "      <td>0.013439</td>\n",
              "      <td>0.050809</td>\n",
              "      <td>77.88</td>\n",
              "      <td>0</td>\n",
              "    </tr>\n",
              "  </tbody>\n",
              "</table>\n",
              "</div>\n",
              "    <div class=\"colab-df-buttons\">\n",
              "\n",
              "  <div class=\"colab-df-container\">\n",
              "    <button class=\"colab-df-convert\" onclick=\"convertToInteractive('df-57fcf13f-aabf-400e-b134-3d3e57194ed8')\"\n",
              "            title=\"Convert this dataframe to an interactive table.\"\n",
              "            style=\"display:none;\">\n",
              "\n",
              "  <svg xmlns=\"http://www.w3.org/2000/svg\" height=\"24px\" viewBox=\"0 -960 960 960\">\n",
              "    <path d=\"M120-120v-720h720v720H120Zm60-500h600v-160H180v160Zm220 220h160v-160H400v160Zm0 220h160v-160H400v160ZM180-400h160v-160H180v160Zm440 0h160v-160H620v160ZM180-180h160v-160H180v160Zm440 0h160v-160H620v160Z\"/>\n",
              "  </svg>\n",
              "    </button>\n",
              "\n",
              "  <style>\n",
              "    .colab-df-container {\n",
              "      display:flex;\n",
              "      gap: 12px;\n",
              "    }\n",
              "\n",
              "    .colab-df-convert {\n",
              "      background-color: #E8F0FE;\n",
              "      border: none;\n",
              "      border-radius: 50%;\n",
              "      cursor: pointer;\n",
              "      display: none;\n",
              "      fill: #1967D2;\n",
              "      height: 32px;\n",
              "      padding: 0 0 0 0;\n",
              "      width: 32px;\n",
              "    }\n",
              "\n",
              "    .colab-df-convert:hover {\n",
              "      background-color: #E2EBFA;\n",
              "      box-shadow: 0px 1px 2px rgba(60, 64, 67, 0.3), 0px 1px 3px 1px rgba(60, 64, 67, 0.15);\n",
              "      fill: #174EA6;\n",
              "    }\n",
              "\n",
              "    .colab-df-buttons div {\n",
              "      margin-bottom: 4px;\n",
              "    }\n",
              "\n",
              "    [theme=dark] .colab-df-convert {\n",
              "      background-color: #3B4455;\n",
              "      fill: #D2E3FC;\n",
              "    }\n",
              "\n",
              "    [theme=dark] .colab-df-convert:hover {\n",
              "      background-color: #434B5C;\n",
              "      box-shadow: 0px 1px 3px 1px rgba(0, 0, 0, 0.15);\n",
              "      filter: drop-shadow(0px 1px 2px rgba(0, 0, 0, 0.3));\n",
              "      fill: #FFFFFF;\n",
              "    }\n",
              "  </style>\n",
              "\n",
              "    <script>\n",
              "      const buttonEl =\n",
              "        document.querySelector('#df-57fcf13f-aabf-400e-b134-3d3e57194ed8 button.colab-df-convert');\n",
              "      buttonEl.style.display =\n",
              "        google.colab.kernel.accessAllowed ? 'block' : 'none';\n",
              "\n",
              "      async function convertToInteractive(key) {\n",
              "        const element = document.querySelector('#df-57fcf13f-aabf-400e-b134-3d3e57194ed8');\n",
              "        const dataTable =\n",
              "          await google.colab.kernel.invokeFunction('convertToInteractive',\n",
              "                                                    [key], {});\n",
              "        if (!dataTable) return;\n",
              "\n",
              "        const docLinkHtml = 'Like what you see? Visit the ' +\n",
              "          '<a target=\"_blank\" href=https://colab.research.google.com/notebooks/data_table.ipynb>data table notebook</a>'\n",
              "          + ' to learn more about interactive tables.';\n",
              "        element.innerHTML = '';\n",
              "        dataTable['output_type'] = 'display_data';\n",
              "        await google.colab.output.renderOutput(dataTable, element);\n",
              "        const docLink = document.createElement('div');\n",
              "        docLink.innerHTML = docLinkHtml;\n",
              "        element.appendChild(docLink);\n",
              "      }\n",
              "    </script>\n",
              "  </div>\n",
              "\n",
              "\n",
              "<div id=\"df-c9181997-f507-4ac0-a652-38328c4ecbf6\">\n",
              "  <button class=\"colab-df-quickchart\" onclick=\"quickchart('df-c9181997-f507-4ac0-a652-38328c4ecbf6')\"\n",
              "            title=\"Suggest charts\"\n",
              "            style=\"display:none;\">\n",
              "\n",
              "<svg xmlns=\"http://www.w3.org/2000/svg\" height=\"24px\"viewBox=\"0 0 24 24\"\n",
              "     width=\"24px\">\n",
              "    <g>\n",
              "        <path d=\"M19 3H5c-1.1 0-2 .9-2 2v14c0 1.1.9 2 2 2h14c1.1 0 2-.9 2-2V5c0-1.1-.9-2-2-2zM9 17H7v-7h2v7zm4 0h-2V7h2v10zm4 0h-2v-4h2v4z\"/>\n",
              "    </g>\n",
              "</svg>\n",
              "  </button>\n",
              "\n",
              "<style>\n",
              "  .colab-df-quickchart {\n",
              "      --bg-color: #E8F0FE;\n",
              "      --fill-color: #1967D2;\n",
              "      --hover-bg-color: #E2EBFA;\n",
              "      --hover-fill-color: #174EA6;\n",
              "      --disabled-fill-color: #AAA;\n",
              "      --disabled-bg-color: #DDD;\n",
              "  }\n",
              "\n",
              "  [theme=dark] .colab-df-quickchart {\n",
              "      --bg-color: #3B4455;\n",
              "      --fill-color: #D2E3FC;\n",
              "      --hover-bg-color: #434B5C;\n",
              "      --hover-fill-color: #FFFFFF;\n",
              "      --disabled-bg-color: #3B4455;\n",
              "      --disabled-fill-color: #666;\n",
              "  }\n",
              "\n",
              "  .colab-df-quickchart {\n",
              "    background-color: var(--bg-color);\n",
              "    border: none;\n",
              "    border-radius: 50%;\n",
              "    cursor: pointer;\n",
              "    display: none;\n",
              "    fill: var(--fill-color);\n",
              "    height: 32px;\n",
              "    padding: 0;\n",
              "    width: 32px;\n",
              "  }\n",
              "\n",
              "  .colab-df-quickchart:hover {\n",
              "    background-color: var(--hover-bg-color);\n",
              "    box-shadow: 0 1px 2px rgba(60, 64, 67, 0.3), 0 1px 3px 1px rgba(60, 64, 67, 0.15);\n",
              "    fill: var(--button-hover-fill-color);\n",
              "  }\n",
              "\n",
              "  .colab-df-quickchart-complete:disabled,\n",
              "  .colab-df-quickchart-complete:disabled:hover {\n",
              "    background-color: var(--disabled-bg-color);\n",
              "    fill: var(--disabled-fill-color);\n",
              "    box-shadow: none;\n",
              "  }\n",
              "\n",
              "  .colab-df-spinner {\n",
              "    border: 2px solid var(--fill-color);\n",
              "    border-color: transparent;\n",
              "    border-bottom-color: var(--fill-color);\n",
              "    animation:\n",
              "      spin 1s steps(1) infinite;\n",
              "  }\n",
              "\n",
              "  @keyframes spin {\n",
              "    0% {\n",
              "      border-color: transparent;\n",
              "      border-bottom-color: var(--fill-color);\n",
              "      border-left-color: var(--fill-color);\n",
              "    }\n",
              "    20% {\n",
              "      border-color: transparent;\n",
              "      border-left-color: var(--fill-color);\n",
              "      border-top-color: var(--fill-color);\n",
              "    }\n",
              "    30% {\n",
              "      border-color: transparent;\n",
              "      border-left-color: var(--fill-color);\n",
              "      border-top-color: var(--fill-color);\n",
              "      border-right-color: var(--fill-color);\n",
              "    }\n",
              "    40% {\n",
              "      border-color: transparent;\n",
              "      border-right-color: var(--fill-color);\n",
              "      border-top-color: var(--fill-color);\n",
              "    }\n",
              "    60% {\n",
              "      border-color: transparent;\n",
              "      border-right-color: var(--fill-color);\n",
              "    }\n",
              "    80% {\n",
              "      border-color: transparent;\n",
              "      border-right-color: var(--fill-color);\n",
              "      border-bottom-color: var(--fill-color);\n",
              "    }\n",
              "    90% {\n",
              "      border-color: transparent;\n",
              "      border-bottom-color: var(--fill-color);\n",
              "    }\n",
              "  }\n",
              "</style>\n",
              "\n",
              "  <script>\n",
              "    async function quickchart(key) {\n",
              "      const quickchartButtonEl =\n",
              "        document.querySelector('#' + key + ' button');\n",
              "      quickchartButtonEl.disabled = true;  // To prevent multiple clicks.\n",
              "      quickchartButtonEl.classList.add('colab-df-spinner');\n",
              "      try {\n",
              "        const charts = await google.colab.kernel.invokeFunction(\n",
              "            'suggestCharts', [key], {});\n",
              "      } catch (error) {\n",
              "        console.error('Error during call to suggestCharts:', error);\n",
              "      }\n",
              "      quickchartButtonEl.classList.remove('colab-df-spinner');\n",
              "      quickchartButtonEl.classList.add('colab-df-quickchart-complete');\n",
              "    }\n",
              "    (() => {\n",
              "      let quickchartButtonEl =\n",
              "        document.querySelector('#df-c9181997-f507-4ac0-a652-38328c4ecbf6 button');\n",
              "      quickchartButtonEl.style.display =\n",
              "        google.colab.kernel.accessAllowed ? 'block' : 'none';\n",
              "    })();\n",
              "  </script>\n",
              "</div>\n",
              "    </div>\n",
              "  </div>\n"
            ],
            "application/vnd.google.colaboratory.intrinsic+json": {
              "type": "dataframe"
            }
          },
          "metadata": {},
          "execution_count": 7
        }
      ]
    },
    {
      "cell_type": "code",
      "source": [
        "print('Number of legitimate transactions:',transactions['Class'].value_counts()[0])\n",
        "print('Number of fraudulent transactions:',transactions['Class'].value_counts()[1])\n",
        "print('Legitimate transactions:',round(transactions['Class'].value_counts()[0]/len(transactions)*100,3),'% of the dataset')\n",
        "print('Fraudulent transactions:',round(transactions['Class'].value_counts()[1]/len(transactions)*100,3),'% of the dataset')"
      ],
      "metadata": {
        "id": "J6SvoFIs4Hpw",
        "colab": {
          "base_uri": "https://localhost:8080/"
        },
        "outputId": "64517aa2-5860-4477-863f-c97093c6985f"
      },
      "execution_count": null,
      "outputs": [
        {
          "output_type": "stream",
          "name": "stdout",
          "text": [
            "Number of legitimate transactions: 284315\n",
            "Number of fraudulent transactions: 492\n",
            "Legitimate transactions: 99.827 % of the dataset\n",
            "Fraudulent transactions: 0.173 % of the dataset\n"
          ]
        }
      ]
    },
    {
      "cell_type": "code",
      "source": [
        "# Picture: Volume of legitimate transactions and fraudulent transactions"
      ],
      "metadata": {
        "id": "coYmFU2s9q1g"
      },
      "execution_count": null,
      "outputs": []
    },
    {
      "cell_type": "code",
      "source": [
        "# Picture: Value of legitimate transactions and fraudulent transactions"
      ],
      "metadata": {
        "id": "Q_Za3M1wQ8eL"
      },
      "execution_count": null,
      "outputs": []
    },
    {
      "cell_type": "markdown",
      "source": [
        "# Data Preparation"
      ],
      "metadata": {
        "id": "sCVLVXwsyfLw"
      }
    },
    {
      "cell_type": "markdown",
      "source": [
        "## feature engineering\n",
        "* 处理time和amount这两个特征，其他特征已经使用PCA处理过\n"
      ],
      "metadata": {
        "id": "9eif2-raVc7L"
      }
    },
    {
      "cell_type": "code",
      "source": [
        "transactions['Time'].describe()"
      ],
      "metadata": {
        "id": "0J7kylCzlnsU",
        "colab": {
          "base_uri": "https://localhost:8080/"
        },
        "outputId": "7ee3a2cd-a38a-4e76-fe0f-805b862a1d26"
      },
      "execution_count": 3,
      "outputs": [
        {
          "output_type": "execute_result",
          "data": {
            "text/plain": [
              "count    284807.000000\n",
              "mean      94813.859575\n",
              "std       47488.145955\n",
              "min           0.000000\n",
              "25%       54201.500000\n",
              "50%       84692.000000\n",
              "75%      139320.500000\n",
              "max      172792.000000\n",
              "Name: Time, dtype: float64"
            ]
          },
          "metadata": {},
          "execution_count": 3
        }
      ]
    },
    {
      "cell_type": "code",
      "source": [
        "transactions['Time'] = transactions['Time'] / 3600"
      ],
      "metadata": {
        "id": "LGlSSTYRiq4-"
      },
      "execution_count": 4,
      "outputs": []
    },
    {
      "cell_type": "code",
      "source": [
        "transactions['Time'].describe()"
      ],
      "metadata": {
        "colab": {
          "base_uri": "https://localhost:8080/"
        },
        "id": "-69kwoJsEc1P",
        "outputId": "5435f8f1-7149-4296-8b0d-4c58e9ddb7b5"
      },
      "execution_count": 5,
      "outputs": [
        {
          "output_type": "execute_result",
          "data": {
            "text/plain": [
              "count    284807.000000\n",
              "mean         26.337183\n",
              "std          13.191152\n",
              "min           0.000000\n",
              "25%          15.055972\n",
              "50%          23.525556\n",
              "75%          38.700139\n",
              "max          47.997778\n",
              "Name: Time, dtype: float64"
            ]
          },
          "metadata": {},
          "execution_count": 5
        }
      ]
    },
    {
      "cell_type": "markdown",
      "source": [
        "plot a histogram of transaction times, with one bin per hour"
      ],
      "metadata": {
        "id": "06_Z_QxzEQwY"
      }
    },
    {
      "cell_type": "code",
      "source": [
        "# picture: time分布\n",
        "plt.figure(figsize=(12,4), dpi=80)\n",
        "sns.histplot(transactions['Time'], bins=48, element='step', color='lightblue')\n",
        "plt.xlim([0,48])\n",
        "plt.xticks(np.arange(0,49,6), np.hstack((np.arange(0, 30, 6), np.arange(6, 30, 6))).astype(str))\n",
        "plt.axvline(x=24, color='r', linestyle='--')\n",
        "plt.xlabel('Time (hours)')\n",
        "plt.ylabel('Count')\n",
        "plt.title('Transaction Times')"
      ],
      "metadata": {
        "colab": {
          "base_uri": "https://localhost:8080/",
          "height": 125
        },
        "id": "j1kFfabjF3b4",
        "outputId": "a644ec43-1281-4572-d4ee-43c841f2c981"
      },
      "execution_count": 6,
      "outputs": [
        {
          "output_type": "execute_result",
          "data": {
            "text/plain": [
              "Text(0.5, 1.0, 'Transaction Times')"
            ]
          },
          "metadata": {},
          "execution_count": 6
        },
        {
          "output_type": "display_data",
          "data": {
            "text/plain": [
              "<Figure size 960x320 with 1 Axes>"
            ],
            "image/png": "[encoded data removed]"
          },
          "metadata": {}
        }
      ]
    },
    {
      "cell_type": "code",
      "source": [
        "transactions['Amount'].describe()"
      ],
      "metadata": {
        "colab": {
          "base_uri": "https://localhost:8080/"
        },
        "id": "nOviPGU0mRS1",
        "outputId": "a596f64d-922b-4de5-ed4a-f516dc625835"
      },
      "execution_count": 7,
      "outputs": [
        {
          "output_type": "execute_result",
          "data": {
            "text/plain": [
              "count    284807.000000\n",
              "mean         88.349619\n",
              "std         250.120109\n",
              "min           0.000000\n",
              "25%           5.600000\n",
              "50%          22.000000\n",
              "75%          77.165000\n",
              "max       25691.160000\n",
              "Name: Amount, dtype: float64"
            ]
          },
          "metadata": {},
          "execution_count": 7
        }
      ]
    },
    {
      "cell_type": "code",
      "source": [
        "# picture: amount分布\n",
        "plt.figure(figsize=(12,4), dpi=80)\n",
        "sns.histplot(transactions['Amount'], bins=300, element='step', color='lightblue')\n",
        "plt.ylabel('Count')\n",
        "plt.title('Transaction Amounts')"
      ],
      "metadata": {
        "colab": {
          "base_uri": "https://localhost:8080/",
          "height": 125
        },
        "id": "qjrn7o0_lrqR",
        "outputId": "731f5e74-dc7c-45eb-93ff-bc941e640f6e"
      },
      "execution_count": 8,
      "outputs": [
        {
          "output_type": "execute_result",
          "data": {
            "text/plain": [
              "Text(0.5, 1.0, 'Transaction Amounts')"
            ]
          },
          "metadata": {},
          "execution_count": 8
        },
        {
          "output_type": "display_data",
          "data": {
            "text/plain": [
              "<Figure size 960x320 with 1 Axes>"
            ],
            "image/png": "[encoded data removed]"
          },
          "metadata": {}
        }
      ]
    },
    {
      "cell_type": "code",
      "source": [
        "# The histogram is hard to read due to some outliers we can't see. A boxplot will show the outliers.\n",
        "plt.figure(figsize=(12,4), dpi=80)\n",
        "sns.boxplot(x=transactions['Amount'])\n",
        "plt.title('Transaction Amounts')"
      ],
      "metadata": {
        "colab": {
          "base_uri": "https://localhost:8080/",
          "height": 125
        },
        "id": "6uXJs3N9lsF9",
        "outputId": "f051e82c-5f90-4301-c824-9c561fadb3bf"
      },
      "execution_count": 9,
      "outputs": [
        {
          "output_type": "execute_result",
          "data": {
            "text/plain": [
              "Text(0.5, 1.0, 'Transaction Amounts')"
            ]
          },
          "metadata": {},
          "execution_count": 9
        },
        {
          "output_type": "display_data",
          "data": {
            "text/plain": [
              "<Figure size 960x320 with 1 Axes>"
            ],
            "image/png": "[encoded data removed]"
          },
          "metadata": {}
        }
      ]
    },
    {
      "cell_type": "markdown",
      "source": [
        "We can see there are no outliers on the left and many outliers on the right.So the amounts certainly seem right-skewed."
      ],
      "metadata": {
        "id": "-iM3kAWbLchN"
      }
    },
    {
      "cell_type": "code",
      "source": [
        "transactions['Amount'].skew()"
      ],
      "metadata": {
        "colab": {
          "base_uri": "https://localhost:8080/"
        },
        "id": "mf8tdDkrNvnF",
        "outputId": "66eb60fc-b2ac-4952-ed83-5ae29356c86a"
      },
      "execution_count": 10,
      "outputs": [
        {
          "output_type": "execute_result",
          "data": {
            "text/plain": [
              "16.977724453761024"
            ]
          },
          "metadata": {},
          "execution_count": 10
        }
      ]
    },
    {
      "cell_type": "markdown",
      "source": [
        "amount最小值是0"
      ],
      "metadata": {
        "id": "yo-cV0VKOTAk"
      }
    },
    {
      "cell_type": "code",
      "source": [
        "transactions['Amount'] = transactions['Amount'] + 1e-9"
      ],
      "metadata": {
        "id": "UR0IXHCLnBFl"
      },
      "execution_count": 11,
      "outputs": []
    },
    {
      "cell_type": "code",
      "source": [
        "transactions['Amount'], maxlog, (min_ci,max_ci) = boxcox(transactions['Amount'], alpha=0.01)"
      ],
      "metadata": {
        "id": "GNOoo7QKOrmM"
      },
      "execution_count": 12,
      "outputs": []
    },
    {
      "cell_type": "code",
      "source": [
        "maxlog"
      ],
      "metadata": {
        "colab": {
          "base_uri": "https://localhost:8080/"
        },
        "id": "CuVOXg71Si10",
        "outputId": "171dfac9-59a9-4d51-eacf-cbb5330743a7"
      },
      "execution_count": 13,
      "outputs": [
        {
          "output_type": "execute_result",
          "data": {
            "text/plain": [
              "0.13392240552999146"
            ]
          },
          "metadata": {},
          "execution_count": 13
        }
      ]
    },
    {
      "cell_type": "code",
      "source": [
        "(min_ci,max_ci)"
      ],
      "metadata": {
        "colab": {
          "base_uri": "https://localhost:8080/"
        },
        "id": "GkURgdLESlPC",
        "outputId": "fa3f3f51-b0fd-4f22-c684-9bdfbe137d38"
      },
      "execution_count": 14,
      "outputs": [
        {
          "output_type": "execute_result",
          "data": {
            "text/plain": [
              "(0.132621597858576, 0.13523057944346129)"
            ]
          },
          "metadata": {},
          "execution_count": 14
        }
      ]
    },
    {
      "cell_type": "code",
      "source": [
        "# picture: transformed amount分布\n",
        "plt.figure(figsize=(12,4), dpi=80)\n",
        "sns.histplot(transactions['Amount'], element='step', color='lightblue')\n",
        "plt.xlabel('Transformed Amount')\n",
        "plt.ylabel('Count')\n",
        "plt.title('Transaction Amounts (Box-Cox Transformed)')"
      ],
      "metadata": {
        "id": "HDQcIV1glsat",
        "colab": {
          "base_uri": "https://localhost:8080/",
          "height": 179
        },
        "outputId": "d0c385ae-0053-4565-bfaf-389b311d2525"
      },
      "execution_count": 15,
      "outputs": [
        {
          "output_type": "execute_result",
          "data": {
            "text/plain": [
              "Text(0.5, 1.0, 'Transaction Amounts (Box-Cox Transformed)')"
            ]
          },
          "metadata": {},
          "execution_count": 15
        },
        {
          "output_type": "display_data",
          "data": {
            "text/plain": [
              "<Figure size 960x320 with 1 Axes>"
            ],
            "image/png": "[encoded data removed]"
          },
          "metadata": {}
        }
      ]
    },
    {
      "cell_type": "code",
      "source": [
        "transactions['Amount'].describe()"
      ],
      "metadata": {
        "colab": {
          "base_uri": "https://localhost:8080/"
        },
        "id": "5piw2SiYTqk6",
        "outputId": "5afb23b0-5c4b-447d-cf91-f255b39c225c"
      },
      "execution_count": 16,
      "outputs": [
        {
          "output_type": "execute_result",
          "data": {
            "text/plain": [
              "count    284807.000000\n",
              "mean          3.977690\n",
              "std           2.961936\n",
              "min          -7.001590\n",
              "25%           1.937710\n",
              "50%           3.829056\n",
              "75%           5.896318\n",
              "max          21.621106\n",
              "Name: Amount, dtype: float64"
            ]
          },
          "metadata": {},
          "execution_count": 16
        }
      ]
    },
    {
      "cell_type": "code",
      "source": [
        "transactions['Amount'].skew()"
      ],
      "metadata": {
        "colab": {
          "base_uri": "https://localhost:8080/"
        },
        "id": "ywpFxZ0sT8Mi",
        "outputId": "1f0631ae-f03f-497e-f743-f247d85ee840"
      },
      "execution_count": 17,
      "outputs": [
        {
          "output_type": "execute_result",
          "data": {
            "text/plain": [
              "0.1153579081322187"
            ]
          },
          "metadata": {},
          "execution_count": 17
        }
      ]
    },
    {
      "cell_type": "markdown",
      "source": [
        "## feature selection"
      ],
      "metadata": {
        "id": "vBARCtSSVm5s"
      }
    },
    {
      "cell_type": "markdown",
      "source": [
        "### heatmap"
      ],
      "metadata": {
        "id": "s1VliyQf9Mkm"
      }
    },
    {
      "cell_type": "code",
      "source": [
        "plt.figure(figsize = (8,8))\n",
        "plt.title('features correlation plot')\n",
        "corr = transactions.corr()\n",
        "sns.heatmap(corr,xticklabels=corr.columns,yticklabels=corr.columns,linewidths=.1,cmap=\"coolwarm_r\")"
      ],
      "metadata": {
        "id": "5Xwu2E87ynt_",
        "colab": {
          "base_uri": "https://localhost:8080/",
          "height": 766
        },
        "outputId": "2d4c9800-d67e-4d1f-d4c5-b3b397067ad3"
      },
      "execution_count": null,
      "outputs": [
        {
          "output_type": "execute_result",
          "data": {
            "text/plain": [
              "<Axes: title={'center': 'features correlation plot'}>"
            ]
          },
          "metadata": {},
          "execution_count": 27
        },
        {
          "output_type": "display_data",
          "data": {
            "text/plain": [
              "<Figure size 800x800 with 2 Axes>"
            ],
            "image/png": "[encoded data removed]"
          },
          "metadata": {}
        }
      ]
    },
    {
      "cell_type": "markdown",
      "source": [
        "As expected, there is no notable correlation between features V1-V28. There are certain correlations between some of these features and Time (inverse correlation with V3) and Amount (inverse correlation with V2 and V5).\n",
        "但根据相关系数，各变量之间的相关性都不是特别强"
      ],
      "metadata": {
        "id": "Spt6OGpaiz5m"
      }
    },
    {
      "cell_type": "code",
      "source": [
        "print(corr['Time'])"
      ],
      "metadata": {
        "colab": {
          "base_uri": "https://localhost:8080/"
        },
        "id": "BKog64x16Tq-",
        "outputId": "1079374f-c458-4e51-9eef-a62f6768a568"
      },
      "execution_count": null,
      "outputs": [
        {
          "output_type": "stream",
          "name": "stdout",
          "text": [
            "Time      1.000000\n",
            "V1        0.117396\n",
            "V2       -0.010593\n",
            "V3       -0.419618\n",
            "V4       -0.105260\n",
            "V5        0.173072\n",
            "V6       -0.063016\n",
            "V7        0.084714\n",
            "V8       -0.036949\n",
            "V9       -0.008660\n",
            "V10       0.030617\n",
            "V11      -0.247689\n",
            "V12       0.124348\n",
            "V13      -0.065902\n",
            "V14      -0.098757\n",
            "V15      -0.183453\n",
            "V16       0.011903\n",
            "V17      -0.073297\n",
            "V18       0.090438\n",
            "V19       0.028975\n",
            "V20      -0.050866\n",
            "V21       0.044736\n",
            "V22       0.144059\n",
            "V23       0.051142\n",
            "V24      -0.016182\n",
            "V25      -0.233083\n",
            "V26      -0.041407\n",
            "V27      -0.005135\n",
            "V28      -0.009413\n",
            "Amount   -0.024570\n",
            "Class    -0.012323\n",
            "Name: Time, dtype: float64\n"
          ]
        }
      ]
    },
    {
      "cell_type": "code",
      "source": [
        "print(corr['Amount'])"
      ],
      "metadata": {
        "colab": {
          "base_uri": "https://localhost:8080/"
        },
        "id": "F_26znW16xAn",
        "outputId": "6855dadf-662c-4aa2-ef8e-b4e4b2e6fcc8"
      },
      "execution_count": null,
      "outputs": [
        {
          "output_type": "stream",
          "name": "stdout",
          "text": [
            "Time     -0.024570\n",
            "V1       -0.107079\n",
            "V2       -0.457156\n",
            "V3       -0.054582\n",
            "V4       -0.012634\n",
            "V5       -0.293445\n",
            "V6        0.162356\n",
            "V7        0.124091\n",
            "V8       -0.027455\n",
            "V9       -0.075074\n",
            "V10      -0.023171\n",
            "V11      -0.039688\n",
            "V12      -0.013272\n",
            "V13      -0.002986\n",
            "V14       0.024897\n",
            "V15      -0.050833\n",
            "V16      -0.093714\n",
            "V17       0.020111\n",
            "V18       0.045358\n",
            "V19      -0.015020\n",
            "V20       0.164886\n",
            "V21       0.085882\n",
            "V22       0.028710\n",
            "V23      -0.034159\n",
            "V24      -0.013889\n",
            "V25      -0.009619\n",
            "V26      -0.018573\n",
            "V27      -0.038343\n",
            "V28       0.001622\n",
            "Amount    1.000000\n",
            "Class    -0.010656\n",
            "Name: Amount, dtype: float64\n"
          ]
        }
      ]
    },
    {
      "cell_type": "code",
      "source": [
        "print(corr['Class'])"
      ],
      "metadata": {
        "colab": {
          "base_uri": "https://localhost:8080/"
        },
        "id": "WRtRF9Gv62IO",
        "outputId": "6a661eb5-c67a-477e-f03f-c18354304ece"
      },
      "execution_count": null,
      "outputs": [
        {
          "output_type": "stream",
          "name": "stdout",
          "text": [
            "Time     -0.012323\n",
            "V1       -0.101347\n",
            "V2        0.091289\n",
            "V3       -0.192961\n",
            "V4        0.133447\n",
            "V5       -0.094974\n",
            "V6       -0.043643\n",
            "V7       -0.187257\n",
            "V8        0.019875\n",
            "V9       -0.097733\n",
            "V10      -0.216883\n",
            "V11       0.154876\n",
            "V12      -0.260593\n",
            "V13      -0.004570\n",
            "V14      -0.302544\n",
            "V15      -0.004223\n",
            "V16      -0.196539\n",
            "V17      -0.326481\n",
            "V18      -0.111485\n",
            "V19       0.034783\n",
            "V20       0.020090\n",
            "V21       0.040413\n",
            "V22       0.000805\n",
            "V23      -0.002685\n",
            "V24      -0.007221\n",
            "V25       0.003308\n",
            "V26       0.004455\n",
            "V27       0.017580\n",
            "V28       0.009536\n",
            "Amount   -0.010656\n",
            "Class     1.000000\n",
            "Name: Class, dtype: float64\n"
          ]
        }
      ]
    },
    {
      "cell_type": "markdown",
      "source": [
        "Class: inverse correlation with V14 and V17，但相关性也不是特别强"
      ],
      "metadata": {
        "id": "VpkzJzPH7ZEH"
      }
    },
    {
      "cell_type": "markdown",
      "source": [
        "## train-test split"
      ],
      "metadata": {
        "id": "tf5mRERKV527"
      }
    },
    {
      "cell_type": "code",
      "source": [
        "# train-test split\n",
        "X = transactions.drop(columns='Class')\n",
        "y = transactions['Class']"
      ],
      "metadata": {
        "id": "bH6mdh7sy6aY"
      },
      "execution_count": 18,
      "outputs": []
    },
    {
      "cell_type": "code",
      "source": [
        "from sklearn.model_selection import train_test_split"
      ],
      "metadata": {
        "id": "hJqagf5V_SFO"
      },
      "execution_count": 19,
      "outputs": []
    },
    {
      "cell_type": "code",
      "source": [
        "X_train, X_test, y_train, y_test = train_test_split(X, y, test_size=0.3, random_state=1, stratify=y)\n",
        "del X, y"
      ],
      "metadata": {
        "id": "YvN7elzl_S09"
      },
      "execution_count": 20,
      "outputs": []
    },
    {
      "cell_type": "markdown",
      "source": [
        "## class imbalance"
      ],
      "metadata": {
        "id": "d0d6fuEvV93z"
      }
    },
    {
      "cell_type": "code",
      "source": [
        "# class imbalance\n",
        "from imblearn.combine import SMOTEENN\n",
        "\n",
        "# 定义SMOTEENN对象\n",
        "smote_enn = SMOTEENN(random_state=1)\n",
        "\n",
        "# 应用SMOTEENN进行类别平衡\n",
        "X_resampled, y_resampled = smote_enn.fit_resample(X_train, y_train)\n",
        "\n",
        "# 现在X_resampled和y_resampled是平衡后的特征矩阵和标签向量"
      ],
      "metadata": {
        "id": "aYpKWToQzAzA"
      },
      "execution_count": null,
      "outputs": []
    },
    {
      "cell_type": "code",
      "source": [
        "# 计算重采样后各类别的数量\n",
        "y_resampled.value_counts()"
      ],
      "metadata": {
        "colab": {
          "base_uri": "https://localhost:8080/"
        },
        "id": "uudw0Ngr8vde",
        "outputId": "198948e3-9ab7-4100-b4d5-dba91bb373ed"
      },
      "execution_count": null,
      "outputs": [
        {
          "output_type": "execute_result",
          "data": {
            "text/plain": [
              "Class\n",
              "1    199020\n",
              "0    198597\n",
              "Name: count, dtype: int64"
            ]
          },
          "metadata": {},
          "execution_count": 35
        }
      ]
    },
    {
      "cell_type": "markdown",
      "source": [
        "# Model Selection, Data Modelling and Model Evaluation"
      ],
      "metadata": {
        "id": "0ncdsz6izIAo"
      }
    },
    {
      "cell_type": "markdown",
      "source": [
        "计算 Recall Precision F1-Score MCC AUC-PR"
      ],
      "metadata": {
        "id": "L_wI8dJm6VCl"
      }
    },
    {
      "cell_type": "code",
      "source": [
        "from sklearn.model_selection import RandomizedSearchCV"
      ],
      "metadata": {
        "id": "WNmHFSMqMe7t"
      },
      "execution_count": null,
      "outputs": []
    },
    {
      "cell_type": "markdown",
      "source": [
        "## bagging"
      ],
      "metadata": {
        "id": "JhcC27B2zSba"
      }
    },
    {
      "cell_type": "code",
      "source": [
        "from sklearn.tree import DecisionTreeClassifier\n",
        "from sklearn.ensemble import BaggingClassifier\n",
        "\n",
        "base_estimator = DecisionTreeClassifier()\n",
        "param_dist = {\n",
        "    'n_estimators': [10,30,50,70],\n",
        "    'max_samples': [0.1,0.4,0.7,1.0],\n",
        "    'max_features': [0.1,0.4,0.7,1.0]\n",
        "}"
      ],
      "metadata": {
        "id": "cLBFZk6_cvx_"
      },
      "execution_count": null,
      "outputs": []
    },
    {
      "cell_type": "code",
      "source": [
        "random_search = RandomizedSearchCV(\n",
        "    estimator=BaggingClassifier(base_estimator),\n",
        "    param_distributions=param_dist,\n",
        "    n_iter=10,  # 这里设置了一个迭代次数，可以根据计算资源进行调整\n",
        "    cv=3,        # 交叉验证的折数\n",
        "    verbose=1,\n",
        "    random_state=1,\n",
        "    n_jobs=-1  # 使用所有可用的CPU核心进行并行计算\n",
        ")"
      ],
      "metadata": {
        "id": "A9MxE73wz3Uj"
      },
      "execution_count": null,
      "outputs": []
    },
    {
      "cell_type": "code",
      "source": [
        "random_search.fit(X_train, y_train)\n",
        "best_model = random_search.best_estimator_"
      ],
      "metadata": {
        "colab": {
          "base_uri": "https://localhost:8080/"
        },
        "id": "wtRbeSlpz8I6",
        "outputId": "b0bf7697-2bd8-4330-8bc3-fa7fb1a63f49"
      },
      "execution_count": null,
      "outputs": [
        {
          "output_type": "stream",
          "name": "stdout",
          "text": [
            "Fitting 3 folds for each of 10 candidates, totalling 30 fits\n"
          ]
        }
      ]
    },
    {
      "cell_type": "code",
      "source": [
        "random_search.best_params_"
      ],
      "metadata": {
        "colab": {
          "base_uri": "https://localhost:8080/"
        },
        "id": "wyZTwE3j26_R",
        "outputId": "4c47ee2d-023e-4b17-e64a-68db29798f6f"
      },
      "execution_count": null,
      "outputs": [
        {
          "output_type": "execute_result",
          "data": {
            "text/plain": [
              "{'n_estimators': 50, 'max_samples': 1.0, 'max_features': 1.0}"
            ]
          },
          "metadata": {},
          "execution_count": 43
        }
      ]
    },
    {
      "cell_type": "code",
      "source": [
        "from sklearn.metrics import classification_report, matthews_corrcoef"
      ],
      "metadata": {
        "id": "ix8_uAs5AVEn"
      },
      "execution_count": null,
      "outputs": []
    },
    {
      "cell_type": "code",
      "source": [
        "from sklearn.metrics import confusion_matrix, precision_recall_curve, auc\n",
        "y_pred = best_model.predict(X_test)"
      ],
      "metadata": {
        "id": "F1EKSnQp0Aq9"
      },
      "execution_count": null,
      "outputs": []
    },
    {
      "cell_type": "code",
      "source": [
        "print(classification_report(y_test, y_pred))"
      ],
      "metadata": {
        "colab": {
          "base_uri": "https://localhost:8080/"
        },
        "id": "JM2yZjlMBDhM",
        "outputId": "ad5ecd83-0284-4c99-d6e7-94a786a3a6a6"
      },
      "execution_count": null,
      "outputs": [
        {
          "output_type": "stream",
          "name": "stdout",
          "text": [
            "              precision    recall  f1-score   support\n",
            "\n",
            "           0       1.00      1.00      1.00     85295\n",
            "           1       0.93      0.84      0.88       148\n",
            "\n",
            "    accuracy                           1.00     85443\n",
            "   macro avg       0.96      0.92      0.94     85443\n",
            "weighted avg       1.00      1.00      1.00     85443\n",
            "\n"
          ]
        }
      ]
    },
    {
      "cell_type": "code",
      "source": [
        "mcc = matthews_corrcoef(y_test, y_pred)\n",
        "print(mcc)"
      ],
      "metadata": {
        "colab": {
          "base_uri": "https://localhost:8080/"
        },
        "id": "MHLSN9tyBOZc",
        "outputId": "950456c9-8d93-4d21-9ba8-81238958ccc5"
      },
      "execution_count": null,
      "outputs": [
        {
          "output_type": "stream",
          "name": "stdout",
          "text": [
            "0.8841356206446525\n"
          ]
        }
      ]
    },
    {
      "cell_type": "code",
      "source": [
        "# (a) 绘制混淆矩阵\n",
        "cm = confusion_matrix(y_test, y_pred)\n",
        "sns.heatmap(cm, annot=True, fmt='d', cmap='Blues')\n",
        "plt.title('Confusion Matrix')\n",
        "plt.xlabel('Predicted')\n",
        "plt.ylabel('True')"
      ],
      "metadata": {
        "colab": {
          "base_uri": "https://localhost:8080/",
          "height": 498
        },
        "id": "-fY2FaIP_WZd",
        "outputId": "19843336-c195-47e4-ffd7-c2d63f1b8696"
      },
      "execution_count": null,
      "outputs": [
        {
          "output_type": "execute_result",
          "data": {
            "text/plain": [
              "Text(46.25, 0.5, 'True')"
            ]
          },
          "metadata": {},
          "execution_count": 49
        },
        {
          "output_type": "display_data",
          "data": {
            "text/plain": [
              "<Figure size 640x480 with 2 Axes>"
            ],
            "image/png": "[encoded data removed]"
          },
          "metadata": {}
        }
      ]
    },
    {
      "cell_type": "code",
      "source": [
        "'''\n",
        "# (b) 计算Precision-Recall AUC并绘制曲线\n",
        "precision, recall, thresholds = precision_recall_curve(y_test, best_model.predict_proba(X_test)[:, 1])\n",
        "auc_pr = auc(recall, precision)\n",
        "plt.figure()\n",
        "plt.plot(recall, precision, label='Precision-Recall (area = %0.2f)' % auc_pr)\n",
        "plt.xlabel('Recall')\n",
        "plt.ylabel('Precision')\n",
        "plt.title('Precision-Recall Curve')\n",
        "plt.legend(loc=\"lower left\")\n",
        "'''"
      ],
      "metadata": {
        "id": "7NysaLEc_Yom"
      },
      "execution_count": null,
      "outputs": []
    },
    {
      "cell_type": "code",
      "source": [
        "# (c) 绘制特征重要性\n",
        "feature_importances = best_model.feature_importances_\n",
        "sorted_indices = feature_importances.argsort()[::-1]\n",
        "\n",
        "plt.figure()\n",
        "plt.title(\"Feature importances\")\n",
        "plt.bar(range(len(feature_importances)), feature_importances[sorted_indices], align='center')\n",
        "plt.xticks(range(len(feature_importances)), indices=sorted_indices)\n",
        "plt.xlabel('Feature Index')\n",
        "plt.ylabel('Importance')"
      ],
      "metadata": {
        "colab": {
          "base_uri": "https://localhost:8080/",
          "height": 215
        },
        "id": "Sy5xEDEJAGtU",
        "outputId": "c1691f67-97c9-474a-d000-0f2946b5493b"
      },
      "execution_count": null,
      "outputs": [
        {
          "output_type": "error",
          "ename": "AttributeError",
          "evalue": "'BaggingClassifier' object has no attribute 'feature_importances_'",
          "traceback": [
            "\u001b[0;31m---------------------------------------------------------------------------\u001b[0m",
            "\u001b[0;31mAttributeError\u001b[0m                            Traceback (most recent call last)",
            "\u001b[0;32m<ipython-input-50-90508bda12da>\u001b[0m in \u001b[0;36m<cell line: 2>\u001b[0;34m()\u001b[0m\n\u001b[1;32m      1\u001b[0m \u001b[0;31m# (c) 绘制特征重要性\u001b[0m\u001b[0;34m\u001b[0m\u001b[0;34m\u001b[0m\u001b[0m\n\u001b[0;32m----> 2\u001b[0;31m \u001b[0mfeature_importances\u001b[0m \u001b[0;34m=\u001b[0m \u001b[0mbest_model\u001b[0m\u001b[0;34m.\u001b[0m\u001b[0mfeature_importances_\u001b[0m\u001b[0;34m\u001b[0m\u001b[0;34m\u001b[0m\u001b[0m\n\u001b[0m\u001b[1;32m      3\u001b[0m \u001b[0msorted_indices\u001b[0m \u001b[0;34m=\u001b[0m \u001b[0mfeature_importances\u001b[0m\u001b[0;34m.\u001b[0m\u001b[0margsort\u001b[0m\u001b[0;34m(\u001b[0m\u001b[0;34m)\u001b[0m\u001b[0;34m[\u001b[0m\u001b[0;34m:\u001b[0m\u001b[0;34m:\u001b[0m\u001b[0;34m-\u001b[0m\u001b[0;36m1\u001b[0m\u001b[0;34m]\u001b[0m\u001b[0;34m\u001b[0m\u001b[0;34m\u001b[0m\u001b[0m\n\u001b[1;32m      4\u001b[0m \u001b[0;34m\u001b[0m\u001b[0m\n\u001b[1;32m      5\u001b[0m \u001b[0mplt\u001b[0m\u001b[0;34m.\u001b[0m\u001b[0mfigure\u001b[0m\u001b[0;34m(\u001b[0m\u001b[0;34m)\u001b[0m\u001b[0;34m\u001b[0m\u001b[0;34m\u001b[0m\u001b[0m\n",
            "\u001b[0;31mAttributeError\u001b[0m: 'BaggingClassifier' object has no attribute 'feature_importances_'"
          ]
        }
      ]
    },
    {
      "cell_type": "code",
      "source": [
        "from joblib import dump, load"
      ],
      "metadata": {
        "id": "Ej-zw9VyHwTJ"
      },
      "execution_count": null,
      "outputs": []
    },
    {
      "cell_type": "code",
      "source": [
        "dump(best_model, 'bagging.joblib')"
      ],
      "metadata": {
        "colab": {
          "base_uri": "https://localhost:8080/"
        },
        "id": "sKWmh3YzJEzx",
        "outputId": "b0a8a4ae-45e4-4ecc-c0c4-50b83c418fba"
      },
      "execution_count": null,
      "outputs": [
        {
          "output_type": "execute_result",
          "data": {
            "text/plain": [
              "['bagging.joblib']"
            ]
          },
          "metadata": {},
          "execution_count": 58
        }
      ]
    },
    {
      "cell_type": "code",
      "source": [
        "best_model = load('bagging.joblib')"
      ],
      "metadata": {
        "id": "W5-0tMu4JSbY"
      },
      "execution_count": null,
      "outputs": []
    },
    {
      "cell_type": "markdown",
      "source": [
        "## random forest"
      ],
      "metadata": {
        "id": "_2l9K9KnzkbZ"
      }
    },
    {
      "cell_type": "code",
      "source": [
        "from sklearn.ensemble import RandomForestClassifier\n",
        "# 定义随机森林分类器的基础估计器\n",
        "base_model = RandomForestClassifier()\n",
        "\n",
        "# 定义参数的搜索空间，使用常用的离散值\n",
        "param_dist = {\n",
        "    'n_estimators': [10,30,50,70],\n",
        "    'max_depth': [None, 10, 20, 30],\n",
        "    'min_samples_split': [2, 5, 10],\n",
        "    'min_samples_leaf': [1, 2, 4],\n",
        "    'max_features': ['auto', 'sqrt', 'log2']\n",
        "}\n",
        "\n",
        "# 创建RandomizedSearchCV实例\n",
        "random_search = RandomizedSearchCV(\n",
        "    estimator=base_model,\n",
        "    param_distributions=param_dist,\n",
        "    n_iter=30,  # 可以根据您的计算资源调整迭代次数\n",
        "    cv=5,  # 交叉验证的折数\n",
        "    verbose=1,\n",
        "    random_state=42,\n",
        "    n_jobs=-1  # 使用所有可用的CPU核心进行并行计算\n",
        ")\n"
      ],
      "metadata": {
        "id": "hpz3qbR1zMwQ"
      },
      "execution_count": null,
      "outputs": []
    },
    {
      "cell_type": "markdown",
      "source": [
        "## XGBoost"
      ],
      "metadata": {
        "id": "6BFtP-r0zoGS"
      }
    },
    {
      "cell_type": "code",
      "source": [
        "# XGBoost"
      ],
      "metadata": {
        "id": "z7esamaNzQUh"
      },
      "execution_count": null,
      "outputs": []
    },
    {
      "cell_type": "markdown",
      "source": [
        "## LightGBM"
      ],
      "metadata": {
        "id": "aRMxZnHEzqX7"
      }
    },
    {
      "cell_type": "code",
      "source": [
        "# LightGBM"
      ],
      "metadata": {
        "id": "XyjcdaM5zTrp"
      },
      "execution_count": null,
      "outputs": []
    },
    {
      "cell_type": "markdown",
      "source": [
        "## CatBoost"
      ],
      "metadata": {
        "id": "PoGkx7UNztHx"
      }
    },
    {
      "cell_type": "code",
      "source": [
        "# CatBoost"
      ],
      "metadata": {
        "id": "P3dpkP0FzXkp"
      },
      "execution_count": null,
      "outputs": []
    },
    {
      "cell_type": "markdown",
      "source": [
        "Given the class imbalance ratio, we recommend measuring the accuracy using the Area Under the Precision-Recall Curve (AUPRC). Confusion matrix accuracy is not meaningful for unbalanced classification."
      ],
      "metadata": {
        "id": "Dl-uUbsSie-Y"
      }
    }
  ]
}