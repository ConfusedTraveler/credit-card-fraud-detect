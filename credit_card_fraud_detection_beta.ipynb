{
  "cells": [
    {
      "cell_type": "markdown",
      "metadata": {
        "id": "view-in-github",
        "colab_type": "text"
      },
      "source": [
        "<a href=\"https://colab.research.google.com/github/ConfusedTraveler/credit_card_fraud_detection/blob/main/credit_card_fraud_detection_beta.ipynb\" target=\"_parent\"><img src=\"https://colab.research.google.com/assets/colab-badge.svg\" alt=\"Open In Colab\"/></a>"
      ]
    },
    {
      "cell_type": "markdown",
      "metadata": {
        "id": "QT1ch_tjZi7h"
      },
      "source": [
        "# Related Libraries and Settings"
      ]
    },
    {
      "cell_type": "code",
      "execution_count": 1,
      "metadata": {
        "id": "oa59FBdh0jNw"
      },
      "outputs": [],
      "source": [
        "import numpy as np\n",
        "import scipy as sp\n",
        "from  scipy.stats import boxcox\n",
        "import pandas as pd\n",
        "import matplotlib as mpl\n",
        "import matplotlib.pyplot as plt\n",
        "import seaborn as sns\n",
        "\n",
        "# Pandas options\n",
        "pd.set_option('display.max_colwidth', 1000, 'display.max_rows', None, 'display.max_columns', None)\n",
        "\n",
        "# Plotting options\n",
        "%matplotlib inline\n",
        "mpl.style.use('ggplot')\n",
        "sns.set(style='whitegrid')"
      ]
    },
    {
      "cell_type": "markdown",
      "metadata": {
        "id": "wtKuP_HC0J4p"
      },
      "source": [
        "# Exploratory Data Analysis\n",
        "\n",
        "to get an general understanding of the data and its underlying structure"
      ]
    },
    {
      "cell_type": "code",
      "execution_count": 2,
      "metadata": {
        "id": "D3lb4tf40O3K"
      },
      "outputs": [],
      "source": [
        "# 导入数据\n",
        "transactions = pd.read_csv('/content/drive/MyDrive/credit_card_fraud_detection/data/creditcard.csv')"
      ]
    },
    {
      "cell_type": "code",
      "execution_count": 3,
      "metadata": {
        "colab": {
          "base_uri": "https://localhost:8080/"
        },
        "id": "S88SMD7j2NE5",
        "outputId": "fa5d9505-63b3-4791-fbbe-fa433b9dabbe"
      },
      "outputs": [
        {
          "output_type": "execute_result",
          "data": {
            "text/plain": [
              "(284807, 31)"
            ]
          },
          "metadata": {},
          "execution_count": 3
        }
      ],
      "source": [
        "transactions.shape"
      ]
    },
    {
      "cell_type": "code",
      "execution_count": 4,
      "metadata": {
        "colab": {
          "base_uri": "https://localhost:8080/"
        },
        "id": "e9gF4w6Z3JQQ",
        "outputId": "aef5d561-0a4c-4cfa-ae51-74822f951a52"
      },
      "outputs": [
        {
          "output_type": "stream",
          "name": "stdout",
          "text": [
            "<class 'pandas.core.frame.DataFrame'>\n",
            "RangeIndex: 284807 entries, 0 to 284806\n",
            "Data columns (total 31 columns):\n",
            " #   Column  Non-Null Count   Dtype  \n",
            "---  ------  --------------   -----  \n",
            " 0   Time    284807 non-null  float64\n",
            " 1   V1      284807 non-null  float64\n",
            " 2   V2      284807 non-null  float64\n",
            " 3   V3      284807 non-null  float64\n",
            " 4   V4      284807 non-null  float64\n",
            " 5   V5      284807 non-null  float64\n",
            " 6   V6      284807 non-null  float64\n",
            " 7   V7      284807 non-null  float64\n",
            " 8   V8      284807 non-null  float64\n",
            " 9   V9      284807 non-null  float64\n",
            " 10  V10     284807 non-null  float64\n",
            " 11  V11     284807 non-null  float64\n",
            " 12  V12     284807 non-null  float64\n",
            " 13  V13     284807 non-null  float64\n",
            " 14  V14     284807 non-null  float64\n",
            " 15  V15     284807 non-null  float64\n",
            " 16  V16     284807 non-null  float64\n",
            " 17  V17     284807 non-null  float64\n",
            " 18  V18     284807 non-null  float64\n",
            " 19  V19     284807 non-null  float64\n",
            " 20  V20     284807 non-null  float64\n",
            " 21  V21     284807 non-null  float64\n",
            " 22  V22     284807 non-null  float64\n",
            " 23  V23     284807 non-null  float64\n",
            " 24  V24     284807 non-null  float64\n",
            " 25  V25     284807 non-null  float64\n",
            " 26  V26     284807 non-null  float64\n",
            " 27  V27     284807 non-null  float64\n",
            " 28  V28     284807 non-null  float64\n",
            " 29  Amount  284807 non-null  float64\n",
            " 30  Class   284807 non-null  int64  \n",
            "dtypes: float64(30), int64(1)\n",
            "memory usage: 67.4 MB\n"
          ]
        }
      ],
      "source": [
        "transactions.info()"
      ]
    },
    {
      "cell_type": "markdown",
      "metadata": {
        "id": "iIgHcl-FRilk"
      },
      "source": [
        "没有缺失值，都是数值特征"
      ]
    },
    {
      "cell_type": "code",
      "execution_count": 5,
      "metadata": {
        "id": "v1C1idpNNIxc"
      },
      "outputs": [],
      "source": [
        "# Does dataset has duplicates?"
      ]
    },
    {
      "cell_type": "code",
      "execution_count": 6,
      "metadata": {
        "colab": {
          "base_uri": "https://localhost:8080/",
          "height": 226
        },
        "id": "OVaXsAss34xo",
        "outputId": "e2a506b6-81a7-4a2b-b427-b44ababcf3c8"
      },
      "outputs": [
        {
          "output_type": "execute_result",
          "data": {
            "text/plain": [
              "           Time        V1        V2        V3        V4        V5        V6  \\\n",
              "45752   42482.0 -1.930625  1.725613  1.331592 -1.766558 -0.153161 -0.449922   \n",
              "84695   60423.0  0.127992 -3.252471 -0.914671 -1.692330 -1.634229 -0.067221   \n",
              "105266  69441.0  1.538910 -0.867459  0.136644 -1.207001 -1.271332 -1.035690   \n",
              "47534   43249.0 -0.811682  1.482854  0.921971  0.558934 -0.164315 -0.409506   \n",
              "50218   44394.0 -1.236375  0.064642  1.345775 -0.352830  0.239123 -1.253776   \n",
              "\n",
              "              V7        V8        V9       V10       V11       V12       V13  \\\n",
              "45752   0.618971  0.045982  0.924319  1.439838  1.917688  0.997894  0.270213   \n",
              "84695   0.124593 -0.233578  0.764602 -0.633744 -1.968701 -0.440380 -0.222475   \n",
              "105266 -0.636236 -0.354636 -1.922755  1.369675 -0.597348 -0.390016  1.044254   \n",
              "47534   0.183152  0.443286 -0.669139 -0.419392 -0.061597  0.151804  0.330906   \n",
              "50218   1.153640 -0.111383 -0.497860 -0.824790 -0.843962 -1.168389 -1.985226   \n",
              "\n",
              "             V14       V15       V16       V17       V18       V19       V20  \\\n",
              "45752  -0.531741  0.111386  0.210908 -0.753464 -0.545923 -1.014185  0.882254   \n",
              "84695   0.066206  1.240185 -1.618604 -0.141724  1.916419  0.397846  0.944038   \n",
              "105266 -0.501986 -0.467124 -1.014899  0.834032 -0.411492  0.049958 -0.314711   \n",
              "47534  -0.044646  1.616319 -0.205154  0.795626 -0.431000  0.533665  0.086535   \n",
              "50218   0.679820  0.497887  0.239321 -0.352443 -0.113926 -0.510245  0.210207   \n",
              "\n",
              "             V21       V22       V23       V24       V25       V26       V27  \\\n",
              "45752  -0.212175  0.008974 -0.008231  0.245440 -0.177015  0.715591  0.737426   \n",
              "84695  -0.060588 -1.114260 -0.782044 -0.973956  0.323690  0.034350 -0.093023   \n",
              "105266 -0.203905 -0.022003 -0.091185  0.408735  0.704353 -0.065355  0.021826   \n",
              "47534  -0.133560 -0.398416  0.092399  0.034869 -0.602976  0.202086  0.125966   \n",
              "50218   0.083206 -0.300616  0.059407  0.361635  0.549853  0.434914 -0.120360   \n",
              "\n",
              "             V28  Amount  Class  \n",
              "45752   0.308686    1.46      0  \n",
              "84695   0.129716  717.06      0  \n",
              "105266  0.010021   10.00      0  \n",
              "47534   0.147135    1.78      0  \n",
              "50218   0.060858  137.84      0  "
            ],
            "text/html": [
              "\n",
              "  <div id=\"df-4e172a6c-c7ad-4d73-9bde-f48f579942c4\" class=\"colab-df-container\">\n",
              "    <div>\n",
              "<style scoped>\n",
              "    .dataframe tbody tr th:only-of-type {\n",
              "        vertical-align: middle;\n",
              "    }\n",
              "\n",
              "    .dataframe tbody tr th {\n",
              "        vertical-align: top;\n",
              "    }\n",
              "\n",
              "    .dataframe thead th {\n",
              "        text-align: right;\n",
              "    }\n",
              "</style>\n",
              "<table border=\"1\" class=\"dataframe\">\n",
              "  <thead>\n",
              "    <tr style=\"text-align: right;\">\n",
              "      <th></th>\n",
              "      <th>Time</th>\n",
              "      <th>V1</th>\n",
              "      <th>V2</th>\n",
              "      <th>V3</th>\n",
              "      <th>V4</th>\n",
              "      <th>V5</th>\n",
              "      <th>V6</th>\n",
              "      <th>V7</th>\n",
              "      <th>V8</th>\n",
              "      <th>V9</th>\n",
              "      <th>V10</th>\n",
              "      <th>V11</th>\n",
              "      <th>V12</th>\n",
              "      <th>V13</th>\n",
              "      <th>V14</th>\n",
              "      <th>V15</th>\n",
              "      <th>V16</th>\n",
              "      <th>V17</th>\n",
              "      <th>V18</th>\n",
              "      <th>V19</th>\n",
              "      <th>V20</th>\n",
              "      <th>V21</th>\n",
              "      <th>V22</th>\n",
              "      <th>V23</th>\n",
              "      <th>V24</th>\n",
              "      <th>V25</th>\n",
              "      <th>V26</th>\n",
              "      <th>V27</th>\n",
              "      <th>V28</th>\n",
              "      <th>Amount</th>\n",
              "      <th>Class</th>\n",
              "    </tr>\n",
              "  </thead>\n",
              "  <tbody>\n",
              "    <tr>\n",
              "      <th>45752</th>\n",
              "      <td>42482.0</td>\n",
              "      <td>-1.930625</td>\n",
              "      <td>1.725613</td>\n",
              "      <td>1.331592</td>\n",
              "      <td>-1.766558</td>\n",
              "      <td>-0.153161</td>\n",
              "      <td>-0.449922</td>\n",
              "      <td>0.618971</td>\n",
              "      <td>0.045982</td>\n",
              "      <td>0.924319</td>\n",
              "      <td>1.439838</td>\n",
              "      <td>1.917688</td>\n",
              "      <td>0.997894</td>\n",
              "      <td>0.270213</td>\n",
              "      <td>-0.531741</td>\n",
              "      <td>0.111386</td>\n",
              "      <td>0.210908</td>\n",
              "      <td>-0.753464</td>\n",
              "      <td>-0.545923</td>\n",
              "      <td>-1.014185</td>\n",
              "      <td>0.882254</td>\n",
              "      <td>-0.212175</td>\n",
              "      <td>0.008974</td>\n",
              "      <td>-0.008231</td>\n",
              "      <td>0.245440</td>\n",
              "      <td>-0.177015</td>\n",
              "      <td>0.715591</td>\n",
              "      <td>0.737426</td>\n",
              "      <td>0.308686</td>\n",
              "      <td>1.46</td>\n",
              "      <td>0</td>\n",
              "    </tr>\n",
              "    <tr>\n",
              "      <th>84695</th>\n",
              "      <td>60423.0</td>\n",
              "      <td>0.127992</td>\n",
              "      <td>-3.252471</td>\n",
              "      <td>-0.914671</td>\n",
              "      <td>-1.692330</td>\n",
              "      <td>-1.634229</td>\n",
              "      <td>-0.067221</td>\n",
              "      <td>0.124593</td>\n",
              "      <td>-0.233578</td>\n",
              "      <td>0.764602</td>\n",
              "      <td>-0.633744</td>\n",
              "      <td>-1.968701</td>\n",
              "      <td>-0.440380</td>\n",
              "      <td>-0.222475</td>\n",
              "      <td>0.066206</td>\n",
              "      <td>1.240185</td>\n",
              "      <td>-1.618604</td>\n",
              "      <td>-0.141724</td>\n",
              "      <td>1.916419</td>\n",
              "      <td>0.397846</td>\n",
              "      <td>0.944038</td>\n",
              "      <td>-0.060588</td>\n",
              "      <td>-1.114260</td>\n",
              "      <td>-0.782044</td>\n",
              "      <td>-0.973956</td>\n",
              "      <td>0.323690</td>\n",
              "      <td>0.034350</td>\n",
              "      <td>-0.093023</td>\n",
              "      <td>0.129716</td>\n",
              "      <td>717.06</td>\n",
              "      <td>0</td>\n",
              "    </tr>\n",
              "    <tr>\n",
              "      <th>105266</th>\n",
              "      <td>69441.0</td>\n",
              "      <td>1.538910</td>\n",
              "      <td>-0.867459</td>\n",
              "      <td>0.136644</td>\n",
              "      <td>-1.207001</td>\n",
              "      <td>-1.271332</td>\n",
              "      <td>-1.035690</td>\n",
              "      <td>-0.636236</td>\n",
              "      <td>-0.354636</td>\n",
              "      <td>-1.922755</td>\n",
              "      <td>1.369675</td>\n",
              "      <td>-0.597348</td>\n",
              "      <td>-0.390016</td>\n",
              "      <td>1.044254</td>\n",
              "      <td>-0.501986</td>\n",
              "      <td>-0.467124</td>\n",
              "      <td>-1.014899</td>\n",
              "      <td>0.834032</td>\n",
              "      <td>-0.411492</td>\n",
              "      <td>0.049958</td>\n",
              "      <td>-0.314711</td>\n",
              "      <td>-0.203905</td>\n",
              "      <td>-0.022003</td>\n",
              "      <td>-0.091185</td>\n",
              "      <td>0.408735</td>\n",
              "      <td>0.704353</td>\n",
              "      <td>-0.065355</td>\n",
              "      <td>0.021826</td>\n",
              "      <td>0.010021</td>\n",
              "      <td>10.00</td>\n",
              "      <td>0</td>\n",
              "    </tr>\n",
              "    <tr>\n",
              "      <th>47534</th>\n",
              "      <td>43249.0</td>\n",
              "      <td>-0.811682</td>\n",
              "      <td>1.482854</td>\n",
              "      <td>0.921971</td>\n",
              "      <td>0.558934</td>\n",
              "      <td>-0.164315</td>\n",
              "      <td>-0.409506</td>\n",
              "      <td>0.183152</td>\n",
              "      <td>0.443286</td>\n",
              "      <td>-0.669139</td>\n",
              "      <td>-0.419392</td>\n",
              "      <td>-0.061597</td>\n",
              "      <td>0.151804</td>\n",
              "      <td>0.330906</td>\n",
              "      <td>-0.044646</td>\n",
              "      <td>1.616319</td>\n",
              "      <td>-0.205154</td>\n",
              "      <td>0.795626</td>\n",
              "      <td>-0.431000</td>\n",
              "      <td>0.533665</td>\n",
              "      <td>0.086535</td>\n",
              "      <td>-0.133560</td>\n",
              "      <td>-0.398416</td>\n",
              "      <td>0.092399</td>\n",
              "      <td>0.034869</td>\n",
              "      <td>-0.602976</td>\n",
              "      <td>0.202086</td>\n",
              "      <td>0.125966</td>\n",
              "      <td>0.147135</td>\n",
              "      <td>1.78</td>\n",
              "      <td>0</td>\n",
              "    </tr>\n",
              "    <tr>\n",
              "      <th>50218</th>\n",
              "      <td>44394.0</td>\n",
              "      <td>-1.236375</td>\n",
              "      <td>0.064642</td>\n",
              "      <td>1.345775</td>\n",
              "      <td>-0.352830</td>\n",
              "      <td>0.239123</td>\n",
              "      <td>-1.253776</td>\n",
              "      <td>1.153640</td>\n",
              "      <td>-0.111383</td>\n",
              "      <td>-0.497860</td>\n",
              "      <td>-0.824790</td>\n",
              "      <td>-0.843962</td>\n",
              "      <td>-1.168389</td>\n",
              "      <td>-1.985226</td>\n",
              "      <td>0.679820</td>\n",
              "      <td>0.497887</td>\n",
              "      <td>0.239321</td>\n",
              "      <td>-0.352443</td>\n",
              "      <td>-0.113926</td>\n",
              "      <td>-0.510245</td>\n",
              "      <td>0.210207</td>\n",
              "      <td>0.083206</td>\n",
              "      <td>-0.300616</td>\n",
              "      <td>0.059407</td>\n",
              "      <td>0.361635</td>\n",
              "      <td>0.549853</td>\n",
              "      <td>0.434914</td>\n",
              "      <td>-0.120360</td>\n",
              "      <td>0.060858</td>\n",
              "      <td>137.84</td>\n",
              "      <td>0</td>\n",
              "    </tr>\n",
              "  </tbody>\n",
              "</table>\n",
              "</div>\n",
              "    <div class=\"colab-df-buttons\">\n",
              "\n",
              "  <div class=\"colab-df-container\">\n",
              "    <button class=\"colab-df-convert\" onclick=\"convertToInteractive('df-4e172a6c-c7ad-4d73-9bde-f48f579942c4')\"\n",
              "            title=\"Convert this dataframe to an interactive table.\"\n",
              "            style=\"display:none;\">\n",
              "\n",
              "  <svg xmlns=\"http://www.w3.org/2000/svg\" height=\"24px\" viewBox=\"0 -960 960 960\">\n",
              "    <path d=\"M120-120v-720h720v720H120Zm60-500h600v-160H180v160Zm220 220h160v-160H400v160Zm0 220h160v-160H400v160ZM180-400h160v-160H180v160Zm440 0h160v-160H620v160ZM180-180h160v-160H180v160Zm440 0h160v-160H620v160Z\"/>\n",
              "  </svg>\n",
              "    </button>\n",
              "\n",
              "  <style>\n",
              "    .colab-df-container {\n",
              "      display:flex;\n",
              "      gap: 12px;\n",
              "    }\n",
              "\n",
              "    .colab-df-convert {\n",
              "      background-color: #E8F0FE;\n",
              "      border: none;\n",
              "      border-radius: 50%;\n",
              "      cursor: pointer;\n",
              "      display: none;\n",
              "      fill: #1967D2;\n",
              "      height: 32px;\n",
              "      padding: 0 0 0 0;\n",
              "      width: 32px;\n",
              "    }\n",
              "\n",
              "    .colab-df-convert:hover {\n",
              "      background-color: #E2EBFA;\n",
              "      box-shadow: 0px 1px 2px rgba(60, 64, 67, 0.3), 0px 1px 3px 1px rgba(60, 64, 67, 0.15);\n",
              "      fill: #174EA6;\n",
              "    }\n",
              "\n",
              "    .colab-df-buttons div {\n",
              "      margin-bottom: 4px;\n",
              "    }\n",
              "\n",
              "    [theme=dark] .colab-df-convert {\n",
              "      background-color: #3B4455;\n",
              "      fill: #D2E3FC;\n",
              "    }\n",
              "\n",
              "    [theme=dark] .colab-df-convert:hover {\n",
              "      background-color: #434B5C;\n",
              "      box-shadow: 0px 1px 3px 1px rgba(0, 0, 0, 0.15);\n",
              "      filter: drop-shadow(0px 1px 2px rgba(0, 0, 0, 0.3));\n",
              "      fill: #FFFFFF;\n",
              "    }\n",
              "  </style>\n",
              "\n",
              "    <script>\n",
              "      const buttonEl =\n",
              "        document.querySelector('#df-4e172a6c-c7ad-4d73-9bde-f48f579942c4 button.colab-df-convert');\n",
              "      buttonEl.style.display =\n",
              "        google.colab.kernel.accessAllowed ? 'block' : 'none';\n",
              "\n",
              "      async function convertToInteractive(key) {\n",
              "        const element = document.querySelector('#df-4e172a6c-c7ad-4d73-9bde-f48f579942c4');\n",
              "        const dataTable =\n",
              "          await google.colab.kernel.invokeFunction('convertToInteractive',\n",
              "                                                    [key], {});\n",
              "        if (!dataTable) return;\n",
              "\n",
              "        const docLinkHtml = 'Like what you see? Visit the ' +\n",
              "          '<a target=\"_blank\" href=https://colab.research.google.com/notebooks/data_table.ipynb>data table notebook</a>'\n",
              "          + ' to learn more about interactive tables.';\n",
              "        element.innerHTML = '';\n",
              "        dataTable['output_type'] = 'display_data';\n",
              "        await google.colab.output.renderOutput(dataTable, element);\n",
              "        const docLink = document.createElement('div');\n",
              "        docLink.innerHTML = docLinkHtml;\n",
              "        element.appendChild(docLink);\n",
              "      }\n",
              "    </script>\n",
              "  </div>\n",
              "\n",
              "\n",
              "<div id=\"df-1bb906c7-04ac-4eba-8de5-91d5ca0d2b01\">\n",
              "  <button class=\"colab-df-quickchart\" onclick=\"quickchart('df-1bb906c7-04ac-4eba-8de5-91d5ca0d2b01')\"\n",
              "            title=\"Suggest charts\"\n",
              "            style=\"display:none;\">\n",
              "\n",
              "<svg xmlns=\"http://www.w3.org/2000/svg\" height=\"24px\"viewBox=\"0 0 24 24\"\n",
              "     width=\"24px\">\n",
              "    <g>\n",
              "        <path d=\"M19 3H5c-1.1 0-2 .9-2 2v14c0 1.1.9 2 2 2h14c1.1 0 2-.9 2-2V5c0-1.1-.9-2-2-2zM9 17H7v-7h2v7zm4 0h-2V7h2v10zm4 0h-2v-4h2v4z\"/>\n",
              "    </g>\n",
              "</svg>\n",
              "  </button>\n",
              "\n",
              "<style>\n",
              "  .colab-df-quickchart {\n",
              "      --bg-color: #E8F0FE;\n",
              "      --fill-color: #1967D2;\n",
              "      --hover-bg-color: #E2EBFA;\n",
              "      --hover-fill-color: #174EA6;\n",
              "      --disabled-fill-color: #AAA;\n",
              "      --disabled-bg-color: #DDD;\n",
              "  }\n",
              "\n",
              "  [theme=dark] .colab-df-quickchart {\n",
              "      --bg-color: #3B4455;\n",
              "      --fill-color: #D2E3FC;\n",
              "      --hover-bg-color: #434B5C;\n",
              "      --hover-fill-color: #FFFFFF;\n",
              "      --disabled-bg-color: #3B4455;\n",
              "      --disabled-fill-color: #666;\n",
              "  }\n",
              "\n",
              "  .colab-df-quickchart {\n",
              "    background-color: var(--bg-color);\n",
              "    border: none;\n",
              "    border-radius: 50%;\n",
              "    cursor: pointer;\n",
              "    display: none;\n",
              "    fill: var(--fill-color);\n",
              "    height: 32px;\n",
              "    padding: 0;\n",
              "    width: 32px;\n",
              "  }\n",
              "\n",
              "  .colab-df-quickchart:hover {\n",
              "    background-color: var(--hover-bg-color);\n",
              "    box-shadow: 0 1px 2px rgba(60, 64, 67, 0.3), 0 1px 3px 1px rgba(60, 64, 67, 0.15);\n",
              "    fill: var(--button-hover-fill-color);\n",
              "  }\n",
              "\n",
              "  .colab-df-quickchart-complete:disabled,\n",
              "  .colab-df-quickchart-complete:disabled:hover {\n",
              "    background-color: var(--disabled-bg-color);\n",
              "    fill: var(--disabled-fill-color);\n",
              "    box-shadow: none;\n",
              "  }\n",
              "\n",
              "  .colab-df-spinner {\n",
              "    border: 2px solid var(--fill-color);\n",
              "    border-color: transparent;\n",
              "    border-bottom-color: var(--fill-color);\n",
              "    animation:\n",
              "      spin 1s steps(1) infinite;\n",
              "  }\n",
              "\n",
              "  @keyframes spin {\n",
              "    0% {\n",
              "      border-color: transparent;\n",
              "      border-bottom-color: var(--fill-color);\n",
              "      border-left-color: var(--fill-color);\n",
              "    }\n",
              "    20% {\n",
              "      border-color: transparent;\n",
              "      border-left-color: var(--fill-color);\n",
              "      border-top-color: var(--fill-color);\n",
              "    }\n",
              "    30% {\n",
              "      border-color: transparent;\n",
              "      border-left-color: var(--fill-color);\n",
              "      border-top-color: var(--fill-color);\n",
              "      border-right-color: var(--fill-color);\n",
              "    }\n",
              "    40% {\n",
              "      border-color: transparent;\n",
              "      border-right-color: var(--fill-color);\n",
              "      border-top-color: var(--fill-color);\n",
              "    }\n",
              "    60% {\n",
              "      border-color: transparent;\n",
              "      border-right-color: var(--fill-color);\n",
              "    }\n",
              "    80% {\n",
              "      border-color: transparent;\n",
              "      border-right-color: var(--fill-color);\n",
              "      border-bottom-color: var(--fill-color);\n",
              "    }\n",
              "    90% {\n",
              "      border-color: transparent;\n",
              "      border-bottom-color: var(--fill-color);\n",
              "    }\n",
              "  }\n",
              "</style>\n",
              "\n",
              "  <script>\n",
              "    async function quickchart(key) {\n",
              "      const quickchartButtonEl =\n",
              "        document.querySelector('#' + key + ' button');\n",
              "      quickchartButtonEl.disabled = true;  // To prevent multiple clicks.\n",
              "      quickchartButtonEl.classList.add('colab-df-spinner');\n",
              "      try {\n",
              "        const charts = await google.colab.kernel.invokeFunction(\n",
              "            'suggestCharts', [key], {});\n",
              "      } catch (error) {\n",
              "        console.error('Error during call to suggestCharts:', error);\n",
              "      }\n",
              "      quickchartButtonEl.classList.remove('colab-df-spinner');\n",
              "      quickchartButtonEl.classList.add('colab-df-quickchart-complete');\n",
              "    }\n",
              "    (() => {\n",
              "      let quickchartButtonEl =\n",
              "        document.querySelector('#df-1bb906c7-04ac-4eba-8de5-91d5ca0d2b01 button');\n",
              "      quickchartButtonEl.style.display =\n",
              "        google.colab.kernel.accessAllowed ? 'block' : 'none';\n",
              "    })();\n",
              "  </script>\n",
              "</div>\n",
              "    </div>\n",
              "  </div>\n"
            ],
            "application/vnd.google.colaboratory.intrinsic+json": {
              "type": "dataframe"
            }
          },
          "metadata": {},
          "execution_count": 6
        }
      ],
      "source": [
        "transactions.sample(5)"
      ]
    },
    {
      "cell_type": "code",
      "execution_count": 7,
      "metadata": {
        "colab": {
          "base_uri": "https://localhost:8080/"
        },
        "id": "J6SvoFIs4Hpw",
        "outputId": "afd92f5e-1237-4a12-8254-c6a8563e4845"
      },
      "outputs": [
        {
          "output_type": "stream",
          "name": "stdout",
          "text": [
            "Number of legitimate transactions: 284315\n",
            "Number of fraudulent transactions: 492\n",
            "Legitimate transactions: 99.827 % of the dataset\n",
            "Fraudulent transactions: 0.173 % of the dataset\n"
          ]
        }
      ],
      "source": [
        "print('Number of legitimate transactions:',transactions['Class'].value_counts()[0])\n",
        "print('Number of fraudulent transactions:',transactions['Class'].value_counts()[1])\n",
        "print('Legitimate transactions:',round(transactions['Class'].value_counts()[0]/len(transactions)*100,3),'% of the dataset')\n",
        "print('Fraudulent transactions:',round(transactions['Class'].value_counts()[1]/len(transactions)*100,3),'% of the dataset')"
      ]
    },
    {
      "cell_type": "code",
      "execution_count": 8,
      "metadata": {
        "id": "coYmFU2s9q1g"
      },
      "outputs": [],
      "source": [
        "# Picture: Volume of legitimate transactions and fraudulent transactions"
      ]
    },
    {
      "cell_type": "code",
      "execution_count": 9,
      "metadata": {
        "id": "Q_Za3M1wQ8eL"
      },
      "outputs": [],
      "source": [
        "# Picture: Value of legitimate transactions and fraudulent transactions"
      ]
    },
    {
      "cell_type": "markdown",
      "metadata": {
        "id": "sCVLVXwsyfLw"
      },
      "source": [
        "# Data Preparation"
      ]
    },
    {
      "cell_type": "markdown",
      "metadata": {
        "id": "9eif2-raVc7L"
      },
      "source": [
        "## feature engineering\n",
        "* 处理time和amount这两个特征，其他特征已经使用PCA处理过\n"
      ]
    },
    {
      "cell_type": "code",
      "execution_count": 10,
      "metadata": {
        "colab": {
          "base_uri": "https://localhost:8080/"
        },
        "id": "0J7kylCzlnsU",
        "outputId": "ec640e75-2235-42ce-c4a9-333c1a88e8c3"
      },
      "outputs": [
        {
          "output_type": "execute_result",
          "data": {
            "text/plain": [
              "count    284807.000000\n",
              "mean      94813.859575\n",
              "std       47488.145955\n",
              "min           0.000000\n",
              "25%       54201.500000\n",
              "50%       84692.000000\n",
              "75%      139320.500000\n",
              "max      172792.000000\n",
              "Name: Time, dtype: float64"
            ]
          },
          "metadata": {},
          "execution_count": 10
        }
      ],
      "source": [
        "transactions['Time'].describe()"
      ]
    },
    {
      "cell_type": "code",
      "execution_count": 11,
      "metadata": {
        "id": "LGlSSTYRiq4-"
      },
      "outputs": [],
      "source": [
        "transactions['Time'] = transactions['Time'] / 3600"
      ]
    },
    {
      "cell_type": "code",
      "execution_count": 12,
      "metadata": {
        "colab": {
          "base_uri": "https://localhost:8080/"
        },
        "id": "-69kwoJsEc1P",
        "outputId": "c47c14e0-6ca6-4eff-e535-9a01bc4ecbf9"
      },
      "outputs": [
        {
          "output_type": "execute_result",
          "data": {
            "text/plain": [
              "count    284807.000000\n",
              "mean         26.337183\n",
              "std          13.191152\n",
              "min           0.000000\n",
              "25%          15.055972\n",
              "50%          23.525556\n",
              "75%          38.700139\n",
              "max          47.997778\n",
              "Name: Time, dtype: float64"
            ]
          },
          "metadata": {},
          "execution_count": 12
        }
      ],
      "source": [
        "transactions['Time'].describe()"
      ]
    },
    {
      "cell_type": "markdown",
      "metadata": {
        "id": "06_Z_QxzEQwY"
      },
      "source": [
        "plot a histogram of transaction times, with one bin per hour"
      ]
    },
    {
      "cell_type": "code",
      "execution_count": 13,
      "metadata": {
        "colab": {
          "base_uri": "https://localhost:8080/",
          "height": 125
        },
        "id": "j1kFfabjF3b4",
        "outputId": "d9d55000-2a9d-4987-db2c-5bb21dec43e0"
      },
      "outputs": [
        {
          "output_type": "execute_result",
          "data": {
            "text/plain": [
              "Text(0.5, 1.0, 'Transaction Times')"
            ]
          },
          "metadata": {},
          "execution_count": 13
        },
        {
          "output_type": "display_data",
          "data": {
            "text/plain": [
              "<Figure size 960x320 with 1 Axes>"
            ],
            "image/png": "[encoded data removed]"
          },
          "metadata": {}
        }
      ],
      "source": [
        "# picture: time分布\n",
        "plt.figure(figsize=(12,4), dpi=80)\n",
        "sns.histplot(transactions['Time'], bins=48, element='step', color='lightblue')\n",
        "plt.xlim([0,48])\n",
        "plt.xticks(np.arange(0,49,6), np.hstack((np.arange(0, 30, 6), np.arange(6, 30, 6))).astype(str))\n",
        "plt.axvline(x=24, color='r', linestyle='--')\n",
        "plt.xlabel('Time (hours)')\n",
        "plt.ylabel('Count')\n",
        "plt.title('Transaction Times')"
      ]
    },
    {
      "cell_type": "code",
      "execution_count": 14,
      "metadata": {
        "colab": {
          "base_uri": "https://localhost:8080/"
        },
        "id": "nOviPGU0mRS1",
        "outputId": "e22f60c1-6a7f-4dfd-daed-30c282d4a111"
      },
      "outputs": [
        {
          "output_type": "execute_result",
          "data": {
            "text/plain": [
              "count    284807.000000\n",
              "mean         88.349619\n",
              "std         250.120109\n",
              "min           0.000000\n",
              "25%           5.600000\n",
              "50%          22.000000\n",
              "75%          77.165000\n",
              "max       25691.160000\n",
              "Name: Amount, dtype: float64"
            ]
          },
          "metadata": {},
          "execution_count": 14
        }
      ],
      "source": [
        "transactions['Amount'].describe()"
      ]
    },
    {
      "cell_type": "code",
      "execution_count": 15,
      "metadata": {
        "colab": {
          "base_uri": "https://localhost:8080/",
          "height": 125
        },
        "id": "qjrn7o0_lrqR",
        "outputId": "fb013793-d9b7-439e-b6c5-da752d8f6bfd"
      },
      "outputs": [
        {
          "output_type": "execute_result",
          "data": {
            "text/plain": [
              "Text(0.5, 1.0, 'Transaction Amounts')"
            ]
          },
          "metadata": {},
          "execution_count": 15
        },
        {
          "output_type": "display_data",
          "data": {
            "text/plain": [
              "<Figure size 960x320 with 1 Axes>"
            ],
            "image/png": "[encoded data removed]"
          },
          "metadata": {}
        }
      ],
      "source": [
        "# picture: amount分布\n",
        "plt.figure(figsize=(12,4), dpi=80)\n",
        "sns.histplot(transactions['Amount'], bins=300, element='step', color='lightblue')\n",
        "plt.ylabel('Count')\n",
        "plt.title('Transaction Amounts')"
      ]
    },
    {
      "cell_type": "code",
      "execution_count": 16,
      "metadata": {
        "colab": {
          "base_uri": "https://localhost:8080/",
          "height": 125
        },
        "id": "6uXJs3N9lsF9",
        "outputId": "b64ecb32-169c-472f-fa1f-ea19227b560c"
      },
      "outputs": [
        {
          "output_type": "execute_result",
          "data": {
            "text/plain": [
              "Text(0.5, 1.0, 'Transaction Amounts')"
            ]
          },
          "metadata": {},
          "execution_count": 16
        },
        {
          "output_type": "display_data",
          "data": {
            "text/plain": [
              "<Figure size 960x320 with 1 Axes>"
            ],
            "image/png": "[encoded data removed]"
          },
          "metadata": {}
        }
      ],
      "source": [
        "# The histogram is hard to read due to some outliers we can't see. A boxplot will show the outliers.\n",
        "plt.figure(figsize=(12,4), dpi=80)\n",
        "sns.boxplot(x=transactions['Amount'])\n",
        "plt.title('Transaction Amounts')"
      ]
    },
    {
      "cell_type": "markdown",
      "metadata": {
        "id": "-iM3kAWbLchN"
      },
      "source": [
        "We can see there are no outliers on the left and many outliers on the right.So the amounts certainly seem right-skewed."
      ]
    },
    {
      "cell_type": "code",
      "execution_count": 17,
      "metadata": {
        "colab": {
          "base_uri": "https://localhost:8080/"
        },
        "id": "mf8tdDkrNvnF",
        "outputId": "fe957cd5-d18d-41bf-cc1d-bf5bbfa9e67e"
      },
      "outputs": [
        {
          "output_type": "execute_result",
          "data": {
            "text/plain": [
              "16.977724453761024"
            ]
          },
          "metadata": {},
          "execution_count": 17
        }
      ],
      "source": [
        "transactions['Amount'].skew()"
      ]
    },
    {
      "cell_type": "markdown",
      "metadata": {
        "id": "yo-cV0VKOTAk"
      },
      "source": [
        "amount最小值是0"
      ]
    },
    {
      "cell_type": "code",
      "execution_count": 18,
      "metadata": {
        "id": "UR0IXHCLnBFl"
      },
      "outputs": [],
      "source": [
        "transactions['Amount'] = transactions['Amount'] + 1e-9"
      ]
    },
    {
      "cell_type": "code",
      "execution_count": 19,
      "metadata": {
        "id": "GNOoo7QKOrmM"
      },
      "outputs": [],
      "source": [
        "transactions['Amount'], maxlog, (min_ci,max_ci) = boxcox(transactions['Amount'], alpha=0.01)"
      ]
    },
    {
      "cell_type": "code",
      "execution_count": 20,
      "metadata": {
        "colab": {
          "base_uri": "https://localhost:8080/"
        },
        "id": "CuVOXg71Si10",
        "outputId": "ca6eed19-530e-49a8-fc0e-f27b5418864a"
      },
      "outputs": [
        {
          "output_type": "execute_result",
          "data": {
            "text/plain": [
              "0.13392240552999146"
            ]
          },
          "metadata": {},
          "execution_count": 20
        }
      ],
      "source": [
        "maxlog"
      ]
    },
    {
      "cell_type": "code",
      "execution_count": 21,
      "metadata": {
        "colab": {
          "base_uri": "https://localhost:8080/"
        },
        "id": "GkURgdLESlPC",
        "outputId": "f0f53403-792e-4b2f-97b9-7a81d8f05e7b"
      },
      "outputs": [
        {
          "output_type": "execute_result",
          "data": {
            "text/plain": [
              "(0.132621597858576, 0.13523057944346129)"
            ]
          },
          "metadata": {},
          "execution_count": 21
        }
      ],
      "source": [
        "(min_ci,max_ci)"
      ]
    },
    {
      "cell_type": "code",
      "execution_count": 22,
      "metadata": {
        "colab": {
          "base_uri": "https://localhost:8080/",
          "height": 179
        },
        "id": "HDQcIV1glsat",
        "outputId": "a2ace581-4401-45e3-f345-68616234a174"
      },
      "outputs": [
        {
          "output_type": "execute_result",
          "data": {
            "text/plain": [
              "Text(0.5, 1.0, 'Transaction Amounts (Box-Cox Transformed)')"
            ]
          },
          "metadata": {},
          "execution_count": 22
        },
        {
          "output_type": "display_data",
          "data": {
            "text/plain": [
              "<Figure size 960x320 with 1 Axes>"
            ],
            "image/png": "[encoded data removed]"
          },
          "metadata": {}
        }
      ],
      "source": [
        "# picture: transformed amount分布\n",
        "plt.figure(figsize=(12,4), dpi=80)\n",
        "sns.histplot(transactions['Amount'], element='step', color='lightblue')\n",
        "plt.xlabel('Transformed Amount')\n",
        "plt.ylabel('Count')\n",
        "plt.title('Transaction Amounts (Box-Cox Transformed)')"
      ]
    },
    {
      "cell_type": "code",
      "execution_count": 23,
      "metadata": {
        "colab": {
          "base_uri": "https://localhost:8080/"
        },
        "id": "5piw2SiYTqk6",
        "outputId": "de973d5f-e1a8-4c86-8765-56739d60b832"
      },
      "outputs": [
        {
          "output_type": "execute_result",
          "data": {
            "text/plain": [
              "count    284807.000000\n",
              "mean          3.977690\n",
              "std           2.961936\n",
              "min          -7.001590\n",
              "25%           1.937710\n",
              "50%           3.829056\n",
              "75%           5.896318\n",
              "max          21.621106\n",
              "Name: Amount, dtype: float64"
            ]
          },
          "metadata": {},
          "execution_count": 23
        }
      ],
      "source": [
        "transactions['Amount'].describe()"
      ]
    },
    {
      "cell_type": "code",
      "execution_count": 24,
      "metadata": {
        "colab": {
          "base_uri": "https://localhost:8080/"
        },
        "id": "ywpFxZ0sT8Mi",
        "outputId": "0f29b27d-a31a-457f-fe5c-d723b0267fd1"
      },
      "outputs": [
        {
          "output_type": "execute_result",
          "data": {
            "text/plain": [
              "0.1153579081322187"
            ]
          },
          "metadata": {},
          "execution_count": 24
        }
      ],
      "source": [
        "transactions['Amount'].skew()"
      ]
    },
    {
      "cell_type": "markdown",
      "metadata": {
        "id": "vBARCtSSVm5s"
      },
      "source": [
        "## feature selection"
      ]
    },
    {
      "cell_type": "markdown",
      "metadata": {
        "id": "s1VliyQf9Mkm"
      },
      "source": [
        "### heatmap"
      ]
    },
    {
      "cell_type": "code",
      "execution_count": null,
      "metadata": {
        "colab": {
          "base_uri": "https://localhost:8080/",
          "height": 766
        },
        "id": "5Xwu2E87ynt_",
        "outputId": "2d4c9800-d67e-4d1f-d4c5-b3b397067ad3"
      },
      "outputs": [
        {
          "data": {
            "text/plain": [
              "<Axes: title={'center': 'features correlation plot'}>"
            ]
          },
          "execution_count": 27,
          "metadata": {},
          "output_type": "execute_result"
        },
        {
          "data": {
            "image/png": "[encoded data removed]",
            "text/plain": [
              "<Figure size 800x800 with 2 Axes>"
            ]
          },
          "metadata": {},
          "output_type": "display_data"
        }
      ],
      "source": [
        "plt.figure(figsize = (8,8))\n",
        "plt.title('features correlation plot')\n",
        "corr = transactions.corr()\n",
        "sns.heatmap(corr,xticklabels=corr.columns,yticklabels=corr.columns,linewidths=.1,cmap=\"coolwarm_r\")"
      ]
    },
    {
      "cell_type": "markdown",
      "metadata": {
        "id": "Spt6OGpaiz5m"
      },
      "source": [
        "As expected, there is no notable correlation between features V1-V28. There are certain correlations between some of these features and Time (inverse correlation with V3) and Amount (inverse correlation with V2 and V5).\n",
        "但根据相关系数，各变量之间的相关性都不是特别强"
      ]
    },
    {
      "cell_type": "code",
      "execution_count": null,
      "metadata": {
        "colab": {
          "base_uri": "https://localhost:8080/"
        },
        "id": "BKog64x16Tq-",
        "outputId": "1079374f-c458-4e51-9eef-a62f6768a568"
      },
      "outputs": [
        {
          "name": "stdout",
          "output_type": "stream",
          "text": [
            "Time      1.000000\n",
            "V1        0.117396\n",
            "V2       -0.010593\n",
            "V3       -0.419618\n",
            "V4       -0.105260\n",
            "V5        0.173072\n",
            "V6       -0.063016\n",
            "V7        0.084714\n",
            "V8       -0.036949\n",
            "V9       -0.008660\n",
            "V10       0.030617\n",
            "V11      -0.247689\n",
            "V12       0.124348\n",
            "V13      -0.065902\n",
            "V14      -0.098757\n",
            "V15      -0.183453\n",
            "V16       0.011903\n",
            "V17      -0.073297\n",
            "V18       0.090438\n",
            "V19       0.028975\n",
            "V20      -0.050866\n",
            "V21       0.044736\n",
            "V22       0.144059\n",
            "V23       0.051142\n",
            "V24      -0.016182\n",
            "V25      -0.233083\n",
            "V26      -0.041407\n",
            "V27      -0.005135\n",
            "V28      -0.009413\n",
            "Amount   -0.024570\n",
            "Class    -0.012323\n",
            "Name: Time, dtype: float64\n"
          ]
        }
      ],
      "source": [
        "print(corr['Time'])"
      ]
    },
    {
      "cell_type": "code",
      "execution_count": null,
      "metadata": {
        "colab": {
          "base_uri": "https://localhost:8080/"
        },
        "id": "F_26znW16xAn",
        "outputId": "6855dadf-662c-4aa2-ef8e-b4e4b2e6fcc8"
      },
      "outputs": [
        {
          "name": "stdout",
          "output_type": "stream",
          "text": [
            "Time     -0.024570\n",
            "V1       -0.107079\n",
            "V2       -0.457156\n",
            "V3       -0.054582\n",
            "V4       -0.012634\n",
            "V5       -0.293445\n",
            "V6        0.162356\n",
            "V7        0.124091\n",
            "V8       -0.027455\n",
            "V9       -0.075074\n",
            "V10      -0.023171\n",
            "V11      -0.039688\n",
            "V12      -0.013272\n",
            "V13      -0.002986\n",
            "V14       0.024897\n",
            "V15      -0.050833\n",
            "V16      -0.093714\n",
            "V17       0.020111\n",
            "V18       0.045358\n",
            "V19      -0.015020\n",
            "V20       0.164886\n",
            "V21       0.085882\n",
            "V22       0.028710\n",
            "V23      -0.034159\n",
            "V24      -0.013889\n",
            "V25      -0.009619\n",
            "V26      -0.018573\n",
            "V27      -0.038343\n",
            "V28       0.001622\n",
            "Amount    1.000000\n",
            "Class    -0.010656\n",
            "Name: Amount, dtype: float64\n"
          ]
        }
      ],
      "source": [
        "print(corr['Amount'])"
      ]
    },
    {
      "cell_type": "code",
      "execution_count": null,
      "metadata": {
        "colab": {
          "base_uri": "https://localhost:8080/"
        },
        "id": "WRtRF9Gv62IO",
        "outputId": "6a661eb5-c67a-477e-f03f-c18354304ece"
      },
      "outputs": [
        {
          "name": "stdout",
          "output_type": "stream",
          "text": [
            "Time     -0.012323\n",
            "V1       -0.101347\n",
            "V2        0.091289\n",
            "V3       -0.192961\n",
            "V4        0.133447\n",
            "V5       -0.094974\n",
            "V6       -0.043643\n",
            "V7       -0.187257\n",
            "V8        0.019875\n",
            "V9       -0.097733\n",
            "V10      -0.216883\n",
            "V11       0.154876\n",
            "V12      -0.260593\n",
            "V13      -0.004570\n",
            "V14      -0.302544\n",
            "V15      -0.004223\n",
            "V16      -0.196539\n",
            "V17      -0.326481\n",
            "V18      -0.111485\n",
            "V19       0.034783\n",
            "V20       0.020090\n",
            "V21       0.040413\n",
            "V22       0.000805\n",
            "V23      -0.002685\n",
            "V24      -0.007221\n",
            "V25       0.003308\n",
            "V26       0.004455\n",
            "V27       0.017580\n",
            "V28       0.009536\n",
            "Amount   -0.010656\n",
            "Class     1.000000\n",
            "Name: Class, dtype: float64\n"
          ]
        }
      ],
      "source": [
        "print(corr['Class'])"
      ]
    },
    {
      "cell_type": "markdown",
      "metadata": {
        "id": "VpkzJzPH7ZEH"
      },
      "source": [
        "Class: inverse correlation with V14 and V17，但相关性也不是特别强"
      ]
    },
    {
      "cell_type": "markdown",
      "metadata": {
        "id": "tf5mRERKV527"
      },
      "source": [
        "## train-test split"
      ]
    },
    {
      "cell_type": "code",
      "execution_count": 25,
      "metadata": {
        "id": "bH6mdh7sy6aY"
      },
      "outputs": [],
      "source": [
        "# train-test split\n",
        "X = transactions.drop(columns='Class')\n",
        "y = transactions['Class']"
      ]
    },
    {
      "cell_type": "code",
      "execution_count": 26,
      "metadata": {
        "id": "hJqagf5V_SFO"
      },
      "outputs": [],
      "source": [
        "from sklearn.model_selection import train_test_split"
      ]
    },
    {
      "cell_type": "code",
      "execution_count": 27,
      "metadata": {
        "id": "YvN7elzl_S09"
      },
      "outputs": [],
      "source": [
        "X_train, X_test, y_train, y_test = train_test_split(X, y, test_size=0.3, random_state=1, stratify=y)\n",
        "del X, y"
      ]
    },
    {
      "cell_type": "code",
      "source": [
        "y_train.value_counts()"
      ],
      "metadata": {
        "colab": {
          "base_uri": "https://localhost:8080/"
        },
        "id": "8nDKiLbzfWYI",
        "outputId": "171d634f-48aa-4c91-9b56-5416f3ff5ede"
      },
      "execution_count": 29,
      "outputs": [
        {
          "output_type": "execute_result",
          "data": {
            "text/plain": [
              "Class\n",
              "0    199020\n",
              "1       344\n",
              "Name: count, dtype: int64"
            ]
          },
          "metadata": {},
          "execution_count": 29
        }
      ]
    },
    {
      "cell_type": "code",
      "source": [
        "y_test.value_counts()"
      ],
      "metadata": {
        "colab": {
          "base_uri": "https://localhost:8080/"
        },
        "id": "KgnUB6OjoQeh",
        "outputId": "ac1326ff-fc5a-41f9-9f72-c43d54e93f2d"
      },
      "execution_count": 33,
      "outputs": [
        {
          "output_type": "execute_result",
          "data": {
            "text/plain": [
              "Class\n",
              "0    85295\n",
              "1      148\n",
              "Name: count, dtype: int64"
            ]
          },
          "metadata": {},
          "execution_count": 33
        }
      ]
    },
    {
      "cell_type": "code",
      "source": [
        "print('Fraudulent transactions:',round(y_test.value_counts()[1]/len(y_test)*100,3),'% of the dataset')"
      ],
      "metadata": {
        "colab": {
          "base_uri": "https://localhost:8080/"
        },
        "id": "9W6sYjpgob0r",
        "outputId": "b679aa97-a1af-4461-e39b-7ba5b60c2552"
      },
      "execution_count": 34,
      "outputs": [
        {
          "output_type": "stream",
          "name": "stdout",
          "text": [
            "Fraudulent transactions: 0.173 % of the dataset\n"
          ]
        }
      ]
    },
    {
      "cell_type": "markdown",
      "metadata": {
        "id": "d0d6fuEvV93z"
      },
      "source": [
        "## class imbalance"
      ]
    },
    {
      "cell_type": "code",
      "execution_count": null,
      "metadata": {
        "id": "aYpKWToQzAzA"
      },
      "outputs": [],
      "source": [
        "# class imbalance\n",
        "from imblearn.combine import SMOTEENN\n",
        "\n",
        "# 定义SMOTEENN对象\n",
        "smote_enn = SMOTEENN(random_state=1)\n",
        "\n",
        "# 应用SMOTEENN进行类别平衡\n",
        "X_resampled, y_resampled = smote_enn.fit_resample(X_train, y_train)\n",
        "\n",
        "# 现在X_resampled和y_resampled是平衡后的特征矩阵和标签向量"
      ]
    },
    {
      "cell_type": "code",
      "execution_count": 30,
      "metadata": {
        "id": "Z-bfuetHXH2o"
      },
      "outputs": [],
      "source": [
        "df = pd.read_csv('/content/drive/MyDrive/credit_card_fraud_detection/data/out.csv',index_col=0)\n",
        "X_resampled = df.drop(columns='Class')\n",
        "y_resampled = df['Class']"
      ]
    },
    {
      "cell_type": "code",
      "execution_count": 31,
      "metadata": {
        "colab": {
          "base_uri": "https://localhost:8080/"
        },
        "id": "uudw0Ngr8vde",
        "outputId": "af0cdc7b-f55f-4478-ece9-d65f539a1969"
      },
      "outputs": [
        {
          "output_type": "execute_result",
          "data": {
            "text/plain": [
              "Class\n",
              "1    199020\n",
              "0    198597\n",
              "Name: count, dtype: int64"
            ]
          },
          "metadata": {},
          "execution_count": 31
        }
      ],
      "source": [
        "# 计算重采样后各类别的数量\n",
        "y_resampled.value_counts()"
      ]
    },
    {
      "cell_type": "code",
      "execution_count": null,
      "metadata": {
        "colab": {
          "base_uri": "https://localhost:8080/",
          "height": 226
        },
        "id": "-oUm-pyfFhUy",
        "outputId": "9416c380-2293-4290-8147-fcba34d2c290"
      },
      "outputs": [
        {
          "output_type": "execute_result",
          "data": {
            "text/plain": [
              "             Time        V1        V2         V3        V4        V5  \\\n",
              "274198  26.070278 -6.185857  7.102985 -13.030455  8.010823 -7.885237   \n",
              "295511   3.066150 -3.820941  3.170537  -5.240550  4.939449 -2.167860   \n",
              "397556  13.310281  0.359895  1.445176  -2.218494  2.034952 -1.234879   \n",
              "213000  17.051428 -0.902406 -0.710664   0.279878 -0.407412 -1.628175   \n",
              "345898  31.620171 -4.501004  4.500068  -9.058979  6.236454 -4.370275   \n",
              "\n",
              "              V6         V7        V8        V9        V10       V11  \\\n",
              "274198 -3.974550 -12.229608  4.971232 -4.248307 -12.965481  8.688308   \n",
              "295511 -1.783553  -4.415809  1.165026 -1.348926  -5.044731  5.518835   \n",
              "397556 -1.727162  -2.057291  0.356510 -1.392867  -3.504499  2.816062   \n",
              "213000  0.704014   2.391551 -0.271010  0.301744  -1.090434  0.113076   \n",
              "345898 -1.514446  -5.745271  2.930313 -4.011679  -6.135906  5.510256   \n",
              "\n",
              "              V12       V13        V14       V15        V16        V17  \\\n",
              "274198 -17.182918  0.069577 -14.116156  0.959032 -12.375334 -18.716765   \n",
              "295511 -10.347299  0.471182  -7.706941  0.369974  -5.787880  -8.779724   \n",
              "397556  -3.343005 -0.152715  -4.821162  1.099341  -3.155202  -4.408932   \n",
              "213000  -0.336813 -1.196166   0.368962  1.105120  -0.676223   0.091372   \n",
              "345898  -8.054793  1.696200  -7.259123 -1.260576  -7.134081 -11.613604   \n",
              "\n",
              "             V18       V19       V20       V21       V22       V23       V24  \\\n",
              "274198 -6.522015  3.517955  0.483930  2.502772  0.481691  0.480958  0.360319   \n",
              "295511 -3.190741  1.143948 -0.027706  0.656351  0.010802  0.425874 -0.140376   \n",
              "397556 -2.555019 -0.209007  0.310897  0.404637 -0.131905 -0.033479  0.460007   \n",
              "213000  0.147771  0.598946  0.496833  0.280729  0.581065  0.536567 -0.152913   \n",
              "345898 -4.062071  2.187862 -0.222194  1.542199  1.282126 -0.108778 -0.159296   \n",
              "\n",
              "             V25       V26       V27       V28    Amount  \n",
              "274198 -0.293354 -0.199193 -0.203917  0.398927  4.961514  \n",
              "295511 -0.440255  0.073575 -0.777768  0.548391  2.958049  \n",
              "397556  0.559150  0.406984  0.539526  0.296080 -0.268799  \n",
              "213000  0.199661 -0.021115 -0.053400 -0.142478  9.859679  \n",
              "345898 -0.277073  0.110614 -0.351592 -0.758740  6.788859  "
            ],
            "text/html": [
              "\n",
              "  <div id=\"df-7a81b2d7-20fb-43ef-9245-cf61227b9a79\" class=\"colab-df-container\">\n",
              "    <div>\n",
              "<style scoped>\n",
              "    .dataframe tbody tr th:only-of-type {\n",
              "        vertical-align: middle;\n",
              "    }\n",
              "\n",
              "    .dataframe tbody tr th {\n",
              "        vertical-align: top;\n",
              "    }\n",
              "\n",
              "    .dataframe thead th {\n",
              "        text-align: right;\n",
              "    }\n",
              "</style>\n",
              "<table border=\"1\" class=\"dataframe\">\n",
              "  <thead>\n",
              "    <tr style=\"text-align: right;\">\n",
              "      <th></th>\n",
              "      <th>Time</th>\n",
              "      <th>V1</th>\n",
              "      <th>V2</th>\n",
              "      <th>V3</th>\n",
              "      <th>V4</th>\n",
              "      <th>V5</th>\n",
              "      <th>V6</th>\n",
              "      <th>V7</th>\n",
              "      <th>V8</th>\n",
              "      <th>V9</th>\n",
              "      <th>V10</th>\n",
              "      <th>V11</th>\n",
              "      <th>V12</th>\n",
              "      <th>V13</th>\n",
              "      <th>V14</th>\n",
              "      <th>V15</th>\n",
              "      <th>V16</th>\n",
              "      <th>V17</th>\n",
              "      <th>V18</th>\n",
              "      <th>V19</th>\n",
              "      <th>V20</th>\n",
              "      <th>V21</th>\n",
              "      <th>V22</th>\n",
              "      <th>V23</th>\n",
              "      <th>V24</th>\n",
              "      <th>V25</th>\n",
              "      <th>V26</th>\n",
              "      <th>V27</th>\n",
              "      <th>V28</th>\n",
              "      <th>Amount</th>\n",
              "    </tr>\n",
              "  </thead>\n",
              "  <tbody>\n",
              "    <tr>\n",
              "      <th>274198</th>\n",
              "      <td>26.070278</td>\n",
              "      <td>-6.185857</td>\n",
              "      <td>7.102985</td>\n",
              "      <td>-13.030455</td>\n",
              "      <td>8.010823</td>\n",
              "      <td>-7.885237</td>\n",
              "      <td>-3.974550</td>\n",
              "      <td>-12.229608</td>\n",
              "      <td>4.971232</td>\n",
              "      <td>-4.248307</td>\n",
              "      <td>-12.965481</td>\n",
              "      <td>8.688308</td>\n",
              "      <td>-17.182918</td>\n",
              "      <td>0.069577</td>\n",
              "      <td>-14.116156</td>\n",
              "      <td>0.959032</td>\n",
              "      <td>-12.375334</td>\n",
              "      <td>-18.716765</td>\n",
              "      <td>-6.522015</td>\n",
              "      <td>3.517955</td>\n",
              "      <td>0.483930</td>\n",
              "      <td>2.502772</td>\n",
              "      <td>0.481691</td>\n",
              "      <td>0.480958</td>\n",
              "      <td>0.360319</td>\n",
              "      <td>-0.293354</td>\n",
              "      <td>-0.199193</td>\n",
              "      <td>-0.203917</td>\n",
              "      <td>0.398927</td>\n",
              "      <td>4.961514</td>\n",
              "    </tr>\n",
              "    <tr>\n",
              "      <th>295511</th>\n",
              "      <td>3.066150</td>\n",
              "      <td>-3.820941</td>\n",
              "      <td>3.170537</td>\n",
              "      <td>-5.240550</td>\n",
              "      <td>4.939449</td>\n",
              "      <td>-2.167860</td>\n",
              "      <td>-1.783553</td>\n",
              "      <td>-4.415809</td>\n",
              "      <td>1.165026</td>\n",
              "      <td>-1.348926</td>\n",
              "      <td>-5.044731</td>\n",
              "      <td>5.518835</td>\n",
              "      <td>-10.347299</td>\n",
              "      <td>0.471182</td>\n",
              "      <td>-7.706941</td>\n",
              "      <td>0.369974</td>\n",
              "      <td>-5.787880</td>\n",
              "      <td>-8.779724</td>\n",
              "      <td>-3.190741</td>\n",
              "      <td>1.143948</td>\n",
              "      <td>-0.027706</td>\n",
              "      <td>0.656351</td>\n",
              "      <td>0.010802</td>\n",
              "      <td>0.425874</td>\n",
              "      <td>-0.140376</td>\n",
              "      <td>-0.440255</td>\n",
              "      <td>0.073575</td>\n",
              "      <td>-0.777768</td>\n",
              "      <td>0.548391</td>\n",
              "      <td>2.958049</td>\n",
              "    </tr>\n",
              "    <tr>\n",
              "      <th>397556</th>\n",
              "      <td>13.310281</td>\n",
              "      <td>0.359895</td>\n",
              "      <td>1.445176</td>\n",
              "      <td>-2.218494</td>\n",
              "      <td>2.034952</td>\n",
              "      <td>-1.234879</td>\n",
              "      <td>-1.727162</td>\n",
              "      <td>-2.057291</td>\n",
              "      <td>0.356510</td>\n",
              "      <td>-1.392867</td>\n",
              "      <td>-3.504499</td>\n",
              "      <td>2.816062</td>\n",
              "      <td>-3.343005</td>\n",
              "      <td>-0.152715</td>\n",
              "      <td>-4.821162</td>\n",
              "      <td>1.099341</td>\n",
              "      <td>-3.155202</td>\n",
              "      <td>-4.408932</td>\n",
              "      <td>-2.555019</td>\n",
              "      <td>-0.209007</td>\n",
              "      <td>0.310897</td>\n",
              "      <td>0.404637</td>\n",
              "      <td>-0.131905</td>\n",
              "      <td>-0.033479</td>\n",
              "      <td>0.460007</td>\n",
              "      <td>0.559150</td>\n",
              "      <td>0.406984</td>\n",
              "      <td>0.539526</td>\n",
              "      <td>0.296080</td>\n",
              "      <td>-0.268799</td>\n",
              "    </tr>\n",
              "    <tr>\n",
              "      <th>213000</th>\n",
              "      <td>17.051428</td>\n",
              "      <td>-0.902406</td>\n",
              "      <td>-0.710664</td>\n",
              "      <td>0.279878</td>\n",
              "      <td>-0.407412</td>\n",
              "      <td>-1.628175</td>\n",
              "      <td>0.704014</td>\n",
              "      <td>2.391551</td>\n",
              "      <td>-0.271010</td>\n",
              "      <td>0.301744</td>\n",
              "      <td>-1.090434</td>\n",
              "      <td>0.113076</td>\n",
              "      <td>-0.336813</td>\n",
              "      <td>-1.196166</td>\n",
              "      <td>0.368962</td>\n",
              "      <td>1.105120</td>\n",
              "      <td>-0.676223</td>\n",
              "      <td>0.091372</td>\n",
              "      <td>0.147771</td>\n",
              "      <td>0.598946</td>\n",
              "      <td>0.496833</td>\n",
              "      <td>0.280729</td>\n",
              "      <td>0.581065</td>\n",
              "      <td>0.536567</td>\n",
              "      <td>-0.152913</td>\n",
              "      <td>0.199661</td>\n",
              "      <td>-0.021115</td>\n",
              "      <td>-0.053400</td>\n",
              "      <td>-0.142478</td>\n",
              "      <td>9.859679</td>\n",
              "    </tr>\n",
              "    <tr>\n",
              "      <th>345898</th>\n",
              "      <td>31.620171</td>\n",
              "      <td>-4.501004</td>\n",
              "      <td>4.500068</td>\n",
              "      <td>-9.058979</td>\n",
              "      <td>6.236454</td>\n",
              "      <td>-4.370275</td>\n",
              "      <td>-1.514446</td>\n",
              "      <td>-5.745271</td>\n",
              "      <td>2.930313</td>\n",
              "      <td>-4.011679</td>\n",
              "      <td>-6.135906</td>\n",
              "      <td>5.510256</td>\n",
              "      <td>-8.054793</td>\n",
              "      <td>1.696200</td>\n",
              "      <td>-7.259123</td>\n",
              "      <td>-1.260576</td>\n",
              "      <td>-7.134081</td>\n",
              "      <td>-11.613604</td>\n",
              "      <td>-4.062071</td>\n",
              "      <td>2.187862</td>\n",
              "      <td>-0.222194</td>\n",
              "      <td>1.542199</td>\n",
              "      <td>1.282126</td>\n",
              "      <td>-0.108778</td>\n",
              "      <td>-0.159296</td>\n",
              "      <td>-0.277073</td>\n",
              "      <td>0.110614</td>\n",
              "      <td>-0.351592</td>\n",
              "      <td>-0.758740</td>\n",
              "      <td>6.788859</td>\n",
              "    </tr>\n",
              "  </tbody>\n",
              "</table>\n",
              "</div>\n",
              "    <div class=\"colab-df-buttons\">\n",
              "\n",
              "  <div class=\"colab-df-container\">\n",
              "    <button class=\"colab-df-convert\" onclick=\"convertToInteractive('df-7a81b2d7-20fb-43ef-9245-cf61227b9a79')\"\n",
              "            title=\"Convert this dataframe to an interactive table.\"\n",
              "            style=\"display:none;\">\n",
              "\n",
              "  <svg xmlns=\"http://www.w3.org/2000/svg\" height=\"24px\" viewBox=\"0 -960 960 960\">\n",
              "    <path d=\"M120-120v-720h720v720H120Zm60-500h600v-160H180v160Zm220 220h160v-160H400v160Zm0 220h160v-160H400v160ZM180-400h160v-160H180v160Zm440 0h160v-160H620v160ZM180-180h160v-160H180v160Zm440 0h160v-160H620v160Z\"/>\n",
              "  </svg>\n",
              "    </button>\n",
              "\n",
              "  <style>\n",
              "    .colab-df-container {\n",
              "      display:flex;\n",
              "      gap: 12px;\n",
              "    }\n",
              "\n",
              "    .colab-df-convert {\n",
              "      background-color: #E8F0FE;\n",
              "      border: none;\n",
              "      border-radius: 50%;\n",
              "      cursor: pointer;\n",
              "      display: none;\n",
              "      fill: #1967D2;\n",
              "      height: 32px;\n",
              "      padding: 0 0 0 0;\n",
              "      width: 32px;\n",
              "    }\n",
              "\n",
              "    .colab-df-convert:hover {\n",
              "      background-color: #E2EBFA;\n",
              "      box-shadow: 0px 1px 2px rgba(60, 64, 67, 0.3), 0px 1px 3px 1px rgba(60, 64, 67, 0.15);\n",
              "      fill: #174EA6;\n",
              "    }\n",
              "\n",
              "    .colab-df-buttons div {\n",
              "      margin-bottom: 4px;\n",
              "    }\n",
              "\n",
              "    [theme=dark] .colab-df-convert {\n",
              "      background-color: #3B4455;\n",
              "      fill: #D2E3FC;\n",
              "    }\n",
              "\n",
              "    [theme=dark] .colab-df-convert:hover {\n",
              "      background-color: #434B5C;\n",
              "      box-shadow: 0px 1px 3px 1px rgba(0, 0, 0, 0.15);\n",
              "      filter: drop-shadow(0px 1px 2px rgba(0, 0, 0, 0.3));\n",
              "      fill: #FFFFFF;\n",
              "    }\n",
              "  </style>\n",
              "\n",
              "    <script>\n",
              "      const buttonEl =\n",
              "        document.querySelector('#df-7a81b2d7-20fb-43ef-9245-cf61227b9a79 button.colab-df-convert');\n",
              "      buttonEl.style.display =\n",
              "        google.colab.kernel.accessAllowed ? 'block' : 'none';\n",
              "\n",
              "      async function convertToInteractive(key) {\n",
              "        const element = document.querySelector('#df-7a81b2d7-20fb-43ef-9245-cf61227b9a79');\n",
              "        const dataTable =\n",
              "          await google.colab.kernel.invokeFunction('convertToInteractive',\n",
              "                                                    [key], {});\n",
              "        if (!dataTable) return;\n",
              "\n",
              "        const docLinkHtml = 'Like what you see? Visit the ' +\n",
              "          '<a target=\"_blank\" href=https://colab.research.google.com/notebooks/data_table.ipynb>data table notebook</a>'\n",
              "          + ' to learn more about interactive tables.';\n",
              "        element.innerHTML = '';\n",
              "        dataTable['output_type'] = 'display_data';\n",
              "        await google.colab.output.renderOutput(dataTable, element);\n",
              "        const docLink = document.createElement('div');\n",
              "        docLink.innerHTML = docLinkHtml;\n",
              "        element.appendChild(docLink);\n",
              "      }\n",
              "    </script>\n",
              "  </div>\n",
              "\n",
              "\n",
              "<div id=\"df-293ae2e8-6167-4d7d-8005-c2302e42994b\">\n",
              "  <button class=\"colab-df-quickchart\" onclick=\"quickchart('df-293ae2e8-6167-4d7d-8005-c2302e42994b')\"\n",
              "            title=\"Suggest charts\"\n",
              "            style=\"display:none;\">\n",
              "\n",
              "<svg xmlns=\"http://www.w3.org/2000/svg\" height=\"24px\"viewBox=\"0 0 24 24\"\n",
              "     width=\"24px\">\n",
              "    <g>\n",
              "        <path d=\"M19 3H5c-1.1 0-2 .9-2 2v14c0 1.1.9 2 2 2h14c1.1 0 2-.9 2-2V5c0-1.1-.9-2-2-2zM9 17H7v-7h2v7zm4 0h-2V7h2v10zm4 0h-2v-4h2v4z\"/>\n",
              "    </g>\n",
              "</svg>\n",
              "  </button>\n",
              "\n",
              "<style>\n",
              "  .colab-df-quickchart {\n",
              "      --bg-color: #E8F0FE;\n",
              "      --fill-color: #1967D2;\n",
              "      --hover-bg-color: #E2EBFA;\n",
              "      --hover-fill-color: #174EA6;\n",
              "      --disabled-fill-color: #AAA;\n",
              "      --disabled-bg-color: #DDD;\n",
              "  }\n",
              "\n",
              "  [theme=dark] .colab-df-quickchart {\n",
              "      --bg-color: #3B4455;\n",
              "      --fill-color: #D2E3FC;\n",
              "      --hover-bg-color: #434B5C;\n",
              "      --hover-fill-color: #FFFFFF;\n",
              "      --disabled-bg-color: #3B4455;\n",
              "      --disabled-fill-color: #666;\n",
              "  }\n",
              "\n",
              "  .colab-df-quickchart {\n",
              "    background-color: var(--bg-color);\n",
              "    border: none;\n",
              "    border-radius: 50%;\n",
              "    cursor: pointer;\n",
              "    display: none;\n",
              "    fill: var(--fill-color);\n",
              "    height: 32px;\n",
              "    padding: 0;\n",
              "    width: 32px;\n",
              "  }\n",
              "\n",
              "  .colab-df-quickchart:hover {\n",
              "    background-color: var(--hover-bg-color);\n",
              "    box-shadow: 0 1px 2px rgba(60, 64, 67, 0.3), 0 1px 3px 1px rgba(60, 64, 67, 0.15);\n",
              "    fill: var(--button-hover-fill-color);\n",
              "  }\n",
              "\n",
              "  .colab-df-quickchart-complete:disabled,\n",
              "  .colab-df-quickchart-complete:disabled:hover {\n",
              "    background-color: var(--disabled-bg-color);\n",
              "    fill: var(--disabled-fill-color);\n",
              "    box-shadow: none;\n",
              "  }\n",
              "\n",
              "  .colab-df-spinner {\n",
              "    border: 2px solid var(--fill-color);\n",
              "    border-color: transparent;\n",
              "    border-bottom-color: var(--fill-color);\n",
              "    animation:\n",
              "      spin 1s steps(1) infinite;\n",
              "  }\n",
              "\n",
              "  @keyframes spin {\n",
              "    0% {\n",
              "      border-color: transparent;\n",
              "      border-bottom-color: var(--fill-color);\n",
              "      border-left-color: var(--fill-color);\n",
              "    }\n",
              "    20% {\n",
              "      border-color: transparent;\n",
              "      border-left-color: var(--fill-color);\n",
              "      border-top-color: var(--fill-color);\n",
              "    }\n",
              "    30% {\n",
              "      border-color: transparent;\n",
              "      border-left-color: var(--fill-color);\n",
              "      border-top-color: var(--fill-color);\n",
              "      border-right-color: var(--fill-color);\n",
              "    }\n",
              "    40% {\n",
              "      border-color: transparent;\n",
              "      border-right-color: var(--fill-color);\n",
              "      border-top-color: var(--fill-color);\n",
              "    }\n",
              "    60% {\n",
              "      border-color: transparent;\n",
              "      border-right-color: var(--fill-color);\n",
              "    }\n",
              "    80% {\n",
              "      border-color: transparent;\n",
              "      border-right-color: var(--fill-color);\n",
              "      border-bottom-color: var(--fill-color);\n",
              "    }\n",
              "    90% {\n",
              "      border-color: transparent;\n",
              "      border-bottom-color: var(--fill-color);\n",
              "    }\n",
              "  }\n",
              "</style>\n",
              "\n",
              "  <script>\n",
              "    async function quickchart(key) {\n",
              "      const quickchartButtonEl =\n",
              "        document.querySelector('#' + key + ' button');\n",
              "      quickchartButtonEl.disabled = true;  // To prevent multiple clicks.\n",
              "      quickchartButtonEl.classList.add('colab-df-spinner');\n",
              "      try {\n",
              "        const charts = await google.colab.kernel.invokeFunction(\n",
              "            'suggestCharts', [key], {});\n",
              "      } catch (error) {\n",
              "        console.error('Error during call to suggestCharts:', error);\n",
              "      }\n",
              "      quickchartButtonEl.classList.remove('colab-df-spinner');\n",
              "      quickchartButtonEl.classList.add('colab-df-quickchart-complete');\n",
              "    }\n",
              "    (() => {\n",
              "      let quickchartButtonEl =\n",
              "        document.querySelector('#df-293ae2e8-6167-4d7d-8005-c2302e42994b button');\n",
              "      quickchartButtonEl.style.display =\n",
              "        google.colab.kernel.accessAllowed ? 'block' : 'none';\n",
              "    })();\n",
              "  </script>\n",
              "</div>\n",
              "    </div>\n",
              "  </div>\n"
            ],
            "application/vnd.google.colaboratory.intrinsic+json": {
              "type": "dataframe"
            }
          },
          "metadata": {},
          "execution_count": 23
        }
      ],
      "source": [
        "X_resampled.sample(5)"
      ]
    },
    {
      "cell_type": "code",
      "execution_count": null,
      "metadata": {
        "colab": {
          "base_uri": "https://localhost:8080/",
          "height": 226
        },
        "id": "5xxYYNfrSP9J",
        "outputId": "09b16a28-5b31-4141-f71d-4d523727883f"
      },
      "outputs": [
        {
          "data": {
            "application/vnd.google.colaboratory.intrinsic+json": {
              "type": "dataframe"
            },
            "text/html": [
              "\n",
              "  <div id=\"df-2fefbf41-600e-48a3-a5ed-db9fcd708c6c\" class=\"colab-df-container\">\n",
              "    <div>\n",
              "<style scoped>\n",
              "    .dataframe tbody tr th:only-of-type {\n",
              "        vertical-align: middle;\n",
              "    }\n",
              "\n",
              "    .dataframe tbody tr th {\n",
              "        vertical-align: top;\n",
              "    }\n",
              "\n",
              "    .dataframe thead th {\n",
              "        text-align: right;\n",
              "    }\n",
              "</style>\n",
              "<table border=\"1\" class=\"dataframe\">\n",
              "  <thead>\n",
              "    <tr style=\"text-align: right;\">\n",
              "      <th></th>\n",
              "      <th>Time</th>\n",
              "      <th>V1</th>\n",
              "      <th>V2</th>\n",
              "      <th>V3</th>\n",
              "      <th>V4</th>\n",
              "      <th>V5</th>\n",
              "      <th>V6</th>\n",
              "      <th>V7</th>\n",
              "      <th>V8</th>\n",
              "      <th>V9</th>\n",
              "      <th>V10</th>\n",
              "      <th>V11</th>\n",
              "      <th>V12</th>\n",
              "      <th>V13</th>\n",
              "      <th>V14</th>\n",
              "      <th>V15</th>\n",
              "      <th>V16</th>\n",
              "      <th>V17</th>\n",
              "      <th>V18</th>\n",
              "      <th>V19</th>\n",
              "      <th>V20</th>\n",
              "      <th>V21</th>\n",
              "      <th>V22</th>\n",
              "      <th>V23</th>\n",
              "      <th>V24</th>\n",
              "      <th>V25</th>\n",
              "      <th>V26</th>\n",
              "      <th>V27</th>\n",
              "      <th>V28</th>\n",
              "      <th>Amount</th>\n",
              "      <th>Class</th>\n",
              "    </tr>\n",
              "  </thead>\n",
              "  <tbody>\n",
              "    <tr>\n",
              "      <th>97981</th>\n",
              "      <td>40.682500</td>\n",
              "      <td>1.981533</td>\n",
              "      <td>-0.193939</td>\n",
              "      <td>-1.200618</td>\n",
              "      <td>0.586784</td>\n",
              "      <td>-0.169588</td>\n",
              "      <td>-1.182444</td>\n",
              "      <td>0.188284</td>\n",
              "      <td>-0.380873</td>\n",
              "      <td>0.485570</td>\n",
              "      <td>0.152038</td>\n",
              "      <td>-0.771583</td>\n",
              "      <td>0.346136</td>\n",
              "      <td>0.322273</td>\n",
              "      <td>0.264202</td>\n",
              "      <td>0.343703</td>\n",
              "      <td>-0.074148</td>\n",
              "      <td>-0.446867</td>\n",
              "      <td>-0.186918</td>\n",
              "      <td>-0.322726</td>\n",
              "      <td>-0.122758</td>\n",
              "      <td>0.314740</td>\n",
              "      <td>1.013630</td>\n",
              "      <td>-0.055140</td>\n",
              "      <td>0.132804</td>\n",
              "      <td>0.176938</td>\n",
              "      <td>0.572077</td>\n",
              "      <td>-0.065736</td>\n",
              "      <td>-0.058130</td>\n",
              "      <td>5.001865</td>\n",
              "      <td>0</td>\n",
              "    </tr>\n",
              "    <tr>\n",
              "      <th>299783</th>\n",
              "      <td>7.189373</td>\n",
              "      <td>-17.543652</td>\n",
              "      <td>11.067899</td>\n",
              "      <td>-20.616762</td>\n",
              "      <td>6.027983</td>\n",
              "      <td>-13.743760</td>\n",
              "      <td>-4.137716</td>\n",
              "      <td>-14.490200</td>\n",
              "      <td>11.800803</td>\n",
              "      <td>-4.076283</td>\n",
              "      <td>-9.130941</td>\n",
              "      <td>6.146451</td>\n",
              "      <td>-8.706287</td>\n",
              "      <td>-0.029039</td>\n",
              "      <td>-9.456105</td>\n",
              "      <td>0.033853</td>\n",
              "      <td>-7.362727</td>\n",
              "      <td>-14.026841</td>\n",
              "      <td>-4.996492</td>\n",
              "      <td>1.376310</td>\n",
              "      <td>1.556580</td>\n",
              "      <td>1.733550</td>\n",
              "      <td>-1.201737</td>\n",
              "      <td>-0.537094</td>\n",
              "      <td>0.101895</td>\n",
              "      <td>1.195754</td>\n",
              "      <td>-0.225780</td>\n",
              "      <td>1.667868</td>\n",
              "      <td>0.496729</td>\n",
              "      <td>6.368199</td>\n",
              "      <td>1</td>\n",
              "    </tr>\n",
              "    <tr>\n",
              "      <th>366624</th>\n",
              "      <td>42.981010</td>\n",
              "      <td>-1.117198</td>\n",
              "      <td>5.178734</td>\n",
              "      <td>-8.281778</td>\n",
              "      <td>7.312037</td>\n",
              "      <td>-0.077980</td>\n",
              "      <td>-2.066421</td>\n",
              "      <td>-3.359363</td>\n",
              "      <td>1.890869</td>\n",
              "      <td>-4.476649</td>\n",
              "      <td>-5.132129</td>\n",
              "      <td>5.518501</td>\n",
              "      <td>-5.645551</td>\n",
              "      <td>0.697007</td>\n",
              "      <td>-11.877776</td>\n",
              "      <td>0.305523</td>\n",
              "      <td>-1.992304</td>\n",
              "      <td>-2.011118</td>\n",
              "      <td>0.605093</td>\n",
              "      <td>0.840421</td>\n",
              "      <td>0.803116</td>\n",
              "      <td>0.556545</td>\n",
              "      <td>-0.469397</td>\n",
              "      <td>0.061819</td>\n",
              "      <td>-1.108711</td>\n",
              "      <td>0.066566</td>\n",
              "      <td>0.535152</td>\n",
              "      <td>0.536449</td>\n",
              "      <td>0.115472</td>\n",
              "      <td>-0.243306</td>\n",
              "      <td>1</td>\n",
              "    </tr>\n",
              "    <tr>\n",
              "      <th>371243</th>\n",
              "      <td>38.695849</td>\n",
              "      <td>0.497376</td>\n",
              "      <td>1.115211</td>\n",
              "      <td>-5.509396</td>\n",
              "      <td>2.200229</td>\n",
              "      <td>-0.601100</td>\n",
              "      <td>-0.161443</td>\n",
              "      <td>-3.460735</td>\n",
              "      <td>1.101361</td>\n",
              "      <td>-1.002195</td>\n",
              "      <td>-5.373366</td>\n",
              "      <td>4.203178</td>\n",
              "      <td>-5.063055</td>\n",
              "      <td>-1.066222</td>\n",
              "      <td>-7.747685</td>\n",
              "      <td>0.673328</td>\n",
              "      <td>-4.657112</td>\n",
              "      <td>-5.882000</td>\n",
              "      <td>-2.558972</td>\n",
              "      <td>-0.172619</td>\n",
              "      <td>0.547609</td>\n",
              "      <td>0.918082</td>\n",
              "      <td>0.745160</td>\n",
              "      <td>-0.215014</td>\n",
              "      <td>-1.689671</td>\n",
              "      <td>0.285079</td>\n",
              "      <td>0.110337</td>\n",
              "      <td>0.852159</td>\n",
              "      <td>0.369280</td>\n",
              "      <td>6.362689</td>\n",
              "      <td>1</td>\n",
              "    </tr>\n",
              "    <tr>\n",
              "      <th>277161</th>\n",
              "      <td>15.874026</td>\n",
              "      <td>-10.287660</td>\n",
              "      <td>4.487835</td>\n",
              "      <td>-9.737403</td>\n",
              "      <td>5.533739</td>\n",
              "      <td>-6.020096</td>\n",
              "      <td>-0.139605</td>\n",
              "      <td>-11.631183</td>\n",
              "      <td>-3.064731</td>\n",
              "      <td>-4.760939</td>\n",
              "      <td>-9.283627</td>\n",
              "      <td>5.225424</td>\n",
              "      <td>-7.771805</td>\n",
              "      <td>-1.548277</td>\n",
              "      <td>-7.170050</td>\n",
              "      <td>1.171136</td>\n",
              "      <td>-6.589198</td>\n",
              "      <td>-12.170539</td>\n",
              "      <td>-3.917112</td>\n",
              "      <td>2.482523</td>\n",
              "      <td>0.877259</td>\n",
              "      <td>-2.379511</td>\n",
              "      <td>1.669040</td>\n",
              "      <td>0.957056</td>\n",
              "      <td>-0.540039</td>\n",
              "      <td>-0.291929</td>\n",
              "      <td>-0.097749</td>\n",
              "      <td>0.333489</td>\n",
              "      <td>0.155347</td>\n",
              "      <td>0.220051</td>\n",
              "      <td>1</td>\n",
              "    </tr>\n",
              "  </tbody>\n",
              "</table>\n",
              "</div>\n",
              "    <div class=\"colab-df-buttons\">\n",
              "\n",
              "  <div class=\"colab-df-container\">\n",
              "    <button class=\"colab-df-convert\" onclick=\"convertToInteractive('df-2fefbf41-600e-48a3-a5ed-db9fcd708c6c')\"\n",
              "            title=\"Convert this dataframe to an interactive table.\"\n",
              "            style=\"display:none;\">\n",
              "\n",
              "  <svg xmlns=\"http://www.w3.org/2000/svg\" height=\"24px\" viewBox=\"0 -960 960 960\">\n",
              "    <path d=\"M120-120v-720h720v720H120Zm60-500h600v-160H180v160Zm220 220h160v-160H400v160Zm0 220h160v-160H400v160ZM180-400h160v-160H180v160Zm440 0h160v-160H620v160ZM180-180h160v-160H180v160Zm440 0h160v-160H620v160Z\"/>\n",
              "  </svg>\n",
              "    </button>\n",
              "\n",
              "  <style>\n",
              "    .colab-df-container {\n",
              "      display:flex;\n",
              "      gap: 12px;\n",
              "    }\n",
              "\n",
              "    .colab-df-convert {\n",
              "      background-color: #E8F0FE;\n",
              "      border: none;\n",
              "      border-radius: 50%;\n",
              "      cursor: pointer;\n",
              "      display: none;\n",
              "      fill: #1967D2;\n",
              "      height: 32px;\n",
              "      padding: 0 0 0 0;\n",
              "      width: 32px;\n",
              "    }\n",
              "\n",
              "    .colab-df-convert:hover {\n",
              "      background-color: #E2EBFA;\n",
              "      box-shadow: 0px 1px 2px rgba(60, 64, 67, 0.3), 0px 1px 3px 1px rgba(60, 64, 67, 0.15);\n",
              "      fill: #174EA6;\n",
              "    }\n",
              "\n",
              "    .colab-df-buttons div {\n",
              "      margin-bottom: 4px;\n",
              "    }\n",
              "\n",
              "    [theme=dark] .colab-df-convert {\n",
              "      background-color: #3B4455;\n",
              "      fill: #D2E3FC;\n",
              "    }\n",
              "\n",
              "    [theme=dark] .colab-df-convert:hover {\n",
              "      background-color: #434B5C;\n",
              "      box-shadow: 0px 1px 3px 1px rgba(0, 0, 0, 0.15);\n",
              "      filter: drop-shadow(0px 1px 2px rgba(0, 0, 0, 0.3));\n",
              "      fill: #FFFFFF;\n",
              "    }\n",
              "  </style>\n",
              "\n",
              "    <script>\n",
              "      const buttonEl =\n",
              "        document.querySelector('#df-2fefbf41-600e-48a3-a5ed-db9fcd708c6c button.colab-df-convert');\n",
              "      buttonEl.style.display =\n",
              "        google.colab.kernel.accessAllowed ? 'block' : 'none';\n",
              "\n",
              "      async function convertToInteractive(key) {\n",
              "        const element = document.querySelector('#df-2fefbf41-600e-48a3-a5ed-db9fcd708c6c');\n",
              "        const dataTable =\n",
              "          await google.colab.kernel.invokeFunction('convertToInteractive',\n",
              "                                                    [key], {});\n",
              "        if (!dataTable) return;\n",
              "\n",
              "        const docLinkHtml = 'Like what you see? Visit the ' +\n",
              "          '<a target=\"_blank\" href=https://colab.research.google.com/notebooks/data_table.ipynb>data table notebook</a>'\n",
              "          + ' to learn more about interactive tables.';\n",
              "        element.innerHTML = '';\n",
              "        dataTable['output_type'] = 'display_data';\n",
              "        await google.colab.output.renderOutput(dataTable, element);\n",
              "        const docLink = document.createElement('div');\n",
              "        docLink.innerHTML = docLinkHtml;\n",
              "        element.appendChild(docLink);\n",
              "      }\n",
              "    </script>\n",
              "  </div>\n",
              "\n",
              "\n",
              "<div id=\"df-5661943d-0291-4c59-bfe1-5b16235a8dd1\">\n",
              "  <button class=\"colab-df-quickchart\" onclick=\"quickchart('df-5661943d-0291-4c59-bfe1-5b16235a8dd1')\"\n",
              "            title=\"Suggest charts\"\n",
              "            style=\"display:none;\">\n",
              "\n",
              "<svg xmlns=\"http://www.w3.org/2000/svg\" height=\"24px\"viewBox=\"0 0 24 24\"\n",
              "     width=\"24px\">\n",
              "    <g>\n",
              "        <path d=\"M19 3H5c-1.1 0-2 .9-2 2v14c0 1.1.9 2 2 2h14c1.1 0 2-.9 2-2V5c0-1.1-.9-2-2-2zM9 17H7v-7h2v7zm4 0h-2V7h2v10zm4 0h-2v-4h2v4z\"/>\n",
              "    </g>\n",
              "</svg>\n",
              "  </button>\n",
              "\n",
              "<style>\n",
              "  .colab-df-quickchart {\n",
              "      --bg-color: #E8F0FE;\n",
              "      --fill-color: #1967D2;\n",
              "      --hover-bg-color: #E2EBFA;\n",
              "      --hover-fill-color: #174EA6;\n",
              "      --disabled-fill-color: #AAA;\n",
              "      --disabled-bg-color: #DDD;\n",
              "  }\n",
              "\n",
              "  [theme=dark] .colab-df-quickchart {\n",
              "      --bg-color: #3B4455;\n",
              "      --fill-color: #D2E3FC;\n",
              "      --hover-bg-color: #434B5C;\n",
              "      --hover-fill-color: #FFFFFF;\n",
              "      --disabled-bg-color: #3B4455;\n",
              "      --disabled-fill-color: #666;\n",
              "  }\n",
              "\n",
              "  .colab-df-quickchart {\n",
              "    background-color: var(--bg-color);\n",
              "    border: none;\n",
              "    border-radius: 50%;\n",
              "    cursor: pointer;\n",
              "    display: none;\n",
              "    fill: var(--fill-color);\n",
              "    height: 32px;\n",
              "    padding: 0;\n",
              "    width: 32px;\n",
              "  }\n",
              "\n",
              "  .colab-df-quickchart:hover {\n",
              "    background-color: var(--hover-bg-color);\n",
              "    box-shadow: 0 1px 2px rgba(60, 64, 67, 0.3), 0 1px 3px 1px rgba(60, 64, 67, 0.15);\n",
              "    fill: var(--button-hover-fill-color);\n",
              "  }\n",
              "\n",
              "  .colab-df-quickchart-complete:disabled,\n",
              "  .colab-df-quickchart-complete:disabled:hover {\n",
              "    background-color: var(--disabled-bg-color);\n",
              "    fill: var(--disabled-fill-color);\n",
              "    box-shadow: none;\n",
              "  }\n",
              "\n",
              "  .colab-df-spinner {\n",
              "    border: 2px solid var(--fill-color);\n",
              "    border-color: transparent;\n",
              "    border-bottom-color: var(--fill-color);\n",
              "    animation:\n",
              "      spin 1s steps(1) infinite;\n",
              "  }\n",
              "\n",
              "  @keyframes spin {\n",
              "    0% {\n",
              "      border-color: transparent;\n",
              "      border-bottom-color: var(--fill-color);\n",
              "      border-left-color: var(--fill-color);\n",
              "    }\n",
              "    20% {\n",
              "      border-color: transparent;\n",
              "      border-left-color: var(--fill-color);\n",
              "      border-top-color: var(--fill-color);\n",
              "    }\n",
              "    30% {\n",
              "      border-color: transparent;\n",
              "      border-left-color: var(--fill-color);\n",
              "      border-top-color: var(--fill-color);\n",
              "      border-right-color: var(--fill-color);\n",
              "    }\n",
              "    40% {\n",
              "      border-color: transparent;\n",
              "      border-right-color: var(--fill-color);\n",
              "      border-top-color: var(--fill-color);\n",
              "    }\n",
              "    60% {\n",
              "      border-color: transparent;\n",
              "      border-right-color: var(--fill-color);\n",
              "    }\n",
              "    80% {\n",
              "      border-color: transparent;\n",
              "      border-right-color: var(--fill-color);\n",
              "      border-bottom-color: var(--fill-color);\n",
              "    }\n",
              "    90% {\n",
              "      border-color: transparent;\n",
              "      border-bottom-color: var(--fill-color);\n",
              "    }\n",
              "  }\n",
              "</style>\n",
              "\n",
              "  <script>\n",
              "    async function quickchart(key) {\n",
              "      const quickchartButtonEl =\n",
              "        document.querySelector('#' + key + ' button');\n",
              "      quickchartButtonEl.disabled = true;  // To prevent multiple clicks.\n",
              "      quickchartButtonEl.classList.add('colab-df-spinner');\n",
              "      try {\n",
              "        const charts = await google.colab.kernel.invokeFunction(\n",
              "            'suggestCharts', [key], {});\n",
              "      } catch (error) {\n",
              "        console.error('Error during call to suggestCharts:', error);\n",
              "      }\n",
              "      quickchartButtonEl.classList.remove('colab-df-spinner');\n",
              "      quickchartButtonEl.classList.add('colab-df-quickchart-complete');\n",
              "    }\n",
              "    (() => {\n",
              "      let quickchartButtonEl =\n",
              "        document.querySelector('#df-5661943d-0291-4c59-bfe1-5b16235a8dd1 button');\n",
              "      quickchartButtonEl.style.display =\n",
              "        google.colab.kernel.accessAllowed ? 'block' : 'none';\n",
              "    })();\n",
              "  </script>\n",
              "</div>\n",
              "    </div>\n",
              "  </div>\n"
            ],
            "text/plain": [
              "             Time         V1         V2         V3        V4         V5  \\\n",
              "97981   40.682500   1.981533  -0.193939  -1.200618  0.586784  -0.169588   \n",
              "299783   7.189373 -17.543652  11.067899 -20.616762  6.027983 -13.743760   \n",
              "366624  42.981010  -1.117198   5.178734  -8.281778  7.312037  -0.077980   \n",
              "371243  38.695849   0.497376   1.115211  -5.509396  2.200229  -0.601100   \n",
              "277161  15.874026 -10.287660   4.487835  -9.737403  5.533739  -6.020096   \n",
              "\n",
              "              V6         V7         V8        V9       V10       V11  \\\n",
              "97981  -1.182444   0.188284  -0.380873  0.485570  0.152038 -0.771583   \n",
              "299783 -4.137716 -14.490200  11.800803 -4.076283 -9.130941  6.146451   \n",
              "366624 -2.066421  -3.359363   1.890869 -4.476649 -5.132129  5.518501   \n",
              "371243 -0.161443  -3.460735   1.101361 -1.002195 -5.373366  4.203178   \n",
              "277161 -0.139605 -11.631183  -3.064731 -4.760939 -9.283627  5.225424   \n",
              "\n",
              "             V12       V13        V14       V15       V16        V17  \\\n",
              "97981   0.346136  0.322273   0.264202  0.343703 -0.074148  -0.446867   \n",
              "299783 -8.706287 -0.029039  -9.456105  0.033853 -7.362727 -14.026841   \n",
              "366624 -5.645551  0.697007 -11.877776  0.305523 -1.992304  -2.011118   \n",
              "371243 -5.063055 -1.066222  -7.747685  0.673328 -4.657112  -5.882000   \n",
              "277161 -7.771805 -1.548277  -7.170050  1.171136 -6.589198 -12.170539   \n",
              "\n",
              "             V18       V19       V20       V21       V22       V23       V24  \\\n",
              "97981  -0.186918 -0.322726 -0.122758  0.314740  1.013630 -0.055140  0.132804   \n",
              "299783 -4.996492  1.376310  1.556580  1.733550 -1.201737 -0.537094  0.101895   \n",
              "366624  0.605093  0.840421  0.803116  0.556545 -0.469397  0.061819 -1.108711   \n",
              "371243 -2.558972 -0.172619  0.547609  0.918082  0.745160 -0.215014 -1.689671   \n",
              "277161 -3.917112  2.482523  0.877259 -2.379511  1.669040  0.957056 -0.540039   \n",
              "\n",
              "             V25       V26       V27       V28    Amount  Class  \n",
              "97981   0.176938  0.572077 -0.065736 -0.058130  5.001865      0  \n",
              "299783  1.195754 -0.225780  1.667868  0.496729  6.368199      1  \n",
              "366624  0.066566  0.535152  0.536449  0.115472 -0.243306      1  \n",
              "371243  0.285079  0.110337  0.852159  0.369280  6.362689      1  \n",
              "277161 -0.291929 -0.097749  0.333489  0.155347  0.220051      1  "
            ]
          },
          "execution_count": 31,
          "metadata": {},
          "output_type": "execute_result"
        }
      ],
      "source": [
        "'''\n",
        "df = pd.concat([X_resampled,y_resampled],axis=1)\n",
        "df.sample(5)\n",
        "'''"
      ]
    },
    {
      "cell_type": "code",
      "execution_count": null,
      "metadata": {
        "id": "vYo8K3TaWKZe"
      },
      "outputs": [],
      "source": [
        "'''\n",
        "import os\n",
        "\n",
        "os.makedirs('/content/drive/MyDrive/credit_card_fraud_detection/data/', exist_ok=True)\n",
        "\n",
        "df.to_csv('/content/drive/MyDrive/credit_card_fraud_detection/data/out.csv')\n",
        "'''"
      ]
    },
    {
      "cell_type": "markdown",
      "metadata": {
        "id": "0ncdsz6izIAo"
      },
      "source": [
        "# Model Selection, Data Modelling and Model Evaluation"
      ]
    },
    {
      "cell_type": "markdown",
      "metadata": {
        "id": "L_wI8dJm6VCl"
      },
      "source": [
        "计算 Recall Precision F1-Score MCC AUC-PR"
      ]
    },
    {
      "cell_type": "code",
      "execution_count": 35,
      "metadata": {
        "id": "WNmHFSMqMe7t"
      },
      "outputs": [],
      "source": [
        "from sklearn.model_selection import RandomizedSearchCV\n",
        "from sklearn.metrics import recall_score, precision_score, f1_score, matthews_corrcoef\n",
        "from sklearn.metrics import confusion_matrix, precision_recall_curve, auc\n",
        "from joblib import dump, load"
      ]
    },
    {
      "cell_type": "code",
      "source": [
        "predictors = ['Time', 'V1', 'V2', 'V3', 'V4', 'V5', 'V6', 'V7', 'V8', 'V9', 'V10',\\\n",
        "       'V11', 'V12', 'V13', 'V14', 'V15', 'V16', 'V17', 'V18', 'V19',\\\n",
        "       'V20', 'V21', 'V22', 'V23', 'V24', 'V25', 'V26', 'V27', 'V28',\\\n",
        "       'Amount']"
      ],
      "metadata": {
        "id": "HshucIYe97hk"
      },
      "execution_count": 36,
      "outputs": []
    },
    {
      "cell_type": "markdown",
      "metadata": {
        "id": "JhcC27B2zSba"
      },
      "source": [
        "## bagging"
      ]
    },
    {
      "cell_type": "code",
      "execution_count": null,
      "metadata": {
        "id": "cLBFZk6_cvx_"
      },
      "outputs": [],
      "source": [
        "from sklearn.tree import DecisionTreeClassifier\n",
        "from sklearn.ensemble import BaggingClassifier\n",
        "\n",
        "base_estimator = DecisionTreeClassifier()\n",
        "param_dist = {\n",
        "    'n_estimators': [10,30,50,70],\n",
        "    'max_samples': [0.1,0.4,0.7,1.0],\n",
        "    'max_features': [0.1,0.4,0.7,1.0]\n",
        "}"
      ]
    },
    {
      "cell_type": "code",
      "execution_count": null,
      "metadata": {
        "id": "A9MxE73wz3Uj"
      },
      "outputs": [],
      "source": [
        "random_search = RandomizedSearchCV(\n",
        "    estimator=BaggingClassifier(base_estimator),\n",
        "    param_distributions=param_dist,\n",
        "    n_iter=10,  # 这里设置了一个迭代次数，可以根据计算资源进行调整\n",
        "    cv=3,        # 交叉验证的折数\n",
        "    verbose=1,\n",
        "    random_state=1,\n",
        "    n_jobs=-1  # 使用所有可用的CPU核心进行并行计算\n",
        ")"
      ]
    },
    {
      "cell_type": "code",
      "execution_count": null,
      "metadata": {
        "colab": {
          "base_uri": "https://localhost:8080/"
        },
        "id": "wtRbeSlpz8I6",
        "outputId": "89cb8435-797e-4dc0-a62a-f4a837b378d9"
      },
      "outputs": [
        {
          "output_type": "stream",
          "name": "stdout",
          "text": [
            "Fitting 3 folds for each of 10 candidates, totalling 30 fits\n"
          ]
        }
      ],
      "source": [
        "random_search.fit(X_resampled, y_resampled)\n",
        "best_model = random_search.best_estimator_"
      ]
    },
    {
      "cell_type": "code",
      "execution_count": null,
      "metadata": {
        "colab": {
          "base_uri": "https://localhost:8080/"
        },
        "id": "wyZTwE3j26_R",
        "outputId": "5773e327-0372-452f-884b-6dd9c3b867fa"
      },
      "outputs": [
        {
          "output_type": "execute_result",
          "data": {
            "text/plain": [
              "{'n_estimators': 70, 'max_samples': 0.7, 'max_features': 0.4}"
            ]
          },
          "metadata": {},
          "execution_count": 72
        }
      ],
      "source": [
        "random_search.best_params_"
      ]
    },
    {
      "cell_type": "code",
      "execution_count": 37,
      "metadata": {
        "id": "CSK1k-9Iwybt"
      },
      "outputs": [],
      "source": [
        "best_model = load('/content/drive/MyDrive/credit_card_fraud_detection/model/bagging.joblib')"
      ]
    },
    {
      "cell_type": "code",
      "execution_count": null,
      "metadata": {
        "colab": {
          "base_uri": "https://localhost:8080/"
        },
        "id": "sKWmh3YzJEzx",
        "outputId": "bf78a05c-5021-4dac-a83d-7bc53bed415c"
      },
      "outputs": [
        {
          "output_type": "execute_result",
          "data": {
            "text/plain": [
              "['/content/drive/MyDrive/credit_card_fraud_detection/model/bagging.joblib']"
            ]
          },
          "metadata": {},
          "execution_count": 73
        }
      ],
      "source": [
        "dump(best_model, '/content/drive/MyDrive/credit_card_fraud_detection/model/bagging.joblib')"
      ]
    },
    {
      "cell_type": "code",
      "source": [
        "y_pred = best_model.predict(X_test)"
      ],
      "metadata": {
        "id": "TuMyNeyDvKvL"
      },
      "execution_count": 48,
      "outputs": []
    },
    {
      "cell_type": "code",
      "execution_count": 79,
      "metadata": {
        "colab": {
          "base_uri": "https://localhost:8080/",
          "height": 498
        },
        "id": "-fY2FaIP_WZd",
        "outputId": "a7ee271a-fe36-46db-a638-29ef67c5962f"
      },
      "outputs": [
        {
          "output_type": "execute_result",
          "data": {
            "text/plain": [
              "Text(46.25, 0.5, 'True')"
            ]
          },
          "metadata": {},
          "execution_count": 79
        },
        {
          "output_type": "display_data",
          "data": {
            "text/plain": [
              "<Figure size 640x480 with 2 Axes>"
            ],
            "image/png": "[encoded data removed]"
          },
          "metadata": {}
        }
      ],
      "source": [
        "# (a) 绘制混淆矩阵\n",
        "cm = confusion_matrix(y_test, y_pred)\n",
        "sns.heatmap(cm, annot=True, fmt='d', cmap='Blues')\n",
        "plt.title('Confusion Matrix for Bagging')\n",
        "plt.xlabel('Predicted')\n",
        "plt.ylabel('True')"
      ]
    },
    {
      "cell_type": "code",
      "execution_count": 73,
      "metadata": {
        "colab": {
          "base_uri": "https://localhost:8080/",
          "height": 480
        },
        "outputId": "f41d185f-6335-48b1-8f8a-d04f12b2d54e",
        "id": "0fQrG8GLBDyx"
      },
      "outputs": [
        {
          "output_type": "display_data",
          "data": {
            "text/plain": [
              "<Figure size 640x480 with 1 Axes>"
            ],
            "image/png": "[encoded data removed]"
          },
          "metadata": {}
        }
      ],
      "source": [
        "# (b) 计算Precision-Recall AUC并绘制曲线\n",
        "precision, recall, _ = precision_recall_curve(y_test, best_model.predict_proba(X_test)[:, 1])\n",
        "auc_pr_bag = auc(recall, precision)\n",
        "plt.figure()\n",
        "no_skill = len(y_test[y_test==1]) / len(y_test)\n",
        "plt.plot([0, 1], [no_skill, no_skill], linestyle='--', label='No Skill')\n",
        "plt.plot(recall, precision, label='CatBoost AUC_PR = %0.3f' % auc_pr_bag)\n",
        "plt.xlabel('Recall')\n",
        "plt.ylabel('Precision')\n",
        "plt.title('Bagging Precision-Recall Curve')\n",
        "plt.legend(loc='center left')\n",
        "plt.grid(False)"
      ]
    },
    {
      "cell_type": "markdown",
      "metadata": {
        "id": "_2l9K9KnzkbZ"
      },
      "source": [
        "## random forest"
      ]
    },
    {
      "cell_type": "code",
      "execution_count": null,
      "metadata": {
        "id": "hpz3qbR1zMwQ"
      },
      "outputs": [],
      "source": [
        "from sklearn.ensemble import RandomForestClassifier\n",
        "# 定义随机森林分类器的基础估计器\n",
        "base_model = RandomForestClassifier()\n",
        "\n",
        "# 定义参数的搜索空间，使用常用的离散值\n",
        "param_dist_rf = {\n",
        "    'n_estimators': [10,30,50,70],\n",
        "    'max_depth': [None, 10, 20, 30],\n",
        "    'min_samples_split': [2, 5, 10],\n",
        "    'min_samples_leaf': [1, 2, 4],\n",
        "    'max_features': ['auto', 'sqrt', 'log2']\n",
        "}\n",
        "\n",
        "# 创建RandomizedSearchCV实例\n",
        "random_search_rf = RandomizedSearchCV(\n",
        "    estimator=base_model,\n",
        "    param_distributions=param_dist_rf,\n",
        "    n_iter=10,  # 可以根据您的计算资源调整迭代次数\n",
        "    cv=3,  # 交叉验证的折数\n",
        "    verbose=1,\n",
        "    random_state=1,\n",
        "    n_jobs=-1  # 使用所有可用的CPU核心进行并行计算\n",
        ")\n"
      ]
    },
    {
      "cell_type": "code",
      "execution_count": null,
      "metadata": {
        "colab": {
          "base_uri": "https://localhost:8080/"
        },
        "id": "_j268I7zxRQW",
        "outputId": "cfa93a60-ddf8-4341-c9ac-7fa8b1537724"
      },
      "outputs": [
        {
          "name": "stdout",
          "output_type": "stream",
          "text": [
            "Fitting 3 folds for each of 10 candidates, totalling 30 fits\n"
          ]
        }
      ],
      "source": [
        "random_search_rf.fit(X_resampled, y_resampled)\n",
        "best_model_rf = random_search_rf.best_estimator_"
      ]
    },
    {
      "cell_type": "code",
      "execution_count": null,
      "metadata": {
        "colab": {
          "base_uri": "https://localhost:8080/"
        },
        "id": "_3Qcg_1BxcVk",
        "outputId": "4467eb18-5f07-45e1-e222-fa7eac1ba806"
      },
      "outputs": [
        {
          "data": {
            "text/plain": [
              "{'n_estimators': 50,\n",
              " 'min_samples_split': 5,\n",
              " 'min_samples_leaf': 1,\n",
              " 'max_features': 'sqrt',\n",
              " 'max_depth': 30}"
            ]
          },
          "execution_count": 37,
          "metadata": {},
          "output_type": "execute_result"
        }
      ],
      "source": [
        "random_search_rf.best_params_"
      ]
    },
    {
      "cell_type": "code",
      "execution_count": null,
      "metadata": {
        "colab": {
          "base_uri": "https://localhost:8080/"
        },
        "id": "zCfAaG4V2pyf",
        "outputId": "5cbc489a-0a1b-4d5b-b572-5797a9127bc8"
      },
      "outputs": [
        {
          "data": {
            "text/plain": [
              "['/content/drive/MyDrive/credit_card_fraud_detection/model/rf.joblib']"
            ]
          },
          "execution_count": 41,
          "metadata": {},
          "output_type": "execute_result"
        }
      ],
      "source": [
        "# dump(best_model_rf, '/content/drive/MyDrive/credit_card_fraud_detection/model/rf.joblib')"
      ]
    },
    {
      "cell_type": "code",
      "execution_count": 44,
      "metadata": {
        "id": "XVgxRUMtxh9k"
      },
      "outputs": [],
      "source": [
        "best_model_rf = load('/content/drive/MyDrive/credit_card_fraud_detection/model/rf.joblib')"
      ]
    },
    {
      "cell_type": "code",
      "source": [
        "y_pred_rf = best_model_rf.predict(X_test)"
      ],
      "metadata": {
        "id": "T17RWCC-vFcC"
      },
      "execution_count": 47,
      "outputs": []
    },
    {
      "cell_type": "code",
      "execution_count": null,
      "metadata": {
        "colab": {
          "base_uri": "https://localhost:8080/",
          "height": 498
        },
        "id": "oRkqxcay3Tdb",
        "outputId": "5a5a4270-35b7-4ad5-848b-ef9dff562144"
      },
      "outputs": [
        {
          "output_type": "execute_result",
          "data": {
            "text/plain": [
              "Text(46.25, 0.5, 'True')"
            ]
          },
          "metadata": {},
          "execution_count": 66
        },
        {
          "output_type": "display_data",
          "data": {
            "text/plain": [
              "<Figure size 640x480 with 2 Axes>"
            ],
            "image/png": "[encoded data removed]"
          },
          "metadata": {}
        }
      ],
      "source": [
        "# (a) 绘制混淆矩阵\n",
        "cm_rf = confusion_matrix(y_test, y_pred_rf)\n",
        "sns.heatmap(cm_rf, annot=True, fmt='d', cmap='Blues')\n",
        "plt.title('Confusion Matrix for Random Forest')\n",
        "plt.xlabel('Predicted')\n",
        "plt.ylabel('True')"
      ]
    },
    {
      "cell_type": "code",
      "execution_count": 74,
      "metadata": {
        "colab": {
          "base_uri": "https://localhost:8080/",
          "height": 480
        },
        "outputId": "8def4a9f-85fd-4c61-9c3c-321763bac4da",
        "id": "nPJ-SXDTAS6Z"
      },
      "outputs": [
        {
          "output_type": "display_data",
          "data": {
            "text/plain": [
              "<Figure size 640x480 with 1 Axes>"
            ],
            "image/png": "[encoded data removed]"
          },
          "metadata": {}
        }
      ],
      "source": [
        "# (b) 计算Precision-Recall AUC并绘制曲线\n",
        "precision_rf, recall_rf, _ = precision_recall_curve(y_test, best_model_rf.predict_proba(X_test)[:, 1])\n",
        "auc_pr_rf = auc(recall_rf, precision_rf)\n",
        "plt.figure()\n",
        "no_skill = len(y_test[y_test==1]) / len(y_test)\n",
        "plt.plot([0, 1], [no_skill, no_skill], linestyle='--', label='No Skill')\n",
        "plt.plot(recall_rf, precision_rf, label='Random Forest AUC_PR = %0.3f' % auc_pr_rf)\n",
        "plt.xlabel('Recall')\n",
        "plt.ylabel('Precision')\n",
        "plt.title('Random Forest Precision-Recall Curve')\n",
        "plt.legend(loc='center left')\n",
        "plt.grid(False)"
      ]
    },
    {
      "cell_type": "code",
      "execution_count": null,
      "metadata": {
        "colab": {
          "base_uri": "https://localhost:8080/",
          "height": 500
        },
        "outputId": "149bbf66-84a5-4539-e8d5-b5bc731b5b43",
        "id": "u6nKfG7VAS6a"
      },
      "outputs": [
        {
          "output_type": "stream",
          "name": "stderr",
          "text": [
            "<ipython-input-68-2be7c4449baf>:7: UserWarning: FixedFormatter should only be used together with FixedLocator\n",
            "  s.set_xticklabels(s.get_xticklabels(),rotation=90)\n"
          ]
        },
        {
          "output_type": "display_data",
          "data": {
            "text/plain": [
              "<Figure size 700x400 with 1 Axes>"
            ],
            "image/png": "[encoded data removed]"
          },
          "metadata": {}
        }
      ],
      "source": [
        "# (c) 绘制特征重要性\n",
        "tmp = pd.DataFrame({'Feature': predictors, 'Feature importance': best_model_rf.feature_importances_})\n",
        "tmp = tmp.sort_values(by='Feature importance',ascending=False)\n",
        "plt.figure(figsize = (7,4))\n",
        "plt.title('Random Forest Features importance',fontsize=14)\n",
        "s = sns.barplot(x='Feature',y='Feature importance',data=tmp)\n",
        "s.set_xticklabels(s.get_xticklabels(),rotation=90)\n",
        "plt.show()"
      ]
    },
    {
      "cell_type": "markdown",
      "metadata": {
        "id": "6BFtP-r0zoGS"
      },
      "source": [
        "## XGBoost"
      ]
    },
    {
      "cell_type": "code",
      "source": [
        "# pip install xgboost"
      ],
      "metadata": {
        "id": "yNvX3KV_hWzZ"
      },
      "execution_count": null,
      "outputs": []
    },
    {
      "cell_type": "code",
      "execution_count": null,
      "metadata": {
        "id": "z7esamaNzQUh"
      },
      "outputs": [],
      "source": [
        "# XGBoost\n",
        "import xgboost as xgb\n",
        "\n",
        "# 定义XGBoost模型\n",
        "base_model_xgb = xgb.XGBClassifier(use_label_encoder=False, eval_metric='logloss')\n",
        "\n",
        "# 定义参数的搜索空间\n",
        "param_dist_xgb = {\n",
        "    'n_estimators': [50, 100, 200, 400],\n",
        "    'subsample': [0.5, 0.7, 0.9, 1.0],\n",
        "    'max_depth': [3, 5, 7, 9],\n",
        "    'min_child_weight': [1, 3, 5, 7],\n",
        "    'colsample_bytree': [0.5, 0.7, 0.9, 1.0],\n",
        "    'learning_rate': [0.01, 0.1, 0.2, 0.3],\n",
        "    'gamma': [0, 0.1, 0.2, 0.3]\n",
        "}\n",
        "\n",
        "# 创建RandomizedSearchCV实例\n",
        "random_search_xgb = RandomizedSearchCV(\n",
        "    estimator=base_model_xgb,\n",
        "    param_distributions=param_dist_xgb,\n",
        "    n_iter=10,  # 可以根据您的计算资源调整迭代次数\n",
        "    cv=3,  # 交叉验证的折数\n",
        "    verbose=1,\n",
        "    random_state=1,\n",
        "    n_jobs=-1  # 使用所有可用的CPU核心进行并行计算\n",
        ")"
      ]
    },
    {
      "cell_type": "code",
      "execution_count": null,
      "metadata": {
        "colab": {
          "base_uri": "https://localhost:8080/"
        },
        "id": "mori93lw4Xtz",
        "outputId": "3a94a19e-51b4-4a34-d470-2053a2c642ab"
      },
      "outputs": [
        {
          "name": "stdout",
          "output_type": "stream",
          "text": [
            "Fitting 3 folds for each of 10 candidates, totalling 30 fits\n"
          ]
        }
      ],
      "source": [
        "random_search_xgb.fit(X_resampled, y_resampled)\n",
        "best_model_xgb = random_search_xgb.best_estimator_"
      ]
    },
    {
      "cell_type": "code",
      "execution_count": null,
      "metadata": {
        "colab": {
          "base_uri": "https://localhost:8080/"
        },
        "id": "jP0MayrJ4kEb",
        "outputId": "53031120-8dca-4360-a335-d6a5f856a5c6"
      },
      "outputs": [
        {
          "data": {
            "text/plain": [
              "{'subsample': 0.7,\n",
              " 'n_estimators': 200,\n",
              " 'min_child_weight': 1,\n",
              " 'max_depth': 7,\n",
              " 'learning_rate': 0.3,\n",
              " 'gamma': 0,\n",
              " 'colsample_bytree': 0.5}"
            ]
          },
          "execution_count": 47,
          "metadata": {},
          "output_type": "execute_result"
        }
      ],
      "source": [
        "random_search_xgb.best_params_"
      ]
    },
    {
      "cell_type": "code",
      "execution_count": null,
      "metadata": {
        "colab": {
          "base_uri": "https://localhost:8080/"
        },
        "id": "dJpk7RgG4xAG",
        "outputId": "20b44e01-f34e-4e33-a4db-efe75b1f8e0e"
      },
      "outputs": [
        {
          "data": {
            "text/plain": [
              "['/content/drive/MyDrive/credit_card_fraud_detection/model/xgb.joblib']"
            ]
          },
          "execution_count": 49,
          "metadata": {},
          "output_type": "execute_result"
        }
      ],
      "source": [
        "dump(best_model_xgb, '/content/drive/MyDrive/credit_card_fraud_detection/model/xgb.joblib')"
      ]
    },
    {
      "cell_type": "code",
      "execution_count": 43,
      "metadata": {
        "id": "riOJKU0z5gog"
      },
      "outputs": [],
      "source": [
        "best_model_xgb = load('/content/drive/MyDrive/credit_card_fraud_detection/model/xgb.joblib')"
      ]
    },
    {
      "cell_type": "code",
      "source": [
        "y_pred_xgb = best_model_xgb.predict(X_test)"
      ],
      "metadata": {
        "id": "3_jK-mc1vAGa"
      },
      "execution_count": 46,
      "outputs": []
    },
    {
      "cell_type": "code",
      "execution_count": 78,
      "metadata": {
        "colab": {
          "base_uri": "https://localhost:8080/",
          "height": 498
        },
        "id": "TL81TE6d4xAJ",
        "outputId": "f701cff4-cdd9-4cd4-ed1a-49ea425d7058"
      },
      "outputs": [
        {
          "output_type": "execute_result",
          "data": {
            "text/plain": [
              "Text(46.25, 0.5, 'True')"
            ]
          },
          "metadata": {},
          "execution_count": 78
        },
        {
          "output_type": "display_data",
          "data": {
            "text/plain": [
              "<Figure size 640x480 with 2 Axes>"
            ],
            "image/png": "[encoded data removed]"
          },
          "metadata": {}
        }
      ],
      "source": [
        "# (a) 绘制混淆矩阵\n",
        "cm_xgb = confusion_matrix(y_test, y_pred_xgb)\n",
        "sns.heatmap(cm_xgb, annot=True, fmt='d', cmap='Blues')\n",
        "plt.title('Confusion Matrix for XGBoost')\n",
        "plt.xlabel('Predicted')\n",
        "plt.ylabel('True')"
      ]
    },
    {
      "cell_type": "code",
      "execution_count": 75,
      "metadata": {
        "colab": {
          "base_uri": "https://localhost:8080/",
          "height": 480
        },
        "outputId": "9e660842-d012-41ae-eaef-241e1bf03155",
        "id": "FgdfZoS0_pmr"
      },
      "outputs": [
        {
          "output_type": "display_data",
          "data": {
            "text/plain": [
              "<Figure size 640x480 with 1 Axes>"
            ],
            "image/png": "[encoded data removed]"
          },
          "metadata": {}
        }
      ],
      "source": [
        "# (b) 计算Precision-Recall AUC并绘制曲线\n",
        "precision_xgb, recall_xgb, _ = precision_recall_curve(y_test, best_model_xgb.predict_proba(X_test)[:, 1])\n",
        "auc_pr_xgb = auc(recall_xgb, precision_xgb)\n",
        "plt.figure()\n",
        "no_skill = len(y_test[y_test==1]) / len(y_test)\n",
        "plt.plot([0, 1], [no_skill, no_skill], linestyle='--', label='No Skill')\n",
        "plt.plot(recall_xgb, precision_xgb, label='XGBoost AUC_PR = %0.3f' % auc_pr_xgb)\n",
        "plt.xlabel('Recall')\n",
        "plt.ylabel('Precision')\n",
        "plt.title('XGBoost Precision-Recall Curve')\n",
        "plt.legend(loc='center left')\n",
        "plt.grid(False)"
      ]
    },
    {
      "cell_type": "code",
      "execution_count": null,
      "metadata": {
        "colab": {
          "base_uri": "https://localhost:8080/",
          "height": 500
        },
        "outputId": "4d5dd38b-3921-4c16-df17-4ad9a5a6da5d",
        "id": "5yboY87a_pmt"
      },
      "outputs": [
        {
          "output_type": "stream",
          "name": "stderr",
          "text": [
            "<ipython-input-62-8e69c3b27be6>:7: UserWarning: FixedFormatter should only be used together with FixedLocator\n",
            "  s.set_xticklabels(s.get_xticklabels(),rotation=90)\n"
          ]
        },
        {
          "output_type": "display_data",
          "data": {
            "text/plain": [
              "<Figure size 700x400 with 1 Axes>"
            ],
            "image/png": "[encoded data removed]"
          },
          "metadata": {}
        }
      ],
      "source": [
        "# (c) 绘制特征重要性\n",
        "tmp = pd.DataFrame({'Feature': predictors, 'Feature importance': best_model_xgb.feature_importances_})\n",
        "tmp = tmp.sort_values(by='Feature importance',ascending=False)\n",
        "plt.figure(figsize = (7,4))\n",
        "plt.title('XGBoost Features importance',fontsize=14)\n",
        "s = sns.barplot(x='Feature',y='Feature importance',data=tmp)\n",
        "s.set_xticklabels(s.get_xticklabels(),rotation=90)\n",
        "plt.show()"
      ]
    },
    {
      "cell_type": "markdown",
      "metadata": {
        "id": "aRMxZnHEzqX7"
      },
      "source": [
        "## LightGBM"
      ]
    },
    {
      "cell_type": "code",
      "source": [
        "# pip install lightgbm"
      ],
      "metadata": {
        "colab": {
          "base_uri": "https://localhost:8080/"
        },
        "id": "5LIFp_ilhaVS",
        "outputId": "f825a4f3-03f4-4b4a-a82b-7d235e75b06d"
      },
      "execution_count": 32,
      "outputs": [
        {
          "output_type": "stream",
          "name": "stdout",
          "text": [
            "Requirement already satisfied: lightgbm in /usr/local/lib/python3.10/dist-packages (4.1.0)\n",
            "Requirement already satisfied: numpy in /usr/local/lib/python3.10/dist-packages (from lightgbm) (1.25.2)\n",
            "Requirement already satisfied: scipy in /usr/local/lib/python3.10/dist-packages (from lightgbm) (1.11.4)\n"
          ]
        }
      ]
    },
    {
      "cell_type": "code",
      "execution_count": null,
      "metadata": {
        "id": "XyjcdaM5zTrp"
      },
      "outputs": [],
      "source": [
        "# LightGBM\n",
        "import lightgbm as lgb\n",
        "\n",
        "# 定义LightGBM模型\n",
        "base_model_lgb = lgb.LGBMClassifier()\n",
        "\n",
        "# 定义参数的搜索空间\n",
        "param_dist_lgb = {\n",
        "    'n_estimators': [50, 100, 200, 400],\n",
        "    'max_depth': [3, 5, 7, 9],\n",
        "    'max_bin': [100, 200, 300, 500],\n",
        "    'min_data_in_leaf': [20, 40, 60, 80],\n",
        "    'learning_rate': [0.05, 0.1, 0.2, 0.3],\n",
        "    'subsample': [0.4, 0.6, 0.8, 1.0],\n",
        "    'num_leaves': [31, 63, 127, 255],\n",
        "    # 'colsample_by_tree': [0.5, 0.6, 0.7, 0.8]\n",
        "}\n",
        "\n",
        "# 创建RandomizedSearchCV实例\n",
        "random_search_lgb = RandomizedSearchCV(\n",
        "    estimator=base_model_lgb,\n",
        "    param_distributions=param_dist_lgb,\n",
        "    n_iter=10,  # 可以根据您的计算资源调整迭代次数\n",
        "    cv=3,  # 交叉验证的折数\n",
        "    verbose=1,\n",
        "    random_state=1,\n",
        "    n_jobs=-1  # 使用所有可用的CPU核心进行并行计算\n",
        ")"
      ]
    },
    {
      "cell_type": "code",
      "execution_count": null,
      "metadata": {
        "colab": {
          "base_uri": "https://localhost:8080/"
        },
        "id": "DbnmvFRs6HxK",
        "outputId": "56c42a5e-1d94-4cde-e80d-73bc4f2e3ae4"
      },
      "outputs": [
        {
          "name": "stdout",
          "output_type": "stream",
          "text": [
            "Fitting 3 folds for each of 10 candidates, totalling 30 fits\n",
            "[LightGBM] [Warning] min_data_in_leaf is set=80, min_child_samples=20 will be ignored. Current value: min_data_in_leaf=80\n",
            "[LightGBM] [Warning] min_data_in_leaf is set=80, min_child_samples=20 will be ignored. Current value: min_data_in_leaf=80\n",
            "[LightGBM] [Info] Number of positive: 199020, number of negative: 198597\n",
            "[LightGBM] [Info] Auto-choosing col-wise multi-threading, the overhead of testing was 0.130820 seconds.\n",
            "You can set `force_col_wise=true` to remove the overhead.\n",
            "[LightGBM] [Info] Total Bins 15000\n",
            "[LightGBM] [Info] Number of data points in the train set: 397617, number of used features: 30\n",
            "[LightGBM] [Info] [binary:BoostFromScore]: pavg=0.500532 -> initscore=0.002128\n",
            "[LightGBM] [Info] Start training from score 0.002128\n",
            "[LightGBM] [Warning] No further splits with positive gain, best gain: -inf\n",
            "[LightGBM] [Warning] No further splits with positive gain, best gain: -inf\n",
            "[LightGBM] [Warning] No further splits with positive gain, best gain: -inf\n",
            "[LightGBM] [Warning] No further splits with positive gain, best gain: -inf\n",
            "[LightGBM] [Warning] No further splits with positive gain, best gain: -inf\n",
            "[LightGBM] [Warning] No further splits with positive gain, best gain: -inf\n",
            "[LightGBM] [Warning] No further splits with positive gain, best gain: -inf\n",
            "[LightGBM] [Warning] No further splits with positive gain, best gain: -inf\n",
            "[LightGBM] [Warning] No further splits with positive gain, best gain: -inf\n",
            "[LightGBM] [Warning] No further splits with positive gain, best gain: -inf\n",
            "[LightGBM] [Warning] No further splits with positive gain, best gain: -inf\n",
            "[LightGBM] [Warning] No further splits with positive gain, best gain: -inf\n",
            "[LightGBM] [Warning] No further splits with positive gain, best gain: -inf\n",
            "[LightGBM] [Warning] No further splits with positive gain, best gain: -inf\n",
            "[LightGBM] [Warning] No further splits with positive gain, best gain: -inf\n",
            "[LightGBM] [Warning] No further splits with positive gain, best gain: -inf\n",
            "[LightGBM] [Warning] No further splits with positive gain, best gain: -inf\n",
            "[LightGBM] [Warning] No further splits with positive gain, best gain: -inf\n",
            "[LightGBM] [Warning] No further splits with positive gain, best gain: -inf\n",
            "[LightGBM] [Warning] No further splits with positive gain, best gain: -inf\n",
            "[LightGBM] [Warning] No further splits with positive gain, best gain: -inf\n",
            "[LightGBM] [Warning] No further splits with positive gain, best gain: -inf\n",
            "[LightGBM] [Warning] No further splits with positive gain, best gain: -inf\n",
            "[LightGBM] [Warning] No further splits with positive gain, best gain: -inf\n",
            "[LightGBM] [Warning] No further splits with positive gain, best gain: -inf\n",
            "[LightGBM] [Warning] No further splits with positive gain, best gain: -inf\n",
            "[LightGBM] [Warning] No further splits with positive gain, best gain: -inf\n",
            "[LightGBM] [Warning] No further splits with positive gain, best gain: -inf\n",
            "[LightGBM] [Warning] No further splits with positive gain, best gain: -inf\n",
            "[LightGBM] [Warning] No further splits with positive gain, best gain: -inf\n",
            "[LightGBM] [Warning] No further splits with positive gain, best gain: -inf\n",
            "[LightGBM] [Warning] No further splits with positive gain, best gain: -inf\n",
            "[LightGBM] [Warning] No further splits with positive gain, best gain: -inf\n",
            "[LightGBM] [Warning] No further splits with positive gain, best gain: -inf\n",
            "[LightGBM] [Warning] No further splits with positive gain, best gain: -inf\n",
            "[LightGBM] [Warning] No further splits with positive gain, best gain: -inf\n",
            "[LightGBM] [Warning] No further splits with positive gain, best gain: -inf\n",
            "[LightGBM] [Warning] No further splits with positive gain, best gain: -inf\n",
            "[LightGBM] [Warning] No further splits with positive gain, best gain: -inf\n",
            "[LightGBM] [Warning] No further splits with positive gain, best gain: -inf\n",
            "[LightGBM] [Warning] No further splits with positive gain, best gain: -inf\n",
            "[LightGBM] [Warning] No further splits with positive gain, best gain: -inf\n",
            "[LightGBM] [Warning] No further splits with positive gain, best gain: -inf\n",
            "[LightGBM] [Warning] No further splits with positive gain, best gain: -inf\n",
            "[LightGBM] [Warning] No further splits with positive gain, best gain: -inf\n",
            "[LightGBM] [Warning] No further splits with positive gain, best gain: -inf\n",
            "[LightGBM] [Warning] No further splits with positive gain, best gain: -inf\n",
            "[LightGBM] [Warning] No further splits with positive gain, best gain: -inf\n",
            "[LightGBM] [Warning] No further splits with positive gain, best gain: -inf\n",
            "[LightGBM] [Warning] No further splits with positive gain, best gain: -inf\n",
            "[LightGBM] [Warning] No further splits with positive gain, best gain: -inf\n",
            "[LightGBM] [Warning] No further splits with positive gain, best gain: -inf\n",
            "[LightGBM] [Warning] No further splits with positive gain, best gain: -inf\n",
            "[LightGBM] [Warning] No further splits with positive gain, best gain: -inf\n",
            "[LightGBM] [Warning] No further splits with positive gain, best gain: -inf\n",
            "[LightGBM] [Warning] No further splits with positive gain, best gain: -inf\n",
            "[LightGBM] [Warning] No further splits with positive gain, best gain: -inf\n",
            "[LightGBM] [Warning] No further splits with positive gain, best gain: -inf\n",
            "[LightGBM] [Warning] No further splits with positive gain, best gain: -inf\n",
            "[LightGBM] [Warning] No further splits with positive gain, best gain: -inf\n",
            "[LightGBM] [Warning] No further splits with positive gain, best gain: -inf\n",
            "[LightGBM] [Warning] No further splits with positive gain, best gain: -inf\n",
            "[LightGBM] [Warning] No further splits with positive gain, best gain: -inf\n",
            "[LightGBM] [Warning] No further splits with positive gain, best gain: -inf\n",
            "[LightGBM] [Warning] No further splits with positive gain, best gain: -inf\n",
            "[LightGBM] [Warning] No further splits with positive gain, best gain: -inf\n",
            "[LightGBM] [Warning] No further splits with positive gain, best gain: -inf\n",
            "[LightGBM] [Warning] No further splits with positive gain, best gain: -inf\n",
            "[LightGBM] [Warning] No further splits with positive gain, best gain: -inf\n",
            "[LightGBM] [Warning] No further splits with positive gain, best gain: -inf\n",
            "[LightGBM] [Warning] No further splits with positive gain, best gain: -inf\n",
            "[LightGBM] [Warning] No further splits with positive gain, best gain: -inf\n",
            "[LightGBM] [Warning] No further splits with positive gain, best gain: -inf\n",
            "[LightGBM] [Warning] No further splits with positive gain, best gain: -inf\n",
            "[LightGBM] [Warning] No further splits with positive gain, best gain: -inf\n",
            "[LightGBM] [Warning] No further splits with positive gain, best gain: -inf\n",
            "[LightGBM] [Warning] No further splits with positive gain, best gain: -inf\n",
            "[LightGBM] [Warning] No further splits with positive gain, best gain: -inf\n",
            "[LightGBM] [Warning] No further splits with positive gain, best gain: -inf\n",
            "[LightGBM] [Warning] No further splits with positive gain, best gain: -inf\n",
            "[LightGBM] [Warning] No further splits with positive gain, best gain: -inf\n",
            "[LightGBM] [Warning] No further splits with positive gain, best gain: -inf\n",
            "[LightGBM] [Warning] No further splits with positive gain, best gain: -inf\n",
            "[LightGBM] [Warning] No further splits with positive gain, best gain: -inf\n",
            "[LightGBM] [Warning] No further splits with positive gain, best gain: -inf\n",
            "[LightGBM] [Warning] No further splits with positive gain, best gain: -inf\n",
            "[LightGBM] [Warning] No further splits with positive gain, best gain: -inf\n",
            "[LightGBM] [Warning] No further splits with positive gain, best gain: -inf\n",
            "[LightGBM] [Warning] No further splits with positive gain, best gain: -inf\n",
            "[LightGBM] [Warning] No further splits with positive gain, best gain: -inf\n",
            "[LightGBM] [Warning] No further splits with positive gain, best gain: -inf\n",
            "[LightGBM] [Warning] No further splits with positive gain, best gain: -inf\n",
            "[LightGBM] [Warning] No further splits with positive gain, best gain: -inf\n",
            "[LightGBM] [Warning] No further splits with positive gain, best gain: -inf\n",
            "[LightGBM] [Warning] No further splits with positive gain, best gain: -inf\n",
            "[LightGBM] [Warning] No further splits with positive gain, best gain: -inf\n",
            "[LightGBM] [Warning] No further splits with positive gain, best gain: -inf\n",
            "[LightGBM] [Warning] No further splits with positive gain, best gain: -inf\n",
            "[LightGBM] [Warning] No further splits with positive gain, best gain: -inf\n",
            "[LightGBM] [Warning] No further splits with positive gain, best gain: -inf\n",
            "[LightGBM] [Warning] No further splits with positive gain, best gain: -inf\n",
            "[LightGBM] [Warning] No further splits with positive gain, best gain: -inf\n",
            "[LightGBM] [Warning] No further splits with positive gain, best gain: -inf\n",
            "[LightGBM] [Warning] No further splits with positive gain, best gain: -inf\n",
            "[LightGBM] [Warning] No further splits with positive gain, best gain: -inf\n",
            "[LightGBM] [Warning] No further splits with positive gain, best gain: -inf\n",
            "[LightGBM] [Warning] No further splits with positive gain, best gain: -inf\n",
            "[LightGBM] [Warning] No further splits with positive gain, best gain: -inf\n",
            "[LightGBM] [Warning] No further splits with positive gain, best gain: -inf\n",
            "[LightGBM] [Warning] No further splits with positive gain, best gain: -inf\n",
            "[LightGBM] [Warning] No further splits with positive gain, best gain: -inf\n",
            "[LightGBM] [Warning] No further splits with positive gain, best gain: -inf\n",
            "[LightGBM] [Warning] No further splits with positive gain, best gain: -inf\n",
            "[LightGBM] [Warning] No further splits with positive gain, best gain: -inf\n",
            "[LightGBM] [Warning] No further splits with positive gain, best gain: -inf\n",
            "[LightGBM] [Warning] No further splits with positive gain, best gain: -inf\n",
            "[LightGBM] [Warning] No further splits with positive gain, best gain: -inf\n",
            "[LightGBM] [Warning] No further splits with positive gain, best gain: -inf\n",
            "[LightGBM] [Warning] No further splits with positive gain, best gain: -inf\n",
            "[LightGBM] [Warning] No further splits with positive gain, best gain: -inf\n",
            "[LightGBM] [Warning] No further splits with positive gain, best gain: -inf\n",
            "[LightGBM] [Warning] No further splits with positive gain, best gain: -inf\n",
            "[LightGBM] [Warning] No further splits with positive gain, best gain: -inf\n",
            "[LightGBM] [Warning] No further splits with positive gain, best gain: -inf\n",
            "[LightGBM] [Warning] No further splits with positive gain, best gain: -inf\n",
            "[LightGBM] [Warning] No further splits with positive gain, best gain: -inf\n",
            "[LightGBM] [Warning] No further splits with positive gain, best gain: -inf\n",
            "[LightGBM] [Warning] No further splits with positive gain, best gain: -inf\n",
            "[LightGBM] [Warning] No further splits with positive gain, best gain: -inf\n",
            "[LightGBM] [Warning] No further splits with positive gain, best gain: -inf\n",
            "[LightGBM] [Warning] No further splits with positive gain, best gain: -inf\n",
            "[LightGBM] [Warning] No further splits with positive gain, best gain: -inf\n",
            "[LightGBM] [Warning] No further splits with positive gain, best gain: -inf\n",
            "[LightGBM] [Warning] No further splits with positive gain, best gain: -inf\n",
            "[LightGBM] [Warning] No further splits with positive gain, best gain: -inf\n",
            "[LightGBM] [Warning] No further splits with positive gain, best gain: -inf\n",
            "[LightGBM] [Warning] No further splits with positive gain, best gain: -inf\n",
            "[LightGBM] [Warning] No further splits with positive gain, best gain: -inf\n",
            "[LightGBM] [Warning] No further splits with positive gain, best gain: -inf\n",
            "[LightGBM] [Warning] No further splits with positive gain, best gain: -inf\n",
            "[LightGBM] [Warning] No further splits with positive gain, best gain: -inf\n",
            "[LightGBM] [Warning] No further splits with positive gain, best gain: -inf\n",
            "[LightGBM] [Warning] No further splits with positive gain, best gain: -inf\n",
            "[LightGBM] [Warning] No further splits with positive gain, best gain: -inf\n",
            "[LightGBM] [Warning] No further splits with positive gain, best gain: -inf\n",
            "[LightGBM] [Warning] No further splits with positive gain, best gain: -inf\n",
            "[LightGBM] [Warning] No further splits with positive gain, best gain: -inf\n",
            "[LightGBM] [Warning] No further splits with positive gain, best gain: -inf\n",
            "[LightGBM] [Warning] No further splits with positive gain, best gain: -inf\n",
            "[LightGBM] [Warning] No further splits with positive gain, best gain: -inf\n",
            "[LightGBM] [Warning] No further splits with positive gain, best gain: -inf\n",
            "[LightGBM] [Warning] No further splits with positive gain, best gain: -inf\n",
            "[LightGBM] [Warning] No further splits with positive gain, best gain: -inf\n",
            "[LightGBM] [Warning] No further splits with positive gain, best gain: -inf\n",
            "[LightGBM] [Warning] No further splits with positive gain, best gain: -inf\n",
            "[LightGBM] [Warning] No further splits with positive gain, best gain: -inf\n",
            "[LightGBM] [Warning] No further splits with positive gain, best gain: -inf\n",
            "[LightGBM] [Warning] No further splits with positive gain, best gain: -inf\n",
            "[LightGBM] [Warning] No further splits with positive gain, best gain: -inf\n",
            "[LightGBM] [Warning] No further splits with positive gain, best gain: -inf\n",
            "[LightGBM] [Warning] No further splits with positive gain, best gain: -inf\n",
            "[LightGBM] [Warning] No further splits with positive gain, best gain: -inf\n",
            "[LightGBM] [Warning] No further splits with positive gain, best gain: -inf\n",
            "[LightGBM] [Warning] No further splits with positive gain, best gain: -inf\n",
            "[LightGBM] [Warning] No further splits with positive gain, best gain: -inf\n",
            "[LightGBM] [Warning] No further splits with positive gain, best gain: -inf\n",
            "[LightGBM] [Warning] No further splits with positive gain, best gain: -inf\n",
            "[LightGBM] [Warning] No further splits with positive gain, best gain: -inf\n",
            "[LightGBM] [Warning] No further splits with positive gain, best gain: -inf\n",
            "[LightGBM] [Warning] No further splits with positive gain, best gain: -inf\n",
            "[LightGBM] [Warning] No further splits with positive gain, best gain: -inf\n",
            "[LightGBM] [Warning] No further splits with positive gain, best gain: -inf\n",
            "[LightGBM] [Warning] No further splits with positive gain, best gain: -inf\n",
            "[LightGBM] [Warning] No further splits with positive gain, best gain: -inf\n",
            "[LightGBM] [Warning] No further splits with positive gain, best gain: -inf\n",
            "[LightGBM] [Warning] No further splits with positive gain, best gain: -inf\n",
            "[LightGBM] [Warning] No further splits with positive gain, best gain: -inf\n",
            "[LightGBM] [Warning] No further splits with positive gain, best gain: -inf\n",
            "[LightGBM] [Warning] No further splits with positive gain, best gain: -inf\n",
            "[LightGBM] [Warning] No further splits with positive gain, best gain: -inf\n",
            "[LightGBM] [Warning] No further splits with positive gain, best gain: -inf\n",
            "[LightGBM] [Warning] No further splits with positive gain, best gain: -inf\n",
            "[LightGBM] [Warning] No further splits with positive gain, best gain: -inf\n",
            "[LightGBM] [Warning] No further splits with positive gain, best gain: -inf\n",
            "[LightGBM] [Warning] No further splits with positive gain, best gain: -inf\n",
            "[LightGBM] [Warning] No further splits with positive gain, best gain: -inf\n",
            "[LightGBM] [Warning] No further splits with positive gain, best gain: -inf\n",
            "[LightGBM] [Warning] No further splits with positive gain, best gain: -inf\n",
            "[LightGBM] [Warning] No further splits with positive gain, best gain: -inf\n",
            "[LightGBM] [Warning] No further splits with positive gain, best gain: -inf\n",
            "[LightGBM] [Warning] No further splits with positive gain, best gain: -inf\n",
            "[LightGBM] [Warning] No further splits with positive gain, best gain: -inf\n",
            "[LightGBM] [Warning] No further splits with positive gain, best gain: -inf\n",
            "[LightGBM] [Warning] No further splits with positive gain, best gain: -inf\n",
            "[LightGBM] [Warning] No further splits with positive gain, best gain: -inf\n",
            "[LightGBM] [Warning] No further splits with positive gain, best gain: -inf\n",
            "[LightGBM] [Warning] No further splits with positive gain, best gain: -inf\n",
            "[LightGBM] [Warning] No further splits with positive gain, best gain: -inf\n",
            "[LightGBM] [Warning] No further splits with positive gain, best gain: -inf\n",
            "[LightGBM] [Warning] No further splits with positive gain, best gain: -inf\n",
            "[LightGBM] [Warning] No further splits with positive gain, best gain: -inf\n",
            "[LightGBM] [Warning] No further splits with positive gain, best gain: -inf\n",
            "[LightGBM] [Warning] No further splits with positive gain, best gain: -inf\n",
            "[LightGBM] [Warning] No further splits with positive gain, best gain: -inf\n",
            "[LightGBM] [Warning] No further splits with positive gain, best gain: -inf\n",
            "[LightGBM] [Warning] No further splits with positive gain, best gain: -inf\n",
            "[LightGBM] [Warning] No further splits with positive gain, best gain: -inf\n",
            "[LightGBM] [Warning] No further splits with positive gain, best gain: -inf\n",
            "[LightGBM] [Warning] No further splits with positive gain, best gain: -inf\n",
            "[LightGBM] [Warning] No further splits with positive gain, best gain: -inf\n",
            "[LightGBM] [Warning] No further splits with positive gain, best gain: -inf\n",
            "[LightGBM] [Warning] No further splits with positive gain, best gain: -inf\n",
            "[LightGBM] [Warning] No further splits with positive gain, best gain: -inf\n",
            "[LightGBM] [Warning] No further splits with positive gain, best gain: -inf\n",
            "[LightGBM] [Warning] No further splits with positive gain, best gain: -inf\n",
            "[LightGBM] [Warning] No further splits with positive gain, best gain: -inf\n",
            "[LightGBM] [Warning] No further splits with positive gain, best gain: -inf\n",
            "[LightGBM] [Warning] No further splits with positive gain, best gain: -inf\n",
            "[LightGBM] [Warning] No further splits with positive gain, best gain: -inf\n",
            "[LightGBM] [Warning] No further splits with positive gain, best gain: -inf\n",
            "[LightGBM] [Warning] No further splits with positive gain, best gain: -inf\n",
            "[LightGBM] [Warning] No further splits with positive gain, best gain: -inf\n",
            "[LightGBM] [Warning] No further splits with positive gain, best gain: -inf\n",
            "[LightGBM] [Warning] No further splits with positive gain, best gain: -inf\n",
            "[LightGBM] [Warning] No further splits with positive gain, best gain: -inf\n",
            "[LightGBM] [Warning] No further splits with positive gain, best gain: -inf\n",
            "[LightGBM] [Warning] No further splits with positive gain, best gain: -inf\n",
            "[LightGBM] [Warning] No further splits with positive gain, best gain: -inf\n",
            "[LightGBM] [Warning] No further splits with positive gain, best gain: -inf\n",
            "[LightGBM] [Warning] No further splits with positive gain, best gain: -inf\n",
            "[LightGBM] [Warning] No further splits with positive gain, best gain: -inf\n",
            "[LightGBM] [Warning] No further splits with positive gain, best gain: -inf\n",
            "[LightGBM] [Warning] No further splits with positive gain, best gain: -inf\n",
            "[LightGBM] [Warning] No further splits with positive gain, best gain: -inf\n",
            "[LightGBM] [Warning] No further splits with positive gain, best gain: -inf\n",
            "[LightGBM] [Warning] No further splits with positive gain, best gain: -inf\n",
            "[LightGBM] [Warning] No further splits with positive gain, best gain: -inf\n",
            "[LightGBM] [Warning] No further splits with positive gain, best gain: -inf\n",
            "[LightGBM] [Warning] No further splits with positive gain, best gain: -inf\n",
            "[LightGBM] [Warning] No further splits with positive gain, best gain: -inf\n",
            "[LightGBM] [Warning] No further splits with positive gain, best gain: -inf\n",
            "[LightGBM] [Warning] No further splits with positive gain, best gain: -inf\n",
            "[LightGBM] [Warning] No further splits with positive gain, best gain: -inf\n",
            "[LightGBM] [Warning] No further splits with positive gain, best gain: -inf\n",
            "[LightGBM] [Warning] No further splits with positive gain, best gain: -inf\n",
            "[LightGBM] [Warning] No further splits with positive gain, best gain: -inf\n",
            "[LightGBM] [Warning] No further splits with positive gain, best gain: -inf\n",
            "[LightGBM] [Warning] No further splits with positive gain, best gain: -inf\n",
            "[LightGBM] [Warning] No further splits with positive gain, best gain: -inf\n",
            "[LightGBM] [Warning] No further splits with positive gain, best gain: -inf\n",
            "[LightGBM] [Warning] No further splits with positive gain, best gain: -inf\n",
            "[LightGBM] [Warning] No further splits with positive gain, best gain: -inf\n",
            "[LightGBM] [Warning] No further splits with positive gain, best gain: -inf\n",
            "[LightGBM] [Warning] No further splits with positive gain, best gain: -inf\n",
            "[LightGBM] [Warning] No further splits with positive gain, best gain: -inf\n",
            "[LightGBM] [Warning] No further splits with positive gain, best gain: -inf\n",
            "[LightGBM] [Warning] No further splits with positive gain, best gain: -inf\n",
            "[LightGBM] [Warning] No further splits with positive gain, best gain: -inf\n",
            "[LightGBM] [Warning] No further splits with positive gain, best gain: -inf\n",
            "[LightGBM] [Warning] No further splits with positive gain, best gain: -inf\n",
            "[LightGBM] [Warning] No further splits with positive gain, best gain: -inf\n",
            "[LightGBM] [Warning] No further splits with positive gain, best gain: -inf\n",
            "[LightGBM] [Warning] No further splits with positive gain, best gain: -inf\n",
            "[LightGBM] [Warning] No further splits with positive gain, best gain: -inf\n",
            "[LightGBM] [Warning] No further splits with positive gain, best gain: -inf\n",
            "[LightGBM] [Warning] No further splits with positive gain, best gain: -inf\n",
            "[LightGBM] [Warning] No further splits with positive gain, best gain: -inf\n",
            "[LightGBM] [Warning] No further splits with positive gain, best gain: -inf\n",
            "[LightGBM] [Warning] No further splits with positive gain, best gain: -inf\n",
            "[LightGBM] [Warning] No further splits with positive gain, best gain: -inf\n",
            "[LightGBM] [Warning] No further splits with positive gain, best gain: -inf\n",
            "[LightGBM] [Warning] No further splits with positive gain, best gain: -inf\n",
            "[LightGBM] [Warning] No further splits with positive gain, best gain: -inf\n",
            "[LightGBM] [Warning] No further splits with positive gain, best gain: -inf\n",
            "[LightGBM] [Warning] No further splits with positive gain, best gain: -inf\n",
            "[LightGBM] [Warning] No further splits with positive gain, best gain: -inf\n",
            "[LightGBM] [Warning] No further splits with positive gain, best gain: -inf\n",
            "[LightGBM] [Warning] No further splits with positive gain, best gain: -inf\n",
            "[LightGBM] [Warning] No further splits with positive gain, best gain: -inf\n",
            "[LightGBM] [Warning] No further splits with positive gain, best gain: -inf\n",
            "[LightGBM] [Warning] No further splits with positive gain, best gain: -inf\n",
            "[LightGBM] [Warning] No further splits with positive gain, best gain: -inf\n",
            "[LightGBM] [Warning] No further splits with positive gain, best gain: -inf\n",
            "[LightGBM] [Warning] No further splits with positive gain, best gain: -inf\n",
            "[LightGBM] [Warning] No further splits with positive gain, best gain: -inf\n",
            "[LightGBM] [Warning] No further splits with positive gain, best gain: -inf\n",
            "[LightGBM] [Warning] No further splits with positive gain, best gain: -inf\n",
            "[LightGBM] [Warning] No further splits with positive gain, best gain: -inf\n",
            "[LightGBM] [Warning] No further splits with positive gain, best gain: -inf\n",
            "[LightGBM] [Warning] No further splits with positive gain, best gain: -inf\n",
            "[LightGBM] [Warning] No further splits with positive gain, best gain: -inf\n",
            "[LightGBM] [Warning] No further splits with positive gain, best gain: -inf\n",
            "[LightGBM] [Warning] No further splits with positive gain, best gain: -inf\n",
            "[LightGBM] [Warning] No further splits with positive gain, best gain: -inf\n",
            "[LightGBM] [Warning] No further splits with positive gain, best gain: -inf\n",
            "[LightGBM] [Warning] No further splits with positive gain, best gain: -inf\n",
            "[LightGBM] [Warning] No further splits with positive gain, best gain: -inf\n",
            "[LightGBM] [Warning] No further splits with positive gain, best gain: -inf\n",
            "[LightGBM] [Warning] No further splits with positive gain, best gain: -inf\n",
            "[LightGBM] [Warning] No further splits with positive gain, best gain: -inf\n",
            "[LightGBM] [Warning] No further splits with positive gain, best gain: -inf\n",
            "[LightGBM] [Warning] No further splits with positive gain, best gain: -inf\n",
            "[LightGBM] [Warning] No further splits with positive gain, best gain: -inf\n",
            "[LightGBM] [Warning] No further splits with positive gain, best gain: -inf\n",
            "[LightGBM] [Warning] No further splits with positive gain, best gain: -inf\n",
            "[LightGBM] [Warning] No further splits with positive gain, best gain: -inf\n",
            "[LightGBM] [Warning] No further splits with positive gain, best gain: -inf\n",
            "[LightGBM] [Warning] No further splits with positive gain, best gain: -inf\n",
            "[LightGBM] [Warning] No further splits with positive gain, best gain: -inf\n",
            "[LightGBM] [Warning] No further splits with positive gain, best gain: -inf\n",
            "[LightGBM] [Warning] No further splits with positive gain, best gain: -inf\n",
            "[LightGBM] [Warning] No further splits with positive gain, best gain: -inf\n",
            "[LightGBM] [Warning] No further splits with positive gain, best gain: -inf\n",
            "[LightGBM] [Warning] No further splits with positive gain, best gain: -inf\n",
            "[LightGBM] [Warning] No further splits with positive gain, best gain: -inf\n",
            "[LightGBM] [Warning] No further splits with positive gain, best gain: -inf\n",
            "[LightGBM] [Warning] No further splits with positive gain, best gain: -inf\n",
            "[LightGBM] [Warning] No further splits with positive gain, best gain: -inf\n",
            "[LightGBM] [Warning] No further splits with positive gain, best gain: -inf\n",
            "[LightGBM] [Warning] No further splits with positive gain, best gain: -inf\n",
            "[LightGBM] [Warning] No further splits with positive gain, best gain: -inf\n",
            "[LightGBM] [Warning] No further splits with positive gain, best gain: -inf\n",
            "[LightGBM] [Warning] No further splits with positive gain, best gain: -inf\n",
            "[LightGBM] [Warning] No further splits with positive gain, best gain: -inf\n",
            "[LightGBM] [Warning] No further splits with positive gain, best gain: -inf\n",
            "[LightGBM] [Warning] No further splits with positive gain, best gain: -inf\n",
            "[LightGBM] [Warning] No further splits with positive gain, best gain: -inf\n",
            "[LightGBM] [Warning] No further splits with positive gain, best gain: -inf\n",
            "[LightGBM] [Warning] No further splits with positive gain, best gain: -inf\n",
            "[LightGBM] [Warning] No further splits with positive gain, best gain: -inf\n",
            "[LightGBM] [Warning] No further splits with positive gain, best gain: -inf\n",
            "[LightGBM] [Warning] No further splits with positive gain, best gain: -inf\n",
            "[LightGBM] [Warning] No further splits with positive gain, best gain: -inf\n",
            "[LightGBM] [Warning] No further splits with positive gain, best gain: -inf\n",
            "[LightGBM] [Warning] No further splits with positive gain, best gain: -inf\n",
            "[LightGBM] [Warning] No further splits with positive gain, best gain: -inf\n",
            "[LightGBM] [Warning] No further splits with positive gain, best gain: -inf\n",
            "[LightGBM] [Warning] No further splits with positive gain, best gain: -inf\n",
            "[LightGBM] [Warning] No further splits with positive gain, best gain: -inf\n",
            "[LightGBM] [Warning] No further splits with positive gain, best gain: -inf\n",
            "[LightGBM] [Warning] No further splits with positive gain, best gain: -inf\n",
            "[LightGBM] [Warning] No further splits with positive gain, best gain: -inf\n",
            "[LightGBM] [Warning] No further splits with positive gain, best gain: -inf\n",
            "[LightGBM] [Warning] No further splits with positive gain, best gain: -inf\n",
            "[LightGBM] [Warning] No further splits with positive gain, best gain: -inf\n",
            "[LightGBM] [Warning] No further splits with positive gain, best gain: -inf\n",
            "[LightGBM] [Warning] No further splits with positive gain, best gain: -inf\n",
            "[LightGBM] [Warning] No further splits with positive gain, best gain: -inf\n",
            "[LightGBM] [Warning] No further splits with positive gain, best gain: -inf\n",
            "[LightGBM] [Warning] No further splits with positive gain, best gain: -inf\n",
            "[LightGBM] [Warning] No further splits with positive gain, best gain: -inf\n",
            "[LightGBM] [Warning] No further splits with positive gain, best gain: -inf\n",
            "[LightGBM] [Warning] No further splits with positive gain, best gain: -inf\n",
            "[LightGBM] [Warning] No further splits with positive gain, best gain: -inf\n",
            "[LightGBM] [Warning] No further splits with positive gain, best gain: -inf\n",
            "[LightGBM] [Warning] No further splits with positive gain, best gain: -inf\n",
            "[LightGBM] [Warning] No further splits with positive gain, best gain: -inf\n",
            "[LightGBM] [Warning] No further splits with positive gain, best gain: -inf\n",
            "[LightGBM] [Warning] No further splits with positive gain, best gain: -inf\n",
            "[LightGBM] [Warning] No further splits with positive gain, best gain: -inf\n",
            "[LightGBM] [Warning] No further splits with positive gain, best gain: -inf\n",
            "[LightGBM] [Warning] No further splits with positive gain, best gain: -inf\n",
            "[LightGBM] [Warning] No further splits with positive gain, best gain: -inf\n",
            "[LightGBM] [Warning] No further splits with positive gain, best gain: -inf\n",
            "[LightGBM] [Warning] No further splits with positive gain, best gain: -inf\n",
            "[LightGBM] [Warning] No further splits with positive gain, best gain: -inf\n",
            "[LightGBM] [Warning] No further splits with positive gain, best gain: -inf\n",
            "[LightGBM] [Warning] No further splits with positive gain, best gain: -inf\n",
            "[LightGBM] [Warning] No further splits with positive gain, best gain: -inf\n",
            "[LightGBM] [Warning] No further splits with positive gain, best gain: -inf\n",
            "[LightGBM] [Warning] No further splits with positive gain, best gain: -inf\n",
            "[LightGBM] [Warning] No further splits with positive gain, best gain: -inf\n",
            "[LightGBM] [Warning] No further splits with positive gain, best gain: -inf\n",
            "[LightGBM] [Warning] No further splits with positive gain, best gain: -inf\n",
            "[LightGBM] [Warning] No further splits with positive gain, best gain: -inf\n",
            "[LightGBM] [Warning] No further splits with positive gain, best gain: -inf\n",
            "[LightGBM] [Warning] No further splits with positive gain, best gain: -inf\n",
            "[LightGBM] [Warning] No further splits with positive gain, best gain: -inf\n",
            "[LightGBM] [Warning] No further splits with positive gain, best gain: -inf\n",
            "[LightGBM] [Warning] No further splits with positive gain, best gain: -inf\n",
            "[LightGBM] [Warning] No further splits with positive gain, best gain: -inf\n",
            "[LightGBM] [Warning] No further splits with positive gain, best gain: -inf\n",
            "[LightGBM] [Warning] No further splits with positive gain, best gain: -inf\n",
            "[LightGBM] [Warning] No further splits with positive gain, best gain: -inf\n",
            "[LightGBM] [Warning] No further splits with positive gain, best gain: -inf\n",
            "[LightGBM] [Warning] No further splits with positive gain, best gain: -inf\n",
            "[LightGBM] [Warning] No further splits with positive gain, best gain: -inf\n",
            "[LightGBM] [Warning] No further splits with positive gain, best gain: -inf\n",
            "[LightGBM] [Warning] No further splits with positive gain, best gain: -inf\n",
            "[LightGBM] [Warning] No further splits with positive gain, best gain: -inf\n",
            "[LightGBM] [Warning] No further splits with positive gain, best gain: -inf\n",
            "[LightGBM] [Warning] No further splits with positive gain, best gain: -inf\n",
            "[LightGBM] [Warning] No further splits with positive gain, best gain: -inf\n",
            "[LightGBM] [Warning] No further splits with positive gain, best gain: -inf\n",
            "[LightGBM] [Warning] No further splits with positive gain, best gain: -inf\n",
            "[LightGBM] [Warning] No further splits with positive gain, best gain: -inf\n",
            "[LightGBM] [Warning] No further splits with positive gain, best gain: -inf\n",
            "[LightGBM] [Warning] No further splits with positive gain, best gain: -inf\n",
            "[LightGBM] [Warning] No further splits with positive gain, best gain: -inf\n",
            "[LightGBM] [Warning] No further splits with positive gain, best gain: -inf\n"
          ]
        }
      ],
      "source": [
        "random_search_lgb.fit(X_resampled, y_resampled)\n",
        "best_model_lgb = random_search_lgb.best_estimator_"
      ]
    },
    {
      "cell_type": "code",
      "execution_count": null,
      "metadata": {
        "colab": {
          "base_uri": "https://localhost:8080/"
        },
        "id": "c43KfarE6HxL",
        "outputId": "32dfb58e-7213-4674-c947-178a35b4dabc"
      },
      "outputs": [
        {
          "data": {
            "text/plain": [
              "{'subsample': 1.0,\n",
              " 'num_leaves': 255,\n",
              " 'n_estimators': 400,\n",
              " 'min_data_in_leaf': 80,\n",
              " 'max_depth': 7,\n",
              " 'max_bin': 500,\n",
              " 'learning_rate': 0.3}"
            ]
          },
          "execution_count": 55,
          "metadata": {},
          "output_type": "execute_result"
        }
      ],
      "source": [
        "random_search_lgb.best_params_"
      ]
    },
    {
      "cell_type": "code",
      "execution_count": null,
      "metadata": {
        "colab": {
          "base_uri": "https://localhost:8080/"
        },
        "id": "2_ORMkg86HxL",
        "outputId": "ebd70d6d-1dd2-4600-8873-fff9cda5f38d"
      },
      "outputs": [
        {
          "data": {
            "text/plain": [
              "['/content/drive/MyDrive/credit_card_fraud_detection/model/lgb.joblib']"
            ]
          },
          "execution_count": 56,
          "metadata": {},
          "output_type": "execute_result"
        }
      ],
      "source": [
        "dump(best_model_lgb, '/content/drive/MyDrive/credit_card_fraud_detection/model/lgb.joblib')"
      ]
    },
    {
      "cell_type": "code",
      "execution_count": 42,
      "metadata": {
        "id": "dKFnBu9g6HxM"
      },
      "outputs": [],
      "source": [
        "best_model_lgb = load('/content/drive/MyDrive/credit_card_fraud_detection/model/lgb.joblib')"
      ]
    },
    {
      "cell_type": "code",
      "execution_count": 45,
      "metadata": {
        "colab": {
          "base_uri": "https://localhost:8080/"
        },
        "outputId": "bee4be9d-8bcc-4932-889e-13d1263de875",
        "id": "uh8FXZbsuv9w"
      },
      "outputs": [
        {
          "output_type": "stream",
          "name": "stdout",
          "text": [
            "[LightGBM] [Warning] min_data_in_leaf is set=80, min_child_samples=20 will be ignored. Current value: min_data_in_leaf=80\n"
          ]
        }
      ],
      "source": [
        "y_pred_lgb = best_model_lgb.predict(X_test)"
      ]
    },
    {
      "cell_type": "code",
      "execution_count": null,
      "metadata": {
        "colab": {
          "base_uri": "https://localhost:8080/",
          "height": 498
        },
        "id": "xH4EMDD76HxN",
        "outputId": "b1153776-500d-4667-a81e-9a155e7b0c75"
      },
      "outputs": [
        {
          "output_type": "execute_result",
          "data": {
            "text/plain": [
              "Text(46.25, 0.5, 'True')"
            ]
          },
          "metadata": {},
          "execution_count": 54
        },
        {
          "output_type": "display_data",
          "data": {
            "text/plain": [
              "<Figure size 640x480 with 2 Axes>"
            ],
            "image/png": "[encoded data removed]"
          },
          "metadata": {}
        }
      ],
      "source": [
        "# (a) 绘制混淆矩阵\n",
        "cm_lgb = confusion_matrix(y_test, y_pred_lgb)\n",
        "sns.heatmap(cm_lgb, annot=True, fmt='d', cmap='Blues')\n",
        "plt.title('Confusion Matrix for LightGBM')\n",
        "plt.xlabel('Predicted')\n",
        "plt.ylabel('True')"
      ]
    },
    {
      "cell_type": "code",
      "execution_count": 76,
      "metadata": {
        "colab": {
          "base_uri": "https://localhost:8080/",
          "height": 498
        },
        "outputId": "721ed172-4522-4aef-d0f6-00f7003b23dc",
        "id": "DK4Z0mu5-ywa"
      },
      "outputs": [
        {
          "output_type": "stream",
          "name": "stdout",
          "text": [
            "[LightGBM] [Warning] min_data_in_leaf is set=80, min_child_samples=20 will be ignored. Current value: min_data_in_leaf=80\n"
          ]
        },
        {
          "output_type": "display_data",
          "data": {
            "text/plain": [
              "<Figure size 640x480 with 1 Axes>"
            ],
            "image/png": "[encoded data removed]"
          },
          "metadata": {}
        }
      ],
      "source": [
        "# (b) 计算Precision-Recall AUC并绘制曲线\n",
        "precision_lgb, recall_lgb, _ = precision_recall_curve(y_test, best_model_lgb.predict_proba(X_test)[:, 1])\n",
        "auc_pr_lgb = auc(recall_lgb, precision_lgb)\n",
        "plt.figure()\n",
        "no_skill = len(y_test[y_test==1]) / len(y_test)\n",
        "plt.plot([0, 1], [no_skill, no_skill], linestyle='--', label='No Skill')\n",
        "plt.plot(recall_lgb, precision_lgb, label='LightGBM AUC_PR = %0.3f' % auc_pr_lgb)\n",
        "plt.xlabel('Recall')\n",
        "plt.ylabel('Precision')\n",
        "plt.title('LightGBM Precision-Recall Curve')\n",
        "plt.legend(loc='center left')\n",
        "plt.grid(False)"
      ]
    },
    {
      "cell_type": "code",
      "execution_count": null,
      "metadata": {
        "colab": {
          "base_uri": "https://localhost:8080/",
          "height": 500
        },
        "outputId": "6d19d9d8-b9f6-44d6-fdcb-0a4a40fa9e93",
        "id": "WslP9ZpM-ywc"
      },
      "outputs": [
        {
          "output_type": "stream",
          "name": "stderr",
          "text": [
            "<ipython-input-56-667c4c0330af>:7: UserWarning: FixedFormatter should only be used together with FixedLocator\n",
            "  s.set_xticklabels(s.get_xticklabels(),rotation=90)\n"
          ]
        },
        {
          "output_type": "display_data",
          "data": {
            "text/plain": [
              "<Figure size 700x400 with 1 Axes>"
            ],
            "image/png": "[encoded data removed]"
          },
          "metadata": {}
        }
      ],
      "source": [
        "# (c) 绘制特征重要性\n",
        "tmp = pd.DataFrame({'Feature': predictors, 'Feature importance': best_model_lgb.feature_importances_})\n",
        "tmp = tmp.sort_values(by='Feature importance',ascending=False)\n",
        "plt.figure(figsize = (7,4))\n",
        "plt.title('LightGBM Features importance',fontsize=14)\n",
        "s = sns.barplot(x='Feature',y='Feature importance',data=tmp)\n",
        "s.set_xticklabels(s.get_xticklabels(),rotation=90)\n",
        "plt.show()"
      ]
    },
    {
      "cell_type": "markdown",
      "metadata": {
        "id": "PoGkx7UNztHx"
      },
      "source": [
        "## CatBoost"
      ]
    },
    {
      "cell_type": "code",
      "execution_count": 40,
      "metadata": {
        "id": "MdK9cPhvUt4o",
        "colab": {
          "base_uri": "https://localhost:8080/"
        },
        "outputId": "ffc1d6c1-846e-43b4-d2cd-9b0d8b45349d"
      },
      "outputs": [
        {
          "output_type": "stream",
          "name": "stdout",
          "text": [
            "Collecting catboost\n",
            "  Downloading catboost-1.2.5-cp310-cp310-manylinux2014_x86_64.whl (98.2 MB)\n",
            "\u001b[2K     \u001b[90m━━━━━━━━━━━━━━━━━━━━━━━━━━━━━━━━━━━━━━━━\u001b[0m \u001b[32m98.2/98.2 MB\u001b[0m \u001b[31m2.4 MB/s\u001b[0m eta \u001b[36m0:00:00\u001b[0m\n",
            "\u001b[?25hRequirement already satisfied: graphviz in /usr/local/lib/python3.10/dist-packages (from catboost) (0.20.3)\n",
            "Requirement already satisfied: matplotlib in /usr/local/lib/python3.10/dist-packages (from catboost) (3.7.1)\n",
            "Requirement already satisfied: numpy>=1.16.0 in /usr/local/lib/python3.10/dist-packages (from catboost) (1.25.2)\n",
            "Requirement already satisfied: pandas>=0.24 in /usr/local/lib/python3.10/dist-packages (from catboost) (2.0.3)\n",
            "Requirement already satisfied: scipy in /usr/local/lib/python3.10/dist-packages (from catboost) (1.11.4)\n",
            "Requirement already satisfied: plotly in /usr/local/lib/python3.10/dist-packages (from catboost) (5.15.0)\n",
            "Requirement already satisfied: six in /usr/local/lib/python3.10/dist-packages (from catboost) (1.16.0)\n",
            "Requirement already satisfied: python-dateutil>=2.8.2 in /usr/local/lib/python3.10/dist-packages (from pandas>=0.24->catboost) (2.8.2)\n",
            "Requirement already satisfied: pytz>=2020.1 in /usr/local/lib/python3.10/dist-packages (from pandas>=0.24->catboost) (2023.4)\n",
            "Requirement already satisfied: tzdata>=2022.1 in /usr/local/lib/python3.10/dist-packages (from pandas>=0.24->catboost) (2024.1)\n",
            "Requirement already satisfied: contourpy>=1.0.1 in /usr/local/lib/python3.10/dist-packages (from matplotlib->catboost) (1.2.1)\n",
            "Requirement already satisfied: cycler>=0.10 in /usr/local/lib/python3.10/dist-packages (from matplotlib->catboost) (0.12.1)\n",
            "Requirement already satisfied: fonttools>=4.22.0 in /usr/local/lib/python3.10/dist-packages (from matplotlib->catboost) (4.51.0)\n",
            "Requirement already satisfied: kiwisolver>=1.0.1 in /usr/local/lib/python3.10/dist-packages (from matplotlib->catboost) (1.4.5)\n",
            "Requirement already satisfied: packaging>=20.0 in /usr/local/lib/python3.10/dist-packages (from matplotlib->catboost) (24.0)\n",
            "Requirement already satisfied: pillow>=6.2.0 in /usr/local/lib/python3.10/dist-packages (from matplotlib->catboost) (9.4.0)\n",
            "Requirement already satisfied: pyparsing>=2.3.1 in /usr/local/lib/python3.10/dist-packages (from matplotlib->catboost) (3.1.2)\n",
            "Requirement already satisfied: tenacity>=6.2.0 in /usr/local/lib/python3.10/dist-packages (from plotly->catboost) (8.2.3)\n",
            "Installing collected packages: catboost\n",
            "Successfully installed catboost-1.2.5\n"
          ]
        }
      ],
      "source": [
        "pip install catboost"
      ]
    },
    {
      "cell_type": "code",
      "execution_count": 50,
      "metadata": {
        "id": "P3dpkP0FzXkp"
      },
      "outputs": [],
      "source": [
        "# CatBoost\n",
        "from catboost import CatBoostClassifier, Pool\n",
        "from sklearn.model_selection import RandomizedSearchCV\n",
        "\n",
        "# 定义CatBoost模型\n",
        "base_model_cbt = CatBoostClassifier()\n",
        "\n",
        "# 定义参数的搜索空间\n",
        "param_dist_cbt = {\n",
        "    'iterations': [100, 500, 1000, 2000],  # 常用的迭代次数\n",
        "    'depth': [3, 4, 5, 6],  # 树的最大深度\n",
        "    'learning_rate': [0.1, 0.2, 0.3, 0.4],  # 学习率\n",
        "    'l2_leaf_reg': [0.5, 1.0, 1.5, 2.0]  # 控制过拟合的正则化参数\n",
        "}\n",
        "\n",
        "# 创建RandomizedSearchCV实例\n",
        "random_search_cbt = RandomizedSearchCV(\n",
        "    estimator=base_model_cbt,\n",
        "    param_distributions=param_dist_cbt,\n",
        "    n_iter=10,  # 可以根据您的计算资源调整迭代次数\n",
        "    cv=3,  # 交叉验证的折数\n",
        "    verbose=1,\n",
        "    random_state=1,\n",
        "    n_jobs=-1  # 使用所有可用的CPU核心进行并行计算\n",
        ")"
      ]
    },
    {
      "cell_type": "code",
      "execution_count": null,
      "metadata": {
        "colab": {
          "base_uri": "https://localhost:8080/"
        },
        "id": "jgZ07w-n6jQn",
        "outputId": "25de9055-6290-4ba8-b61c-722584f9aac0"
      },
      "outputs": [
        {
          "output_type": "stream",
          "name": "stdout",
          "text": [
            "Fitting 3 folds for each of 10 candidates, totalling 30 fits\n",
            "0:\tlearn: 0.3641700\ttotal: 300ms\tremaining: 5m\n",
            "1:\tlearn: 0.2278173\ttotal: 539ms\tremaining: 4m 28s\n",
            "2:\tlearn: 0.1785224\ttotal: 681ms\tremaining: 3m 46s\n",
            "3:\tlearn: 0.1543495\ttotal: 792ms\tremaining: 3m 17s\n",
            "4:\tlearn: 0.1332972\ttotal: 905ms\tremaining: 3m\n",
            "5:\tlearn: 0.1197492\ttotal: 1.04s\tremaining: 2m 52s\n",
            "6:\tlearn: 0.1066048\ttotal: 1.16s\tremaining: 2m 44s\n",
            "7:\tlearn: 0.0999738\ttotal: 1.28s\tremaining: 2m 38s\n",
            "8:\tlearn: 0.0918712\ttotal: 1.39s\tremaining: 2m 33s\n",
            "9:\tlearn: 0.0836244\ttotal: 1.51s\tremaining: 2m 29s\n",
            "10:\tlearn: 0.0762920\ttotal: 1.63s\tremaining: 2m 26s\n",
            "11:\tlearn: 0.0718343\ttotal: 1.75s\tremaining: 2m 23s\n",
            "12:\tlearn: 0.0686805\ttotal: 1.86s\tremaining: 2m 21s\n",
            "13:\tlearn: 0.0639484\ttotal: 2s\tremaining: 2m 21s\n",
            "14:\tlearn: 0.0601121\ttotal: 2.11s\tremaining: 2m 18s\n",
            "15:\tlearn: 0.0561921\ttotal: 2.23s\tremaining: 2m 17s\n",
            "16:\tlearn: 0.0530727\ttotal: 2.34s\tremaining: 2m 15s\n",
            "17:\tlearn: 0.0497723\ttotal: 2.46s\tremaining: 2m 14s\n",
            "18:\tlearn: 0.0462028\ttotal: 2.58s\tremaining: 2m 13s\n",
            "19:\tlearn: 0.0443033\ttotal: 2.69s\tremaining: 2m 11s\n",
            "20:\tlearn: 0.0424896\ttotal: 2.81s\tremaining: 2m 10s\n",
            "21:\tlearn: 0.0400828\ttotal: 2.93s\tremaining: 2m 10s\n",
            "22:\tlearn: 0.0390489\ttotal: 3.05s\tremaining: 2m 9s\n",
            "23:\tlearn: 0.0373095\ttotal: 3.17s\tremaining: 2m 9s\n",
            "24:\tlearn: 0.0358907\ttotal: 3.29s\tremaining: 2m 8s\n",
            "25:\tlearn: 0.0344854\ttotal: 3.4s\tremaining: 2m 7s\n",
            "26:\tlearn: 0.0331774\ttotal: 3.5s\tremaining: 2m 6s\n",
            "27:\tlearn: 0.0321489\ttotal: 3.62s\tremaining: 2m 5s\n",
            "28:\tlearn: 0.0310313\ttotal: 3.73s\tremaining: 2m 4s\n",
            "29:\tlearn: 0.0293245\ttotal: 3.85s\tremaining: 2m 4s\n",
            "30:\tlearn: 0.0282868\ttotal: 3.96s\tremaining: 2m 3s\n",
            "31:\tlearn: 0.0266428\ttotal: 4.09s\tremaining: 2m 3s\n",
            "32:\tlearn: 0.0255545\ttotal: 4.21s\tremaining: 2m 3s\n",
            "33:\tlearn: 0.0246307\ttotal: 4.33s\tremaining: 2m 3s\n",
            "34:\tlearn: 0.0235909\ttotal: 4.44s\tremaining: 2m 2s\n",
            "35:\tlearn: 0.0227807\ttotal: 4.55s\tremaining: 2m 1s\n",
            "36:\tlearn: 0.0220372\ttotal: 4.66s\tremaining: 2m 1s\n",
            "37:\tlearn: 0.0213814\ttotal: 4.78s\tremaining: 2m 1s\n",
            "38:\tlearn: 0.0205372\ttotal: 4.9s\tremaining: 2m\n",
            "39:\tlearn: 0.0200744\ttotal: 5s\tremaining: 2m\n",
            "40:\tlearn: 0.0195524\ttotal: 5.13s\tremaining: 2m\n",
            "41:\tlearn: 0.0190485\ttotal: 5.24s\tremaining: 1m 59s\n",
            "42:\tlearn: 0.0180989\ttotal: 5.36s\tremaining: 1m 59s\n",
            "43:\tlearn: 0.0176365\ttotal: 5.48s\tremaining: 1m 59s\n",
            "44:\tlearn: 0.0171234\ttotal: 5.59s\tremaining: 1m 58s\n",
            "45:\tlearn: 0.0160997\ttotal: 5.71s\tremaining: 1m 58s\n",
            "46:\tlearn: 0.0155552\ttotal: 5.83s\tremaining: 1m 58s\n",
            "47:\tlearn: 0.0151192\ttotal: 5.95s\tremaining: 1m 58s\n",
            "48:\tlearn: 0.0145312\ttotal: 6.08s\tremaining: 1m 58s\n",
            "49:\tlearn: 0.0138998\ttotal: 6.2s\tremaining: 1m 57s\n",
            "50:\tlearn: 0.0135001\ttotal: 6.31s\tremaining: 1m 57s\n",
            "51:\tlearn: 0.0130163\ttotal: 6.42s\tremaining: 1m 57s\n",
            "52:\tlearn: 0.0126747\ttotal: 6.53s\tremaining: 1m 56s\n",
            "53:\tlearn: 0.0122599\ttotal: 6.65s\tremaining: 1m 56s\n",
            "54:\tlearn: 0.0119781\ttotal: 6.76s\tremaining: 1m 56s\n",
            "55:\tlearn: 0.0115456\ttotal: 6.88s\tremaining: 1m 56s\n",
            "56:\tlearn: 0.0112813\ttotal: 6.99s\tremaining: 1m 55s\n",
            "57:\tlearn: 0.0110170\ttotal: 7.11s\tremaining: 1m 55s\n",
            "58:\tlearn: 0.0107465\ttotal: 7.22s\tremaining: 1m 55s\n",
            "59:\tlearn: 0.0104798\ttotal: 7.33s\tremaining: 1m 54s\n",
            "60:\tlearn: 0.0101336\ttotal: 7.45s\tremaining: 1m 54s\n",
            "61:\tlearn: 0.0098504\ttotal: 7.56s\tremaining: 1m 54s\n",
            "62:\tlearn: 0.0094729\ttotal: 7.69s\tremaining: 1m 54s\n",
            "63:\tlearn: 0.0091253\ttotal: 7.81s\tremaining: 1m 54s\n",
            "64:\tlearn: 0.0089651\ttotal: 7.91s\tremaining: 1m 53s\n",
            "65:\tlearn: 0.0087880\ttotal: 8.02s\tremaining: 1m 53s\n",
            "66:\tlearn: 0.0086274\ttotal: 8.15s\tremaining: 1m 53s\n",
            "67:\tlearn: 0.0083456\ttotal: 8.27s\tremaining: 1m 53s\n",
            "68:\tlearn: 0.0081025\ttotal: 8.38s\tremaining: 1m 53s\n",
            "69:\tlearn: 0.0078580\ttotal: 8.5s\tremaining: 1m 52s\n",
            "70:\tlearn: 0.0077594\ttotal: 8.61s\tremaining: 1m 52s\n",
            "71:\tlearn: 0.0076449\ttotal: 8.73s\tremaining: 1m 52s\n",
            "72:\tlearn: 0.0074516\ttotal: 8.84s\tremaining: 1m 52s\n",
            "73:\tlearn: 0.0072881\ttotal: 8.96s\tremaining: 1m 52s\n",
            "74:\tlearn: 0.0071436\ttotal: 9.06s\tremaining: 1m 51s\n",
            "75:\tlearn: 0.0068845\ttotal: 9.21s\tremaining: 1m 51s\n",
            "76:\tlearn: 0.0067206\ttotal: 9.32s\tremaining: 1m 51s\n",
            "77:\tlearn: 0.0064910\ttotal: 9.46s\tremaining: 1m 51s\n",
            "78:\tlearn: 0.0063700\ttotal: 9.56s\tremaining: 1m 51s\n",
            "79:\tlearn: 0.0062147\ttotal: 9.68s\tremaining: 1m 51s\n",
            "80:\tlearn: 0.0060881\ttotal: 9.79s\tremaining: 1m 51s\n",
            "81:\tlearn: 0.0059056\ttotal: 9.92s\tremaining: 1m 51s\n",
            "82:\tlearn: 0.0058207\ttotal: 10s\tremaining: 1m 50s\n",
            "83:\tlearn: 0.0056924\ttotal: 10.1s\tremaining: 1m 50s\n",
            "84:\tlearn: 0.0055657\ttotal: 10.3s\tremaining: 1m 50s\n",
            "85:\tlearn: 0.0054730\ttotal: 10.4s\tremaining: 1m 50s\n",
            "86:\tlearn: 0.0053131\ttotal: 10.5s\tremaining: 1m 50s\n",
            "87:\tlearn: 0.0051880\ttotal: 10.7s\tremaining: 1m 50s\n",
            "88:\tlearn: 0.0051331\ttotal: 10.9s\tremaining: 1m 51s\n",
            "89:\tlearn: 0.0050123\ttotal: 11.1s\tremaining: 1m 52s\n",
            "90:\tlearn: 0.0048540\ttotal: 11.3s\tremaining: 1m 53s\n",
            "91:\tlearn: 0.0048260\ttotal: 11.5s\tremaining: 1m 53s\n",
            "92:\tlearn: 0.0046994\ttotal: 11.7s\tremaining: 1m 54s\n",
            "93:\tlearn: 0.0045660\ttotal: 11.9s\tremaining: 1m 54s\n",
            "94:\tlearn: 0.0043814\ttotal: 12.1s\tremaining: 1m 55s\n",
            "95:\tlearn: 0.0042978\ttotal: 12.3s\tremaining: 1m 56s\n",
            "96:\tlearn: 0.0042094\ttotal: 12.5s\tremaining: 1m 56s\n",
            "97:\tlearn: 0.0040934\ttotal: 12.8s\tremaining: 1m 57s\n",
            "98:\tlearn: 0.0039795\ttotal: 13s\tremaining: 1m 58s\n",
            "99:\tlearn: 0.0039245\ttotal: 13.2s\tremaining: 1m 58s\n",
            "100:\tlearn: 0.0038678\ttotal: 13.4s\tremaining: 1m 59s\n",
            "101:\tlearn: 0.0037158\ttotal: 13.7s\tremaining: 2m\n",
            "102:\tlearn: 0.0036304\ttotal: 13.9s\tremaining: 2m 1s\n",
            "103:\tlearn: 0.0035126\ttotal: 14.1s\tremaining: 2m 1s\n",
            "104:\tlearn: 0.0034873\ttotal: 14.3s\tremaining: 2m 2s\n",
            "105:\tlearn: 0.0034525\ttotal: 14.5s\tremaining: 2m 2s\n",
            "106:\tlearn: 0.0033716\ttotal: 14.8s\tremaining: 2m 3s\n",
            "107:\tlearn: 0.0032686\ttotal: 14.9s\tremaining: 2m 2s\n",
            "108:\tlearn: 0.0032261\ttotal: 15s\tremaining: 2m 2s\n",
            "109:\tlearn: 0.0031925\ttotal: 15.1s\tremaining: 2m 1s\n",
            "110:\tlearn: 0.0031480\ttotal: 15.2s\tremaining: 2m 1s\n",
            "111:\tlearn: 0.0031113\ttotal: 15.3s\tremaining: 2m 1s\n",
            "112:\tlearn: 0.0030914\ttotal: 15.4s\tremaining: 2m\n",
            "113:\tlearn: 0.0030553\ttotal: 15.5s\tremaining: 2m\n",
            "114:\tlearn: 0.0030320\ttotal: 15.6s\tremaining: 2m\n",
            "115:\tlearn: 0.0029691\ttotal: 15.7s\tremaining: 1m 59s\n",
            "116:\tlearn: 0.0029130\ttotal: 15.8s\tremaining: 1m 59s\n",
            "117:\tlearn: 0.0029130\ttotal: 15.9s\tremaining: 1m 59s\n",
            "118:\tlearn: 0.0028712\ttotal: 16s\tremaining: 1m 58s\n",
            "119:\tlearn: 0.0027702\ttotal: 16.2s\tremaining: 1m 58s\n",
            "120:\tlearn: 0.0027273\ttotal: 16.3s\tremaining: 1m 58s\n",
            "121:\tlearn: 0.0027273\ttotal: 16.4s\tremaining: 1m 57s\n",
            "122:\tlearn: 0.0027273\ttotal: 16.4s\tremaining: 1m 57s\n",
            "123:\tlearn: 0.0027273\ttotal: 16.5s\tremaining: 1m 56s\n",
            "124:\tlearn: 0.0027273\ttotal: 16.6s\tremaining: 1m 56s\n",
            "125:\tlearn: 0.0027273\ttotal: 16.7s\tremaining: 1m 55s\n",
            "126:\tlearn: 0.0027273\ttotal: 16.8s\tremaining: 1m 55s\n",
            "127:\tlearn: 0.0027273\ttotal: 16.9s\tremaining: 1m 54s\n",
            "128:\tlearn: 0.0027273\ttotal: 17s\tremaining: 1m 54s\n",
            "129:\tlearn: 0.0027272\ttotal: 17s\tremaining: 1m 54s\n",
            "130:\tlearn: 0.0027272\ttotal: 17.1s\tremaining: 1m 53s\n",
            "131:\tlearn: 0.0027272\ttotal: 17.2s\tremaining: 1m 53s\n",
            "132:\tlearn: 0.0027272\ttotal: 17.3s\tremaining: 1m 52s\n",
            "133:\tlearn: 0.0027272\ttotal: 17.4s\tremaining: 1m 52s\n",
            "134:\tlearn: 0.0027272\ttotal: 17.5s\tremaining: 1m 52s\n",
            "135:\tlearn: 0.0027272\ttotal: 17.6s\tremaining: 1m 51s\n",
            "136:\tlearn: 0.0027272\ttotal: 17.7s\tremaining: 1m 51s\n",
            "137:\tlearn: 0.0027272\ttotal: 17.7s\tremaining: 1m 50s\n",
            "138:\tlearn: 0.0027272\ttotal: 17.8s\tremaining: 1m 50s\n",
            "139:\tlearn: 0.0027272\ttotal: 17.9s\tremaining: 1m 50s\n",
            "140:\tlearn: 0.0027271\ttotal: 18s\tremaining: 1m 49s\n",
            "141:\tlearn: 0.0027271\ttotal: 18.1s\tremaining: 1m 49s\n",
            "142:\tlearn: 0.0027271\ttotal: 18.2s\tremaining: 1m 48s\n",
            "143:\tlearn: 0.0027271\ttotal: 18.3s\tremaining: 1m 48s\n",
            "144:\tlearn: 0.0027271\ttotal: 18.3s\tremaining: 1m 48s\n",
            "145:\tlearn: 0.0027271\ttotal: 18.4s\tremaining: 1m 47s\n",
            "146:\tlearn: 0.0027271\ttotal: 18.5s\tremaining: 1m 47s\n",
            "147:\tlearn: 0.0027271\ttotal: 18.6s\tremaining: 1m 47s\n",
            "148:\tlearn: 0.0027271\ttotal: 18.7s\tremaining: 1m 46s\n",
            "149:\tlearn: 0.0026754\ttotal: 18.8s\tremaining: 1m 46s\n",
            "150:\tlearn: 0.0025869\ttotal: 18.9s\tremaining: 1m 46s\n",
            "151:\tlearn: 0.0025450\ttotal: 19s\tremaining: 1m 46s\n",
            "152:\tlearn: 0.0024665\ttotal: 19.1s\tremaining: 1m 45s\n",
            "153:\tlearn: 0.0024284\ttotal: 19.3s\tremaining: 1m 45s\n",
            "154:\tlearn: 0.0023815\ttotal: 19.4s\tremaining: 1m 45s\n",
            "155:\tlearn: 0.0023564\ttotal: 19.5s\tremaining: 1m 45s\n",
            "156:\tlearn: 0.0022650\ttotal: 19.6s\tremaining: 1m 45s\n",
            "157:\tlearn: 0.0022650\ttotal: 19.7s\tremaining: 1m 45s\n",
            "158:\tlearn: 0.0022227\ttotal: 19.8s\tremaining: 1m 44s\n",
            "159:\tlearn: 0.0022226\ttotal: 19.9s\tremaining: 1m 44s\n",
            "160:\tlearn: 0.0022165\ttotal: 20s\tremaining: 1m 44s\n",
            "161:\tlearn: 0.0021870\ttotal: 20.1s\tremaining: 1m 44s\n",
            "162:\tlearn: 0.0021870\ttotal: 20.2s\tremaining: 1m 43s\n",
            "163:\tlearn: 0.0021870\ttotal: 20.3s\tremaining: 1m 43s\n",
            "164:\tlearn: 0.0021870\ttotal: 20.4s\tremaining: 1m 43s\n",
            "165:\tlearn: 0.0021593\ttotal: 20.5s\tremaining: 1m 42s\n",
            "166:\tlearn: 0.0021046\ttotal: 20.6s\tremaining: 1m 42s\n",
            "167:\tlearn: 0.0020677\ttotal: 20.7s\tremaining: 1m 42s\n",
            "168:\tlearn: 0.0020677\ttotal: 20.8s\tremaining: 1m 42s\n",
            "169:\tlearn: 0.0020676\ttotal: 20.9s\tremaining: 1m 42s\n",
            "170:\tlearn: 0.0020578\ttotal: 21s\tremaining: 1m 41s\n",
            "171:\tlearn: 0.0020281\ttotal: 21.1s\tremaining: 1m 41s\n",
            "172:\tlearn: 0.0020124\ttotal: 21.2s\tremaining: 1m 41s\n",
            "173:\tlearn: 0.0019613\ttotal: 21.3s\tremaining: 1m 41s\n",
            "174:\tlearn: 0.0019241\ttotal: 21.4s\tremaining: 1m 41s\n",
            "175:\tlearn: 0.0018940\ttotal: 21.5s\tremaining: 1m 40s\n",
            "176:\tlearn: 0.0018685\ttotal: 21.7s\tremaining: 1m 40s\n",
            "177:\tlearn: 0.0018465\ttotal: 21.8s\tremaining: 1m 40s\n",
            "178:\tlearn: 0.0018078\ttotal: 21.9s\tremaining: 1m 40s\n",
            "179:\tlearn: 0.0018078\ttotal: 22s\tremaining: 1m 40s\n",
            "180:\tlearn: 0.0017889\ttotal: 22.1s\tremaining: 1m 40s\n",
            "181:\tlearn: 0.0017889\ttotal: 22.2s\tremaining: 1m 39s\n",
            "182:\tlearn: 0.0017825\ttotal: 22.3s\tremaining: 1m 39s\n",
            "183:\tlearn: 0.0017540\ttotal: 22.4s\tremaining: 1m 39s\n",
            "184:\tlearn: 0.0017540\ttotal: 22.5s\tremaining: 1m 39s\n",
            "185:\tlearn: 0.0017540\ttotal: 22.6s\tremaining: 1m 38s\n",
            "186:\tlearn: 0.0017540\ttotal: 22.7s\tremaining: 1m 38s\n",
            "187:\tlearn: 0.0017540\ttotal: 22.8s\tremaining: 1m 38s\n",
            "188:\tlearn: 0.0017539\ttotal: 22.9s\tremaining: 1m 38s\n",
            "189:\tlearn: 0.0017539\ttotal: 23s\tremaining: 1m 37s\n",
            "190:\tlearn: 0.0017412\ttotal: 23.1s\tremaining: 1m 37s\n",
            "191:\tlearn: 0.0017411\ttotal: 23.2s\tremaining: 1m 37s\n",
            "192:\tlearn: 0.0017070\ttotal: 23.3s\tremaining: 1m 37s\n",
            "193:\tlearn: 0.0016454\ttotal: 23.4s\tremaining: 1m 37s\n",
            "194:\tlearn: 0.0016454\ttotal: 23.5s\tremaining: 1m 36s\n",
            "195:\tlearn: 0.0016145\ttotal: 23.6s\tremaining: 1m 36s\n",
            "196:\tlearn: 0.0015821\ttotal: 23.7s\tremaining: 1m 36s\n",
            "197:\tlearn: 0.0015593\ttotal: 23.9s\tremaining: 1m 36s\n",
            "198:\tlearn: 0.0015128\ttotal: 24s\tremaining: 1m 36s\n",
            "199:\tlearn: 0.0015045\ttotal: 24.1s\tremaining: 1m 36s\n",
            "200:\tlearn: 0.0014935\ttotal: 24.2s\tremaining: 1m 36s\n",
            "201:\tlearn: 0.0014597\ttotal: 24.3s\tremaining: 1m 35s\n",
            "202:\tlearn: 0.0014377\ttotal: 24.4s\tremaining: 1m 35s\n",
            "203:\tlearn: 0.0014051\ttotal: 24.5s\tremaining: 1m 35s\n",
            "204:\tlearn: 0.0014051\ttotal: 24.6s\tremaining: 1m 35s\n",
            "205:\tlearn: 0.0014051\ttotal: 24.8s\tremaining: 1m 35s\n",
            "206:\tlearn: 0.0014051\ttotal: 24.9s\tremaining: 1m 35s\n",
            "207:\tlearn: 0.0014051\ttotal: 25.1s\tremaining: 1m 35s\n",
            "208:\tlearn: 0.0014051\ttotal: 25.3s\tremaining: 1m 35s\n",
            "209:\tlearn: 0.0014051\ttotal: 25.5s\tremaining: 1m 35s\n",
            "210:\tlearn: 0.0014051\ttotal: 25.7s\tremaining: 1m 36s\n",
            "211:\tlearn: 0.0014051\ttotal: 25.9s\tremaining: 1m 36s\n",
            "212:\tlearn: 0.0014051\ttotal: 26.1s\tremaining: 1m 36s\n",
            "213:\tlearn: 0.0014051\ttotal: 26.3s\tremaining: 1m 36s\n",
            "214:\tlearn: 0.0014051\ttotal: 26.4s\tremaining: 1m 36s\n",
            "215:\tlearn: 0.0014051\ttotal: 26.6s\tremaining: 1m 36s\n",
            "216:\tlearn: 0.0014050\ttotal: 26.8s\tremaining: 1m 36s\n",
            "217:\tlearn: 0.0014050\ttotal: 27s\tremaining: 1m 36s\n",
            "218:\tlearn: 0.0014050\ttotal: 27.2s\tremaining: 1m 36s\n",
            "219:\tlearn: 0.0014050\ttotal: 27.4s\tremaining: 1m 37s\n",
            "220:\tlearn: 0.0014049\ttotal: 27.6s\tremaining: 1m 37s\n",
            "221:\tlearn: 0.0014049\ttotal: 27.8s\tremaining: 1m 37s\n",
            "222:\tlearn: 0.0014049\ttotal: 28s\tremaining: 1m 37s\n",
            "223:\tlearn: 0.0014049\ttotal: 28.1s\tremaining: 1m 37s\n",
            "224:\tlearn: 0.0014050\ttotal: 28.3s\tremaining: 1m 37s\n",
            "225:\tlearn: 0.0014049\ttotal: 28.5s\tremaining: 1m 37s\n",
            "226:\tlearn: 0.0014049\ttotal: 28.7s\tremaining: 1m 37s\n",
            "227:\tlearn: 0.0014049\ttotal: 28.9s\tremaining: 1m 37s\n",
            "228:\tlearn: 0.0014049\ttotal: 29s\tremaining: 1m 37s\n",
            "229:\tlearn: 0.0014049\ttotal: 29.1s\tremaining: 1m 37s\n",
            "230:\tlearn: 0.0014049\ttotal: 29.2s\tremaining: 1m 37s\n",
            "231:\tlearn: 0.0014049\ttotal: 29.3s\tremaining: 1m 36s\n",
            "232:\tlearn: 0.0014049\ttotal: 29.4s\tremaining: 1m 36s\n",
            "233:\tlearn: 0.0014049\ttotal: 29.5s\tremaining: 1m 36s\n",
            "234:\tlearn: 0.0014049\ttotal: 29.6s\tremaining: 1m 36s\n",
            "235:\tlearn: 0.0014049\ttotal: 29.7s\tremaining: 1m 36s\n",
            "236:\tlearn: 0.0014049\ttotal: 29.8s\tremaining: 1m 35s\n",
            "237:\tlearn: 0.0014049\ttotal: 29.9s\tremaining: 1m 35s\n",
            "238:\tlearn: 0.0014049\ttotal: 30s\tremaining: 1m 35s\n",
            "239:\tlearn: 0.0014049\ttotal: 30.1s\tremaining: 1m 35s\n",
            "240:\tlearn: 0.0014048\ttotal: 30.2s\tremaining: 1m 35s\n",
            "241:\tlearn: 0.0014048\ttotal: 30.3s\tremaining: 1m 34s\n",
            "242:\tlearn: 0.0014048\ttotal: 30.4s\tremaining: 1m 34s\n",
            "243:\tlearn: 0.0014048\ttotal: 30.5s\tremaining: 1m 34s\n",
            "244:\tlearn: 0.0014048\ttotal: 30.6s\tremaining: 1m 34s\n",
            "245:\tlearn: 0.0014047\ttotal: 30.7s\tremaining: 1m 34s\n",
            "246:\tlearn: 0.0014047\ttotal: 30.8s\tremaining: 1m 33s\n",
            "247:\tlearn: 0.0014047\ttotal: 30.9s\tremaining: 1m 33s\n",
            "248:\tlearn: 0.0014047\ttotal: 31s\tremaining: 1m 33s\n",
            "249:\tlearn: 0.0014047\ttotal: 31.1s\tremaining: 1m 33s\n",
            "250:\tlearn: 0.0014047\ttotal: 31.2s\tremaining: 1m 33s\n",
            "251:\tlearn: 0.0014047\ttotal: 31.3s\tremaining: 1m 32s\n",
            "252:\tlearn: 0.0014047\ttotal: 31.4s\tremaining: 1m 32s\n",
            "253:\tlearn: 0.0014047\ttotal: 31.5s\tremaining: 1m 32s\n",
            "254:\tlearn: 0.0014047\ttotal: 31.6s\tremaining: 1m 32s\n",
            "255:\tlearn: 0.0014047\ttotal: 31.7s\tremaining: 1m 32s\n",
            "256:\tlearn: 0.0014046\ttotal: 31.8s\tremaining: 1m 32s\n",
            "257:\tlearn: 0.0014046\ttotal: 31.9s\tremaining: 1m 31s\n",
            "258:\tlearn: 0.0014046\ttotal: 32.1s\tremaining: 1m 31s\n",
            "259:\tlearn: 0.0014046\ttotal: 32.2s\tremaining: 1m 31s\n",
            "260:\tlearn: 0.0014046\ttotal: 32.3s\tremaining: 1m 31s\n",
            "261:\tlearn: 0.0014046\ttotal: 32.4s\tremaining: 1m 31s\n",
            "262:\tlearn: 0.0014046\ttotal: 32.5s\tremaining: 1m 31s\n",
            "263:\tlearn: 0.0014046\ttotal: 32.6s\tremaining: 1m 30s\n",
            "264:\tlearn: 0.0014046\ttotal: 32.7s\tremaining: 1m 30s\n",
            "265:\tlearn: 0.0014046\ttotal: 32.8s\tremaining: 1m 30s\n",
            "266:\tlearn: 0.0014045\ttotal: 32.9s\tremaining: 1m 30s\n",
            "267:\tlearn: 0.0014045\ttotal: 33s\tremaining: 1m 30s\n",
            "268:\tlearn: 0.0014046\ttotal: 33.1s\tremaining: 1m 30s\n",
            "269:\tlearn: 0.0014045\ttotal: 33.2s\tremaining: 1m 29s\n",
            "270:\tlearn: 0.0014045\ttotal: 33.3s\tremaining: 1m 29s\n",
            "271:\tlearn: 0.0014044\ttotal: 33.5s\tremaining: 1m 29s\n",
            "272:\tlearn: 0.0014044\ttotal: 33.6s\tremaining: 1m 29s\n",
            "273:\tlearn: 0.0014044\ttotal: 33.6s\tremaining: 1m 29s\n",
            "274:\tlearn: 0.0013933\ttotal: 33.7s\tremaining: 1m 28s\n",
            "275:\tlearn: 0.0013933\ttotal: 33.8s\tremaining: 1m 28s\n",
            "276:\tlearn: 0.0013933\ttotal: 33.9s\tremaining: 1m 28s\n",
            "277:\tlearn: 0.0013933\ttotal: 34.1s\tremaining: 1m 28s\n",
            "278:\tlearn: 0.0013933\ttotal: 34.2s\tremaining: 1m 28s\n",
            "279:\tlearn: 0.0013933\ttotal: 34.3s\tremaining: 1m 28s\n",
            "280:\tlearn: 0.0013933\ttotal: 34.4s\tremaining: 1m 27s\n",
            "281:\tlearn: 0.0013932\ttotal: 34.5s\tremaining: 1m 27s\n",
            "282:\tlearn: 0.0013932\ttotal: 34.6s\tremaining: 1m 27s\n",
            "283:\tlearn: 0.0013932\ttotal: 34.7s\tremaining: 1m 27s\n",
            "284:\tlearn: 0.0013932\ttotal: 34.8s\tremaining: 1m 27s\n",
            "285:\tlearn: 0.0013932\ttotal: 34.9s\tremaining: 1m 27s\n",
            "286:\tlearn: 0.0013932\ttotal: 35s\tremaining: 1m 26s\n",
            "287:\tlearn: 0.0013932\ttotal: 35.1s\tremaining: 1m 26s\n",
            "288:\tlearn: 0.0013932\ttotal: 35.2s\tremaining: 1m 26s\n",
            "289:\tlearn: 0.0013932\ttotal: 35.3s\tremaining: 1m 26s\n",
            "290:\tlearn: 0.0013932\ttotal: 35.4s\tremaining: 1m 26s\n",
            "291:\tlearn: 0.0013932\ttotal: 35.5s\tremaining: 1m 26s\n",
            "292:\tlearn: 0.0013932\ttotal: 35.6s\tremaining: 1m 26s\n",
            "293:\tlearn: 0.0013932\ttotal: 35.7s\tremaining: 1m 25s\n",
            "294:\tlearn: 0.0013932\ttotal: 35.9s\tremaining: 1m 25s\n",
            "295:\tlearn: 0.0013932\ttotal: 36s\tremaining: 1m 25s\n",
            "296:\tlearn: 0.0013932\ttotal: 36.1s\tremaining: 1m 25s\n",
            "297:\tlearn: 0.0013931\ttotal: 36.2s\tremaining: 1m 25s\n",
            "298:\tlearn: 0.0013931\ttotal: 36.3s\tremaining: 1m 25s\n",
            "299:\tlearn: 0.0013932\ttotal: 36.4s\tremaining: 1m 24s\n",
            "300:\tlearn: 0.0013932\ttotal: 36.5s\tremaining: 1m 24s\n",
            "301:\tlearn: 0.0013932\ttotal: 36.6s\tremaining: 1m 24s\n",
            "302:\tlearn: 0.0013932\ttotal: 36.7s\tremaining: 1m 24s\n",
            "303:\tlearn: 0.0013932\ttotal: 36.8s\tremaining: 1m 24s\n",
            "304:\tlearn: 0.0013931\ttotal: 36.9s\tremaining: 1m 24s\n",
            "305:\tlearn: 0.0013931\ttotal: 37s\tremaining: 1m 23s\n",
            "306:\tlearn: 0.0013931\ttotal: 37.1s\tremaining: 1m 23s\n",
            "307:\tlearn: 0.0013931\ttotal: 37.2s\tremaining: 1m 23s\n",
            "308:\tlearn: 0.0013931\ttotal: 37.3s\tremaining: 1m 23s\n",
            "309:\tlearn: 0.0013930\ttotal: 37.4s\tremaining: 1m 23s\n",
            "310:\tlearn: 0.0013930\ttotal: 37.6s\tremaining: 1m 23s\n",
            "311:\tlearn: 0.0013930\ttotal: 37.7s\tremaining: 1m 23s\n",
            "312:\tlearn: 0.0013930\ttotal: 37.8s\tremaining: 1m 22s\n",
            "313:\tlearn: 0.0013930\ttotal: 37.9s\tremaining: 1m 22s\n",
            "314:\tlearn: 0.0013930\ttotal: 38s\tremaining: 1m 22s\n",
            "315:\tlearn: 0.0013930\ttotal: 38.1s\tremaining: 1m 22s\n",
            "316:\tlearn: 0.0013930\ttotal: 38.2s\tremaining: 1m 22s\n",
            "317:\tlearn: 0.0013929\ttotal: 38.3s\tremaining: 1m 22s\n",
            "318:\tlearn: 0.0013929\ttotal: 38.4s\tremaining: 1m 21s\n",
            "319:\tlearn: 0.0013929\ttotal: 38.5s\tremaining: 1m 21s\n",
            "320:\tlearn: 0.0013929\ttotal: 38.6s\tremaining: 1m 21s\n",
            "321:\tlearn: 0.0013929\ttotal: 38.7s\tremaining: 1m 21s\n",
            "322:\tlearn: 0.0013929\ttotal: 38.8s\tremaining: 1m 21s\n",
            "323:\tlearn: 0.0013929\ttotal: 39s\tremaining: 1m 21s\n",
            "324:\tlearn: 0.0013929\ttotal: 39.2s\tremaining: 1m 21s\n",
            "325:\tlearn: 0.0013929\ttotal: 39.4s\tremaining: 1m 21s\n",
            "326:\tlearn: 0.0013928\ttotal: 39.6s\tremaining: 1m 21s\n",
            "327:\tlearn: 0.0013928\ttotal: 39.8s\tremaining: 1m 21s\n",
            "328:\tlearn: 0.0013928\ttotal: 40s\tremaining: 1m 21s\n",
            "329:\tlearn: 0.0013928\ttotal: 40.2s\tremaining: 1m 21s\n",
            "330:\tlearn: 0.0013928\ttotal: 40.4s\tremaining: 1m 21s\n",
            "331:\tlearn: 0.0013928\ttotal: 40.6s\tremaining: 1m 21s\n",
            "332:\tlearn: 0.0013928\ttotal: 40.8s\tremaining: 1m 21s\n",
            "333:\tlearn: 0.0013928\ttotal: 41s\tremaining: 1m 21s\n",
            "334:\tlearn: 0.0013928\ttotal: 41.2s\tremaining: 1m 21s\n",
            "335:\tlearn: 0.0013928\ttotal: 41.4s\tremaining: 1m 21s\n",
            "336:\tlearn: 0.0013928\ttotal: 41.5s\tremaining: 1m 21s\n",
            "337:\tlearn: 0.0013928\ttotal: 41.7s\tremaining: 1m 21s\n",
            "338:\tlearn: 0.0013928\ttotal: 41.9s\tremaining: 1m 21s\n",
            "339:\tlearn: 0.0013928\ttotal: 42.1s\tremaining: 1m 21s\n",
            "340:\tlearn: 0.0013928\ttotal: 42.3s\tremaining: 1m 21s\n",
            "341:\tlearn: 0.0013928\ttotal: 42.5s\tremaining: 1m 21s\n",
            "342:\tlearn: 0.0013928\ttotal: 42.7s\tremaining: 1m 21s\n",
            "343:\tlearn: 0.0013928\ttotal: 42.9s\tremaining: 1m 21s\n",
            "344:\tlearn: 0.0013928\ttotal: 43.1s\tremaining: 1m 21s\n",
            "345:\tlearn: 0.0013928\ttotal: 43.2s\tremaining: 1m 21s\n",
            "346:\tlearn: 0.0013928\ttotal: 43.3s\tremaining: 1m 21s\n",
            "347:\tlearn: 0.0013928\ttotal: 43.4s\tremaining: 1m 21s\n",
            "348:\tlearn: 0.0013928\ttotal: 43.5s\tremaining: 1m 21s\n",
            "349:\tlearn: 0.0013928\ttotal: 43.6s\tremaining: 1m 21s\n",
            "350:\tlearn: 0.0013928\ttotal: 43.7s\tremaining: 1m 20s\n",
            "351:\tlearn: 0.0013928\ttotal: 43.8s\tremaining: 1m 20s\n",
            "352:\tlearn: 0.0013928\ttotal: 43.9s\tremaining: 1m 20s\n",
            "353:\tlearn: 0.0013928\ttotal: 44s\tremaining: 1m 20s\n",
            "354:\tlearn: 0.0013928\ttotal: 44.1s\tremaining: 1m 20s\n",
            "355:\tlearn: 0.0013928\ttotal: 44.2s\tremaining: 1m 20s\n",
            "356:\tlearn: 0.0013928\ttotal: 44.4s\tremaining: 1m 19s\n",
            "357:\tlearn: 0.0013928\ttotal: 44.5s\tremaining: 1m 19s\n",
            "358:\tlearn: 0.0013928\ttotal: 44.6s\tremaining: 1m 19s\n",
            "359:\tlearn: 0.0013670\ttotal: 44.7s\tremaining: 1m 19s\n",
            "360:\tlearn: 0.0013513\ttotal: 44.8s\tremaining: 1m 19s\n",
            "361:\tlearn: 0.0013176\ttotal: 44.9s\tremaining: 1m 19s\n",
            "362:\tlearn: 0.0012861\ttotal: 45s\tremaining: 1m 19s\n",
            "363:\tlearn: 0.0012860\ttotal: 45.1s\tremaining: 1m 18s\n",
            "364:\tlearn: 0.0012860\ttotal: 45.2s\tremaining: 1m 18s\n",
            "365:\tlearn: 0.0012860\ttotal: 45.3s\tremaining: 1m 18s\n",
            "366:\tlearn: 0.0012860\ttotal: 45.4s\tremaining: 1m 18s\n",
            "367:\tlearn: 0.0012860\ttotal: 45.5s\tremaining: 1m 18s\n",
            "368:\tlearn: 0.0012859\ttotal: 45.6s\tremaining: 1m 17s\n",
            "369:\tlearn: 0.0012859\ttotal: 45.7s\tremaining: 1m 17s\n",
            "370:\tlearn: 0.0012859\ttotal: 45.8s\tremaining: 1m 17s\n",
            "371:\tlearn: 0.0012859\ttotal: 45.9s\tremaining: 1m 17s\n",
            "372:\tlearn: 0.0012859\ttotal: 46s\tremaining: 1m 17s\n",
            "373:\tlearn: 0.0012859\ttotal: 46.1s\tremaining: 1m 17s\n",
            "374:\tlearn: 0.0012859\ttotal: 46.1s\tremaining: 1m 16s\n",
            "375:\tlearn: 0.0012859\ttotal: 46.2s\tremaining: 1m 16s\n",
            "376:\tlearn: 0.0012858\ttotal: 46.3s\tremaining: 1m 16s\n",
            "377:\tlearn: 0.0012858\ttotal: 46.4s\tremaining: 1m 16s\n",
            "378:\tlearn: 0.0012858\ttotal: 46.5s\tremaining: 1m 16s\n",
            "379:\tlearn: 0.0012858\ttotal: 46.6s\tremaining: 1m 16s\n",
            "380:\tlearn: 0.0012858\ttotal: 46.7s\tremaining: 1m 15s\n",
            "381:\tlearn: 0.0012858\ttotal: 46.8s\tremaining: 1m 15s\n",
            "382:\tlearn: 0.0012858\ttotal: 46.9s\tremaining: 1m 15s\n",
            "383:\tlearn: 0.0012857\ttotal: 47s\tremaining: 1m 15s\n",
            "384:\tlearn: 0.0012857\ttotal: 47.1s\tremaining: 1m 15s\n",
            "385:\tlearn: 0.0012857\ttotal: 47.2s\tremaining: 1m 15s\n",
            "386:\tlearn: 0.0012857\ttotal: 47.3s\tremaining: 1m 14s\n",
            "387:\tlearn: 0.0012857\ttotal: 47.4s\tremaining: 1m 14s\n",
            "388:\tlearn: 0.0012857\ttotal: 47.4s\tremaining: 1m 14s\n",
            "389:\tlearn: 0.0012857\ttotal: 47.5s\tremaining: 1m 14s\n",
            "390:\tlearn: 0.0012857\ttotal: 47.6s\tremaining: 1m 14s\n",
            "391:\tlearn: 0.0012857\ttotal: 47.7s\tremaining: 1m 14s\n",
            "392:\tlearn: 0.0012856\ttotal: 47.8s\tremaining: 1m 13s\n",
            "393:\tlearn: 0.0012856\ttotal: 47.9s\tremaining: 1m 13s\n",
            "394:\tlearn: 0.0012856\ttotal: 48s\tremaining: 1m 13s\n",
            "395:\tlearn: 0.0012856\ttotal: 48.1s\tremaining: 1m 13s\n",
            "396:\tlearn: 0.0012856\ttotal: 48.2s\tremaining: 1m 13s\n",
            "397:\tlearn: 0.0012856\ttotal: 48.3s\tremaining: 1m 13s\n",
            "398:\tlearn: 0.0012856\ttotal: 48.4s\tremaining: 1m 12s\n",
            "399:\tlearn: 0.0012855\ttotal: 48.5s\tremaining: 1m 12s\n",
            "400:\tlearn: 0.0012855\ttotal: 48.6s\tremaining: 1m 12s\n",
            "401:\tlearn: 0.0012855\ttotal: 48.7s\tremaining: 1m 12s\n",
            "402:\tlearn: 0.0012855\ttotal: 48.8s\tremaining: 1m 12s\n",
            "403:\tlearn: 0.0012855\ttotal: 48.9s\tremaining: 1m 12s\n",
            "404:\tlearn: 0.0012855\ttotal: 49s\tremaining: 1m 11s\n",
            "405:\tlearn: 0.0012855\ttotal: 49s\tremaining: 1m 11s\n",
            "406:\tlearn: 0.0012855\ttotal: 49.1s\tremaining: 1m 11s\n",
            "407:\tlearn: 0.0012855\ttotal: 49.2s\tremaining: 1m 11s\n",
            "408:\tlearn: 0.0012855\ttotal: 49.3s\tremaining: 1m 11s\n",
            "409:\tlearn: 0.0012855\ttotal: 49.4s\tremaining: 1m 11s\n",
            "410:\tlearn: 0.0012854\ttotal: 49.5s\tremaining: 1m 10s\n",
            "411:\tlearn: 0.0012854\ttotal: 49.6s\tremaining: 1m 10s\n",
            "412:\tlearn: 0.0012854\ttotal: 49.7s\tremaining: 1m 10s\n",
            "413:\tlearn: 0.0012854\ttotal: 49.8s\tremaining: 1m 10s\n",
            "414:\tlearn: 0.0012854\ttotal: 49.9s\tremaining: 1m 10s\n",
            "415:\tlearn: 0.0012854\ttotal: 50s\tremaining: 1m 10s\n",
            "416:\tlearn: 0.0012854\ttotal: 50.1s\tremaining: 1m 10s\n",
            "417:\tlearn: 0.0012854\ttotal: 50.2s\tremaining: 1m 9s\n",
            "418:\tlearn: 0.0012854\ttotal: 50.3s\tremaining: 1m 9s\n",
            "419:\tlearn: 0.0012854\ttotal: 50.3s\tremaining: 1m 9s\n",
            "420:\tlearn: 0.0012688\ttotal: 50.5s\tremaining: 1m 9s\n",
            "421:\tlearn: 0.0012482\ttotal: 50.6s\tremaining: 1m 9s\n",
            "422:\tlearn: 0.0012324\ttotal: 50.7s\tremaining: 1m 9s\n",
            "423:\tlearn: 0.0012203\ttotal: 50.8s\tremaining: 1m 8s\n",
            "424:\tlearn: 0.0012012\ttotal: 50.9s\tremaining: 1m 8s\n",
            "425:\tlearn: 0.0011795\ttotal: 51s\tremaining: 1m 8s\n",
            "426:\tlearn: 0.0011795\ttotal: 51.1s\tremaining: 1m 8s\n",
            "427:\tlearn: 0.0011558\ttotal: 51.2s\tremaining: 1m 8s\n",
            "428:\tlearn: 0.0011558\ttotal: 51.3s\tremaining: 1m 8s\n",
            "429:\tlearn: 0.0011558\ttotal: 51.4s\tremaining: 1m 8s\n",
            "430:\tlearn: 0.0011558\ttotal: 51.5s\tremaining: 1m 8s\n",
            "431:\tlearn: 0.0011558\ttotal: 51.6s\tremaining: 1m 7s\n",
            "432:\tlearn: 0.0011415\ttotal: 51.7s\tremaining: 1m 7s\n",
            "433:\tlearn: 0.0011415\ttotal: 51.8s\tremaining: 1m 7s\n",
            "434:\tlearn: 0.0011414\ttotal: 52s\tremaining: 1m 7s\n",
            "435:\tlearn: 0.0011414\ttotal: 52.1s\tremaining: 1m 7s\n",
            "436:\tlearn: 0.0011414\ttotal: 52.2s\tremaining: 1m 7s\n",
            "437:\tlearn: 0.0011414\ttotal: 52.3s\tremaining: 1m 7s\n",
            "438:\tlearn: 0.0011279\ttotal: 52.4s\tremaining: 1m 6s\n",
            "439:\tlearn: 0.0011003\ttotal: 52.5s\tremaining: 1m 6s\n",
            "440:\tlearn: 0.0011003\ttotal: 52.6s\tremaining: 1m 6s\n",
            "441:\tlearn: 0.0011003\ttotal: 52.7s\tremaining: 1m 6s\n",
            "442:\tlearn: 0.0011003\ttotal: 52.8s\tremaining: 1m 6s\n",
            "443:\tlearn: 0.0011003\ttotal: 52.8s\tremaining: 1m 6s\n",
            "444:\tlearn: 0.0011003\ttotal: 52.9s\tremaining: 1m 6s\n",
            "445:\tlearn: 0.0011003\ttotal: 53s\tremaining: 1m 5s\n",
            "446:\tlearn: 0.0011003\ttotal: 53.1s\tremaining: 1m 5s\n",
            "447:\tlearn: 0.0011003\ttotal: 53.3s\tremaining: 1m 5s\n",
            "448:\tlearn: 0.0011003\ttotal: 53.4s\tremaining: 1m 5s\n",
            "449:\tlearn: 0.0011003\ttotal: 53.6s\tremaining: 1m 5s\n",
            "450:\tlearn: 0.0011003\ttotal: 53.8s\tremaining: 1m 5s\n",
            "451:\tlearn: 0.0011002\ttotal: 53.9s\tremaining: 1m 5s\n",
            "452:\tlearn: 0.0011002\ttotal: 54.1s\tremaining: 1m 5s\n",
            "453:\tlearn: 0.0011003\ttotal: 54.3s\tremaining: 1m 5s\n",
            "454:\tlearn: 0.0011003\ttotal: 54.4s\tremaining: 1m 5s\n",
            "455:\tlearn: 0.0010930\ttotal: 54.6s\tremaining: 1m 5s\n",
            "456:\tlearn: 0.0010929\ttotal: 54.8s\tremaining: 1m 5s\n",
            "457:\tlearn: 0.0010929\ttotal: 54.9s\tremaining: 1m 5s\n",
            "458:\tlearn: 0.0010929\ttotal: 55.1s\tremaining: 1m 4s\n",
            "459:\tlearn: 0.0010929\ttotal: 55.3s\tremaining: 1m 4s\n",
            "460:\tlearn: 0.0010929\ttotal: 55.5s\tremaining: 1m 4s\n",
            "461:\tlearn: 0.0010929\ttotal: 55.6s\tremaining: 1m 4s\n",
            "462:\tlearn: 0.0010929\ttotal: 55.8s\tremaining: 1m 4s\n",
            "463:\tlearn: 0.0010929\ttotal: 56s\tremaining: 1m 4s\n",
            "464:\tlearn: 0.0010928\ttotal: 56.2s\tremaining: 1m 4s\n",
            "465:\tlearn: 0.0010928\ttotal: 56.3s\tremaining: 1m 4s\n",
            "466:\tlearn: 0.0010928\ttotal: 56.5s\tremaining: 1m 4s\n",
            "467:\tlearn: 0.0010928\ttotal: 56.7s\tremaining: 1m 4s\n",
            "468:\tlearn: 0.0010928\ttotal: 56.8s\tremaining: 1m 4s\n",
            "469:\tlearn: 0.0010928\ttotal: 57s\tremaining: 1m 4s\n",
            "470:\tlearn: 0.0010928\ttotal: 57.2s\tremaining: 1m 4s\n",
            "471:\tlearn: 0.0010928\ttotal: 57.3s\tremaining: 1m 4s\n",
            "472:\tlearn: 0.0010928\ttotal: 57.4s\tremaining: 1m 3s\n",
            "473:\tlearn: 0.0010928\ttotal: 57.5s\tremaining: 1m 3s\n",
            "474:\tlearn: 0.0010928\ttotal: 57.5s\tremaining: 1m 3s\n",
            "475:\tlearn: 0.0010928\ttotal: 57.6s\tremaining: 1m 3s\n",
            "476:\tlearn: 0.0010928\ttotal: 57.7s\tremaining: 1m 3s\n",
            "477:\tlearn: 0.0010928\ttotal: 57.8s\tremaining: 1m 3s\n",
            "478:\tlearn: 0.0010669\ttotal: 58s\tremaining: 1m 3s\n",
            "479:\tlearn: 0.0010669\ttotal: 58.1s\tremaining: 1m 2s\n",
            "480:\tlearn: 0.0010669\ttotal: 58.2s\tremaining: 1m 2s\n",
            "481:\tlearn: 0.0010668\ttotal: 58.3s\tremaining: 1m 2s\n",
            "482:\tlearn: 0.0010410\ttotal: 58.4s\tremaining: 1m 2s\n",
            "483:\tlearn: 0.0010128\ttotal: 58.5s\tremaining: 1m 2s\n",
            "484:\tlearn: 0.0009997\ttotal: 58.6s\tremaining: 1m 2s\n",
            "485:\tlearn: 0.0009997\ttotal: 58.7s\tremaining: 1m 2s\n",
            "486:\tlearn: 0.0009997\ttotal: 58.8s\tremaining: 1m 1s\n",
            "487:\tlearn: 0.0009997\ttotal: 58.9s\tremaining: 1m 1s\n",
            "488:\tlearn: 0.0009996\ttotal: 59s\tremaining: 1m 1s\n",
            "489:\tlearn: 0.0009996\ttotal: 59s\tremaining: 1m 1s\n",
            "490:\tlearn: 0.0009996\ttotal: 59.1s\tremaining: 1m 1s\n",
            "491:\tlearn: 0.0009996\ttotal: 59.2s\tremaining: 1m 1s\n",
            "492:\tlearn: 0.0009996\ttotal: 59.3s\tremaining: 1m\n",
            "493:\tlearn: 0.0009995\ttotal: 59.4s\tremaining: 1m\n",
            "494:\tlearn: 0.0009995\ttotal: 59.5s\tremaining: 1m\n",
            "495:\tlearn: 0.0009995\ttotal: 59.5s\tremaining: 1m\n",
            "496:\tlearn: 0.0009995\ttotal: 59.6s\tremaining: 1m\n",
            "497:\tlearn: 0.0009995\ttotal: 59.7s\tremaining: 1m\n",
            "498:\tlearn: 0.0009995\ttotal: 59.8s\tremaining: 1m\n",
            "499:\tlearn: 0.0009995\ttotal: 59.9s\tremaining: 59.9s\n",
            "500:\tlearn: 0.0009994\ttotal: 60s\tremaining: 59.7s\n",
            "501:\tlearn: 0.0009812\ttotal: 1m\tremaining: 59.6s\n",
            "502:\tlearn: 0.0009812\ttotal: 1m\tremaining: 59.5s\n",
            "503:\tlearn: 0.0009812\ttotal: 1m\tremaining: 59.3s\n",
            "504:\tlearn: 0.0009812\ttotal: 1m\tremaining: 59.2s\n",
            "505:\tlearn: 0.0009812\ttotal: 1m\tremaining: 59s\n",
            "506:\tlearn: 0.0009812\ttotal: 1m\tremaining: 58.9s\n",
            "507:\tlearn: 0.0009812\ttotal: 1m\tremaining: 58.7s\n",
            "508:\tlearn: 0.0009811\ttotal: 1m\tremaining: 58.6s\n",
            "509:\tlearn: 0.0009811\ttotal: 1m\tremaining: 58.4s\n",
            "510:\tlearn: 0.0009811\ttotal: 1m\tremaining: 58.3s\n",
            "511:\tlearn: 0.0009811\ttotal: 1m 1s\tremaining: 58.2s\n",
            "512:\tlearn: 0.0009811\ttotal: 1m 1s\tremaining: 58s\n",
            "513:\tlearn: 0.0009811\ttotal: 1m 1s\tremaining: 57.8s\n",
            "514:\tlearn: 0.0009811\ttotal: 1m 1s\tremaining: 57.7s\n",
            "515:\tlearn: 0.0009811\ttotal: 1m 1s\tremaining: 57.6s\n",
            "516:\tlearn: 0.0009811\ttotal: 1m 1s\tremaining: 57.4s\n",
            "517:\tlearn: 0.0009811\ttotal: 1m 1s\tremaining: 57.3s\n",
            "518:\tlearn: 0.0009811\ttotal: 1m 1s\tremaining: 57.1s\n",
            "519:\tlearn: 0.0009810\ttotal: 1m 1s\tremaining: 57s\n",
            "520:\tlearn: 0.0009810\ttotal: 1m 1s\tremaining: 56.8s\n",
            "521:\tlearn: 0.0009810\ttotal: 1m 1s\tremaining: 56.7s\n",
            "522:\tlearn: 0.0009810\ttotal: 1m 1s\tremaining: 56.5s\n",
            "523:\tlearn: 0.0009810\ttotal: 1m 2s\tremaining: 56.4s\n",
            "524:\tlearn: 0.0009810\ttotal: 1m 2s\tremaining: 56.3s\n",
            "525:\tlearn: 0.0009811\ttotal: 1m 2s\tremaining: 56.1s\n",
            "526:\tlearn: 0.0009810\ttotal: 1m 2s\tremaining: 56s\n",
            "527:\tlearn: 0.0009809\ttotal: 1m 2s\tremaining: 55.8s\n",
            "528:\tlearn: 0.0009809\ttotal: 1m 2s\tremaining: 55.7s\n",
            "529:\tlearn: 0.0009810\ttotal: 1m 2s\tremaining: 55.6s\n",
            "530:\tlearn: 0.0009810\ttotal: 1m 2s\tremaining: 55.4s\n",
            "531:\tlearn: 0.0009809\ttotal: 1m 2s\tremaining: 55.3s\n",
            "532:\tlearn: 0.0009809\ttotal: 1m 2s\tremaining: 55.1s\n",
            "533:\tlearn: 0.0009809\ttotal: 1m 3s\tremaining: 55s\n",
            "534:\tlearn: 0.0009809\ttotal: 1m 3s\tremaining: 54.8s\n",
            "535:\tlearn: 0.0009809\ttotal: 1m 3s\tremaining: 54.7s\n",
            "536:\tlearn: 0.0009809\ttotal: 1m 3s\tremaining: 54.6s\n",
            "537:\tlearn: 0.0009809\ttotal: 1m 3s\tremaining: 54.4s\n",
            "538:\tlearn: 0.0009808\ttotal: 1m 3s\tremaining: 54.3s\n",
            "539:\tlearn: 0.0009809\ttotal: 1m 3s\tremaining: 54.1s\n",
            "540:\tlearn: 0.0009809\ttotal: 1m 3s\tremaining: 54s\n",
            "541:\tlearn: 0.0009809\ttotal: 1m 3s\tremaining: 53.9s\n",
            "542:\tlearn: 0.0009809\ttotal: 1m 3s\tremaining: 53.7s\n",
            "543:\tlearn: 0.0009809\ttotal: 1m 3s\tremaining: 53.6s\n",
            "544:\tlearn: 0.0009809\ttotal: 1m 4s\tremaining: 53.4s\n",
            "545:\tlearn: 0.0009808\ttotal: 1m 4s\tremaining: 53.3s\n",
            "546:\tlearn: 0.0009808\ttotal: 1m 4s\tremaining: 53.1s\n",
            "547:\tlearn: 0.0009808\ttotal: 1m 4s\tremaining: 53s\n",
            "548:\tlearn: 0.0009808\ttotal: 1m 4s\tremaining: 52.9s\n",
            "549:\tlearn: 0.0009808\ttotal: 1m 4s\tremaining: 52.7s\n",
            "550:\tlearn: 0.0009808\ttotal: 1m 4s\tremaining: 52.6s\n",
            "551:\tlearn: 0.0009808\ttotal: 1m 4s\tremaining: 52.4s\n",
            "552:\tlearn: 0.0009808\ttotal: 1m 4s\tremaining: 52.3s\n",
            "553:\tlearn: 0.0009808\ttotal: 1m 4s\tremaining: 52.2s\n",
            "554:\tlearn: 0.0009808\ttotal: 1m 4s\tremaining: 52s\n",
            "555:\tlearn: 0.0009808\ttotal: 1m 4s\tremaining: 51.9s\n",
            "556:\tlearn: 0.0009808\ttotal: 1m 5s\tremaining: 51.8s\n",
            "557:\tlearn: 0.0009808\ttotal: 1m 5s\tremaining: 51.6s\n",
            "558:\tlearn: 0.0009807\ttotal: 1m 5s\tremaining: 51.5s\n",
            "559:\tlearn: 0.0009808\ttotal: 1m 5s\tremaining: 51.4s\n",
            "560:\tlearn: 0.0009807\ttotal: 1m 5s\tremaining: 51.2s\n",
            "561:\tlearn: 0.0009807\ttotal: 1m 5s\tremaining: 51.1s\n",
            "562:\tlearn: 0.0009807\ttotal: 1m 5s\tremaining: 51s\n",
            "563:\tlearn: 0.0009807\ttotal: 1m 5s\tremaining: 50.8s\n",
            "564:\tlearn: 0.0009807\ttotal: 1m 5s\tremaining: 50.7s\n",
            "565:\tlearn: 0.0009807\ttotal: 1m 5s\tremaining: 50.6s\n",
            "566:\tlearn: 0.0009807\ttotal: 1m 6s\tremaining: 50.4s\n",
            "567:\tlearn: 0.0009807\ttotal: 1m 6s\tremaining: 50.3s\n",
            "568:\tlearn: 0.0009807\ttotal: 1m 6s\tremaining: 50.2s\n",
            "569:\tlearn: 0.0009806\ttotal: 1m 6s\tremaining: 50s\n",
            "570:\tlearn: 0.0009807\ttotal: 1m 6s\tremaining: 49.9s\n",
            "571:\tlearn: 0.0009806\ttotal: 1m 6s\tremaining: 49.8s\n",
            "572:\tlearn: 0.0009806\ttotal: 1m 6s\tremaining: 49.6s\n",
            "573:\tlearn: 0.0009806\ttotal: 1m 6s\tremaining: 49.5s\n",
            "574:\tlearn: 0.0009806\ttotal: 1m 6s\tremaining: 49.4s\n",
            "575:\tlearn: 0.0009806\ttotal: 1m 6s\tremaining: 49.2s\n",
            "576:\tlearn: 0.0009806\ttotal: 1m 6s\tremaining: 49.1s\n",
            "577:\tlearn: 0.0009806\ttotal: 1m 7s\tremaining: 49s\n",
            "578:\tlearn: 0.0009806\ttotal: 1m 7s\tremaining: 48.9s\n",
            "579:\tlearn: 0.0009806\ttotal: 1m 7s\tremaining: 48.8s\n",
            "580:\tlearn: 0.0009806\ttotal: 1m 7s\tremaining: 48.7s\n",
            "581:\tlearn: 0.0009805\ttotal: 1m 7s\tremaining: 48.6s\n",
            "582:\tlearn: 0.0009805\ttotal: 1m 7s\tremaining: 48.5s\n",
            "583:\tlearn: 0.0009805\ttotal: 1m 7s\tremaining: 48.4s\n",
            "584:\tlearn: 0.0009805\ttotal: 1m 8s\tremaining: 48.3s\n",
            "585:\tlearn: 0.0009805\ttotal: 1m 8s\tremaining: 48.2s\n",
            "586:\tlearn: 0.0009805\ttotal: 1m 8s\tremaining: 48.2s\n",
            "587:\tlearn: 0.0009805\ttotal: 1m 8s\tremaining: 48.1s\n",
            "588:\tlearn: 0.0009805\ttotal: 1m 8s\tremaining: 48s\n",
            "589:\tlearn: 0.0009805\ttotal: 1m 8s\tremaining: 47.9s\n",
            "590:\tlearn: 0.0009805\ttotal: 1m 9s\tremaining: 47.9s\n",
            "591:\tlearn: 0.0009804\ttotal: 1m 9s\tremaining: 47.8s\n",
            "592:\tlearn: 0.0009804\ttotal: 1m 9s\tremaining: 47.7s\n",
            "593:\tlearn: 0.0009804\ttotal: 1m 9s\tremaining: 47.7s\n",
            "594:\tlearn: 0.0009804\ttotal: 1m 9s\tremaining: 47.6s\n",
            "595:\tlearn: 0.0009804\ttotal: 1m 10s\tremaining: 47.5s\n",
            "596:\tlearn: 0.0009804\ttotal: 1m 10s\tremaining: 47.4s\n",
            "597:\tlearn: 0.0009804\ttotal: 1m 10s\tremaining: 47.3s\n",
            "598:\tlearn: 0.0009804\ttotal: 1m 10s\tremaining: 47.3s\n",
            "599:\tlearn: 0.0009804\ttotal: 1m 10s\tremaining: 47.2s\n",
            "600:\tlearn: 0.0009804\ttotal: 1m 10s\tremaining: 47.1s\n",
            "601:\tlearn: 0.0009804\ttotal: 1m 11s\tremaining: 47s\n",
            "602:\tlearn: 0.0009804\ttotal: 1m 11s\tremaining: 46.9s\n",
            "603:\tlearn: 0.0009804\ttotal: 1m 11s\tremaining: 46.8s\n",
            "604:\tlearn: 0.0009804\ttotal: 1m 11s\tremaining: 46.7s\n",
            "605:\tlearn: 0.0009804\ttotal: 1m 11s\tremaining: 46.6s\n",
            "606:\tlearn: 0.0009804\ttotal: 1m 11s\tremaining: 46.4s\n",
            "607:\tlearn: 0.0009804\ttotal: 1m 11s\tremaining: 46.3s\n",
            "608:\tlearn: 0.0009804\ttotal: 1m 11s\tremaining: 46.1s\n",
            "609:\tlearn: 0.0009804\ttotal: 1m 11s\tremaining: 46s\n",
            "610:\tlearn: 0.0009803\ttotal: 1m 12s\tremaining: 45.9s\n",
            "611:\tlearn: 0.0009803\ttotal: 1m 12s\tremaining: 45.7s\n",
            "612:\tlearn: 0.0009803\ttotal: 1m 12s\tremaining: 45.6s\n",
            "613:\tlearn: 0.0009803\ttotal: 1m 12s\tremaining: 45.5s\n",
            "614:\tlearn: 0.0009803\ttotal: 1m 12s\tremaining: 45.3s\n",
            "615:\tlearn: 0.0009803\ttotal: 1m 12s\tremaining: 45.2s\n",
            "616:\tlearn: 0.0009803\ttotal: 1m 12s\tremaining: 45.1s\n",
            "617:\tlearn: 0.0009803\ttotal: 1m 12s\tremaining: 44.9s\n",
            "618:\tlearn: 0.0009803\ttotal: 1m 12s\tremaining: 44.8s\n",
            "619:\tlearn: 0.0009803\ttotal: 1m 12s\tremaining: 44.7s\n",
            "620:\tlearn: 0.0009803\ttotal: 1m 12s\tremaining: 44.5s\n",
            "621:\tlearn: 0.0009803\ttotal: 1m 13s\tremaining: 44.4s\n",
            "622:\tlearn: 0.0009803\ttotal: 1m 13s\tremaining: 44.3s\n",
            "623:\tlearn: 0.0009802\ttotal: 1m 13s\tremaining: 44.1s\n",
            "624:\tlearn: 0.0009802\ttotal: 1m 13s\tremaining: 44s\n",
            "625:\tlearn: 0.0009802\ttotal: 1m 13s\tremaining: 43.9s\n",
            "626:\tlearn: 0.0009802\ttotal: 1m 13s\tremaining: 43.8s\n",
            "627:\tlearn: 0.0009802\ttotal: 1m 13s\tremaining: 43.6s\n",
            "628:\tlearn: 0.0009802\ttotal: 1m 13s\tremaining: 43.5s\n",
            "629:\tlearn: 0.0009802\ttotal: 1m 13s\tremaining: 43.4s\n",
            "630:\tlearn: 0.0009637\ttotal: 1m 13s\tremaining: 43.2s\n",
            "631:\tlearn: 0.0009637\ttotal: 1m 14s\tremaining: 43.1s\n",
            "632:\tlearn: 0.0009637\ttotal: 1m 14s\tremaining: 43s\n",
            "633:\tlearn: 0.0009637\ttotal: 1m 14s\tremaining: 42.8s\n",
            "634:\tlearn: 0.0009637\ttotal: 1m 14s\tremaining: 42.7s\n",
            "635:\tlearn: 0.0009637\ttotal: 1m 14s\tremaining: 42.6s\n",
            "636:\tlearn: 0.0009637\ttotal: 1m 14s\tremaining: 42.4s\n",
            "637:\tlearn: 0.0009637\ttotal: 1m 14s\tremaining: 42.3s\n",
            "638:\tlearn: 0.0009637\ttotal: 1m 14s\tremaining: 42.2s\n",
            "639:\tlearn: 0.0009637\ttotal: 1m 14s\tremaining: 42s\n",
            "640:\tlearn: 0.0009636\ttotal: 1m 14s\tremaining: 41.9s\n",
            "641:\tlearn: 0.0009636\ttotal: 1m 14s\tremaining: 41.8s\n",
            "642:\tlearn: 0.0009636\ttotal: 1m 14s\tremaining: 41.6s\n",
            "643:\tlearn: 0.0009636\ttotal: 1m 15s\tremaining: 41.5s\n",
            "644:\tlearn: 0.0009636\ttotal: 1m 15s\tremaining: 41.4s\n",
            "645:\tlearn: 0.0009636\ttotal: 1m 15s\tremaining: 41.2s\n",
            "646:\tlearn: 0.0009636\ttotal: 1m 15s\tremaining: 41.1s\n",
            "647:\tlearn: 0.0009636\ttotal: 1m 15s\tremaining: 41s\n",
            "648:\tlearn: 0.0009636\ttotal: 1m 15s\tremaining: 40.8s\n",
            "649:\tlearn: 0.0009636\ttotal: 1m 15s\tremaining: 40.7s\n",
            "650:\tlearn: 0.0009635\ttotal: 1m 15s\tremaining: 40.6s\n",
            "651:\tlearn: 0.0009635\ttotal: 1m 15s\tremaining: 40.4s\n",
            "652:\tlearn: 0.0009635\ttotal: 1m 15s\tremaining: 40.3s\n",
            "653:\tlearn: 0.0009635\ttotal: 1m 15s\tremaining: 40.2s\n",
            "654:\tlearn: 0.0009635\ttotal: 1m 16s\tremaining: 40.1s\n",
            "655:\tlearn: 0.0009635\ttotal: 1m 16s\tremaining: 39.9s\n",
            "656:\tlearn: 0.0009635\ttotal: 1m 16s\tremaining: 39.8s\n",
            "657:\tlearn: 0.0009635\ttotal: 1m 16s\tremaining: 39.7s\n",
            "658:\tlearn: 0.0009635\ttotal: 1m 16s\tremaining: 39.6s\n",
            "659:\tlearn: 0.0009635\ttotal: 1m 16s\tremaining: 39.4s\n",
            "660:\tlearn: 0.0009635\ttotal: 1m 16s\tremaining: 39.3s\n",
            "661:\tlearn: 0.0009635\ttotal: 1m 16s\tremaining: 39.2s\n",
            "662:\tlearn: 0.0009518\ttotal: 1m 16s\tremaining: 39.1s\n",
            "663:\tlearn: 0.0009518\ttotal: 1m 16s\tremaining: 38.9s\n",
            "664:\tlearn: 0.0009518\ttotal: 1m 17s\tremaining: 38.8s\n",
            "665:\tlearn: 0.0009517\ttotal: 1m 17s\tremaining: 38.7s\n",
            "666:\tlearn: 0.0009517\ttotal: 1m 17s\tremaining: 38.5s\n",
            "667:\tlearn: 0.0009517\ttotal: 1m 17s\tremaining: 38.4s\n",
            "668:\tlearn: 0.0009517\ttotal: 1m 17s\tremaining: 38.3s\n",
            "669:\tlearn: 0.0009517\ttotal: 1m 17s\tremaining: 38.1s\n",
            "670:\tlearn: 0.0009309\ttotal: 1m 17s\tremaining: 38s\n",
            "671:\tlearn: 0.0008969\ttotal: 1m 17s\tremaining: 37.9s\n",
            "672:\tlearn: 0.0008767\ttotal: 1m 17s\tremaining: 37.8s\n",
            "673:\tlearn: 0.0008767\ttotal: 1m 17s\tremaining: 37.7s\n",
            "674:\tlearn: 0.0008767\ttotal: 1m 17s\tremaining: 37.5s\n",
            "675:\tlearn: 0.0008767\ttotal: 1m 18s\tremaining: 37.4s\n",
            "676:\tlearn: 0.0008767\ttotal: 1m 18s\tremaining: 37.3s\n",
            "677:\tlearn: 0.0008767\ttotal: 1m 18s\tremaining: 37.2s\n",
            "678:\tlearn: 0.0008767\ttotal: 1m 18s\tremaining: 37s\n",
            "679:\tlearn: 0.0008767\ttotal: 1m 18s\tremaining: 36.9s\n",
            "680:\tlearn: 0.0008767\ttotal: 1m 18s\tremaining: 36.8s\n",
            "681:\tlearn: 0.0008767\ttotal: 1m 18s\tremaining: 36.7s\n",
            "682:\tlearn: 0.0008767\ttotal: 1m 18s\tremaining: 36.5s\n",
            "683:\tlearn: 0.0008766\ttotal: 1m 18s\tremaining: 36.4s\n",
            "684:\tlearn: 0.0008767\ttotal: 1m 18s\tremaining: 36.3s\n",
            "685:\tlearn: 0.0008767\ttotal: 1m 18s\tremaining: 36.2s\n",
            "686:\tlearn: 0.0008767\ttotal: 1m 19s\tremaining: 36s\n",
            "687:\tlearn: 0.0008767\ttotal: 1m 19s\tremaining: 35.9s\n",
            "688:\tlearn: 0.0008766\ttotal: 1m 19s\tremaining: 35.8s\n",
            "689:\tlearn: 0.0008766\ttotal: 1m 19s\tremaining: 35.7s\n",
            "690:\tlearn: 0.0008766\ttotal: 1m 19s\tremaining: 35.5s\n",
            "691:\tlearn: 0.0008766\ttotal: 1m 19s\tremaining: 35.4s\n",
            "692:\tlearn: 0.0008766\ttotal: 1m 19s\tremaining: 35.3s\n",
            "693:\tlearn: 0.0008767\ttotal: 1m 19s\tremaining: 35.2s\n",
            "694:\tlearn: 0.0008767\ttotal: 1m 19s\tremaining: 35s\n",
            "695:\tlearn: 0.0008766\ttotal: 1m 19s\tremaining: 34.9s\n",
            "696:\tlearn: 0.0008766\ttotal: 1m 20s\tremaining: 34.8s\n",
            "697:\tlearn: 0.0008766\ttotal: 1m 20s\tremaining: 34.7s\n",
            "698:\tlearn: 0.0008766\ttotal: 1m 20s\tremaining: 34.5s\n",
            "699:\tlearn: 0.0008766\ttotal: 1m 20s\tremaining: 34.4s\n",
            "700:\tlearn: 0.0008766\ttotal: 1m 20s\tremaining: 34.3s\n",
            "701:\tlearn: 0.0008766\ttotal: 1m 20s\tremaining: 34.2s\n",
            "702:\tlearn: 0.0008766\ttotal: 1m 20s\tremaining: 34s\n",
            "703:\tlearn: 0.0008766\ttotal: 1m 20s\tremaining: 33.9s\n",
            "704:\tlearn: 0.0008766\ttotal: 1m 20s\tremaining: 33.8s\n",
            "705:\tlearn: 0.0008766\ttotal: 1m 20s\tremaining: 33.7s\n",
            "706:\tlearn: 0.0008766\ttotal: 1m 20s\tremaining: 33.6s\n",
            "707:\tlearn: 0.0008766\ttotal: 1m 21s\tremaining: 33.4s\n",
            "708:\tlearn: 0.0008766\ttotal: 1m 21s\tremaining: 33.3s\n",
            "709:\tlearn: 0.0008766\ttotal: 1m 21s\tremaining: 33.2s\n",
            "710:\tlearn: 0.0008766\ttotal: 1m 21s\tremaining: 33.1s\n",
            "711:\tlearn: 0.0008766\ttotal: 1m 21s\tremaining: 32.9s\n",
            "712:\tlearn: 0.0008766\ttotal: 1m 21s\tremaining: 32.8s\n",
            "713:\tlearn: 0.0008766\ttotal: 1m 21s\tremaining: 32.8s\n",
            "714:\tlearn: 0.0008766\ttotal: 1m 21s\tremaining: 32.7s\n",
            "715:\tlearn: 0.0008766\ttotal: 1m 22s\tremaining: 32.6s\n",
            "716:\tlearn: 0.0008766\ttotal: 1m 22s\tremaining: 32.5s\n",
            "717:\tlearn: 0.0008766\ttotal: 1m 22s\tremaining: 32.4s\n",
            "718:\tlearn: 0.0008766\ttotal: 1m 22s\tremaining: 32.3s\n",
            "719:\tlearn: 0.0008766\ttotal: 1m 22s\tremaining: 32.2s\n",
            "720:\tlearn: 0.0008766\ttotal: 1m 22s\tremaining: 32.1s\n",
            "721:\tlearn: 0.0008766\ttotal: 1m 23s\tremaining: 32s\n",
            "722:\tlearn: 0.0008766\ttotal: 1m 23s\tremaining: 31.9s\n",
            "723:\tlearn: 0.0008766\ttotal: 1m 23s\tremaining: 31.8s\n",
            "724:\tlearn: 0.0008766\ttotal: 1m 23s\tremaining: 31.7s\n",
            "725:\tlearn: 0.0008766\ttotal: 1m 23s\tremaining: 31.6s\n",
            "726:\tlearn: 0.0008766\ttotal: 1m 24s\tremaining: 31.6s\n",
            "727:\tlearn: 0.0008766\ttotal: 1m 24s\tremaining: 31.5s\n",
            "728:\tlearn: 0.0008766\ttotal: 1m 24s\tremaining: 31.4s\n",
            "729:\tlearn: 0.0008766\ttotal: 1m 24s\tremaining: 31.3s\n",
            "730:\tlearn: 0.0008766\ttotal: 1m 24s\tremaining: 31.2s\n",
            "731:\tlearn: 0.0008766\ttotal: 1m 24s\tremaining: 31.1s\n",
            "732:\tlearn: 0.0008766\ttotal: 1m 25s\tremaining: 31s\n",
            "733:\tlearn: 0.0008766\ttotal: 1m 25s\tremaining: 30.9s\n",
            "734:\tlearn: 0.0008766\ttotal: 1m 25s\tremaining: 30.8s\n",
            "735:\tlearn: 0.0008766\ttotal: 1m 25s\tremaining: 30.7s\n",
            "736:\tlearn: 0.0008766\ttotal: 1m 25s\tremaining: 30.6s\n",
            "737:\tlearn: 0.0008766\ttotal: 1m 25s\tremaining: 30.5s\n",
            "738:\tlearn: 0.0008766\ttotal: 1m 25s\tremaining: 30.3s\n",
            "739:\tlearn: 0.0008766\ttotal: 1m 25s\tremaining: 30.2s\n",
            "740:\tlearn: 0.0008766\ttotal: 1m 26s\tremaining: 30.1s\n",
            "741:\tlearn: 0.0008766\ttotal: 1m 26s\tremaining: 30s\n",
            "742:\tlearn: 0.0008766\ttotal: 1m 26s\tremaining: 29.8s\n",
            "743:\tlearn: 0.0008766\ttotal: 1m 26s\tremaining: 29.7s\n",
            "744:\tlearn: 0.0008766\ttotal: 1m 26s\tremaining: 29.6s\n",
            "745:\tlearn: 0.0008766\ttotal: 1m 26s\tremaining: 29.5s\n",
            "746:\tlearn: 0.0008766\ttotal: 1m 26s\tremaining: 29.3s\n",
            "747:\tlearn: 0.0008766\ttotal: 1m 26s\tremaining: 29.2s\n",
            "748:\tlearn: 0.0008766\ttotal: 1m 26s\tremaining: 29.1s\n",
            "749:\tlearn: 0.0008766\ttotal: 1m 26s\tremaining: 29s\n",
            "750:\tlearn: 0.0008766\ttotal: 1m 27s\tremaining: 28.8s\n",
            "751:\tlearn: 0.0008766\ttotal: 1m 27s\tremaining: 28.7s\n",
            "752:\tlearn: 0.0008766\ttotal: 1m 27s\tremaining: 28.6s\n",
            "753:\tlearn: 0.0008766\ttotal: 1m 27s\tremaining: 28.5s\n",
            "754:\tlearn: 0.0008766\ttotal: 1m 27s\tremaining: 28.3s\n",
            "755:\tlearn: 0.0008766\ttotal: 1m 27s\tremaining: 28.2s\n",
            "756:\tlearn: 0.0008766\ttotal: 1m 27s\tremaining: 28.1s\n",
            "757:\tlearn: 0.0008766\ttotal: 1m 27s\tremaining: 28s\n",
            "758:\tlearn: 0.0008766\ttotal: 1m 27s\tremaining: 27.9s\n",
            "759:\tlearn: 0.0008766\ttotal: 1m 27s\tremaining: 27.7s\n",
            "760:\tlearn: 0.0008766\ttotal: 1m 27s\tremaining: 27.6s\n",
            "761:\tlearn: 0.0008766\ttotal: 1m 28s\tremaining: 27.5s\n",
            "762:\tlearn: 0.0008766\ttotal: 1m 28s\tremaining: 27.4s\n",
            "763:\tlearn: 0.0008766\ttotal: 1m 28s\tremaining: 27.2s\n",
            "764:\tlearn: 0.0008766\ttotal: 1m 28s\tremaining: 27.1s\n",
            "765:\tlearn: 0.0008766\ttotal: 1m 28s\tremaining: 27s\n",
            "766:\tlearn: 0.0008766\ttotal: 1m 28s\tremaining: 26.9s\n",
            "767:\tlearn: 0.0008766\ttotal: 1m 28s\tremaining: 26.8s\n",
            "768:\tlearn: 0.0008766\ttotal: 1m 28s\tremaining: 26.6s\n",
            "769:\tlearn: 0.0008766\ttotal: 1m 28s\tremaining: 26.5s\n",
            "770:\tlearn: 0.0008766\ttotal: 1m 28s\tremaining: 26.4s\n",
            "771:\tlearn: 0.0008766\ttotal: 1m 28s\tremaining: 26.3s\n",
            "772:\tlearn: 0.0008766\ttotal: 1m 29s\tremaining: 26.1s\n",
            "773:\tlearn: 0.0008766\ttotal: 1m 29s\tremaining: 26s\n",
            "774:\tlearn: 0.0008766\ttotal: 1m 29s\tremaining: 25.9s\n",
            "775:\tlearn: 0.0008766\ttotal: 1m 29s\tremaining: 25.8s\n",
            "776:\tlearn: 0.0008766\ttotal: 1m 29s\tremaining: 25.7s\n",
            "777:\tlearn: 0.0008766\ttotal: 1m 29s\tremaining: 25.5s\n",
            "778:\tlearn: 0.0008766\ttotal: 1m 29s\tremaining: 25.4s\n",
            "779:\tlearn: 0.0008766\ttotal: 1m 29s\tremaining: 25.3s\n",
            "780:\tlearn: 0.0008766\ttotal: 1m 29s\tremaining: 25.2s\n",
            "781:\tlearn: 0.0008766\ttotal: 1m 29s\tremaining: 25s\n",
            "782:\tlearn: 0.0008766\ttotal: 1m 29s\tremaining: 24.9s\n",
            "783:\tlearn: 0.0008766\ttotal: 1m 30s\tremaining: 24.8s\n",
            "784:\tlearn: 0.0008766\ttotal: 1m 30s\tremaining: 24.7s\n",
            "785:\tlearn: 0.0008766\ttotal: 1m 30s\tremaining: 24.6s\n",
            "786:\tlearn: 0.0008766\ttotal: 1m 30s\tremaining: 24.4s\n",
            "787:\tlearn: 0.0008766\ttotal: 1m 30s\tremaining: 24.3s\n",
            "788:\tlearn: 0.0008765\ttotal: 1m 30s\tremaining: 24.2s\n",
            "789:\tlearn: 0.0008765\ttotal: 1m 30s\tremaining: 24.1s\n",
            "790:\tlearn: 0.0008765\ttotal: 1m 30s\tremaining: 24s\n",
            "791:\tlearn: 0.0008765\ttotal: 1m 30s\tremaining: 23.8s\n",
            "792:\tlearn: 0.0008765\ttotal: 1m 30s\tremaining: 23.7s\n",
            "793:\tlearn: 0.0008765\ttotal: 1m 30s\tremaining: 23.6s\n",
            "794:\tlearn: 0.0008765\ttotal: 1m 31s\tremaining: 23.5s\n",
            "795:\tlearn: 0.0008765\ttotal: 1m 31s\tremaining: 23.4s\n",
            "796:\tlearn: 0.0008765\ttotal: 1m 31s\tremaining: 23.2s\n",
            "797:\tlearn: 0.0008765\ttotal: 1m 31s\tremaining: 23.1s\n",
            "798:\tlearn: 0.0008765\ttotal: 1m 31s\tremaining: 23s\n",
            "799:\tlearn: 0.0008765\ttotal: 1m 31s\tremaining: 22.9s\n",
            "800:\tlearn: 0.0008765\ttotal: 1m 31s\tremaining: 22.8s\n",
            "801:\tlearn: 0.0008765\ttotal: 1m 31s\tremaining: 22.7s\n",
            "802:\tlearn: 0.0008765\ttotal: 1m 31s\tremaining: 22.5s\n",
            "803:\tlearn: 0.0008765\ttotal: 1m 31s\tremaining: 22.4s\n",
            "804:\tlearn: 0.0008765\ttotal: 1m 32s\tremaining: 22.3s\n",
            "805:\tlearn: 0.0008765\ttotal: 1m 32s\tremaining: 22.2s\n",
            "806:\tlearn: 0.0008765\ttotal: 1m 32s\tremaining: 22.1s\n",
            "807:\tlearn: 0.0008765\ttotal: 1m 32s\tremaining: 21.9s\n",
            "808:\tlearn: 0.0008765\ttotal: 1m 32s\tremaining: 21.8s\n",
            "809:\tlearn: 0.0008765\ttotal: 1m 32s\tremaining: 21.7s\n",
            "810:\tlearn: 0.0008765\ttotal: 1m 32s\tremaining: 21.6s\n",
            "811:\tlearn: 0.0008765\ttotal: 1m 32s\tremaining: 21.5s\n",
            "812:\tlearn: 0.0008765\ttotal: 1m 32s\tremaining: 21.3s\n",
            "813:\tlearn: 0.0008765\ttotal: 1m 32s\tremaining: 21.2s\n",
            "814:\tlearn: 0.0008765\ttotal: 1m 32s\tremaining: 21.1s\n",
            "815:\tlearn: 0.0008766\ttotal: 1m 33s\tremaining: 21s\n",
            "816:\tlearn: 0.0008766\ttotal: 1m 33s\tremaining: 20.9s\n",
            "817:\tlearn: 0.0008766\ttotal: 1m 33s\tremaining: 20.7s\n",
            "818:\tlearn: 0.0008766\ttotal: 1m 33s\tremaining: 20.6s\n",
            "819:\tlearn: 0.0008766\ttotal: 1m 33s\tremaining: 20.5s\n",
            "820:\tlearn: 0.0008766\ttotal: 1m 33s\tremaining: 20.4s\n",
            "821:\tlearn: 0.0008766\ttotal: 1m 33s\tremaining: 20.3s\n",
            "822:\tlearn: 0.0008765\ttotal: 1m 33s\tremaining: 20.2s\n",
            "823:\tlearn: 0.0008765\ttotal: 1m 33s\tremaining: 20s\n",
            "824:\tlearn: 0.0008765\ttotal: 1m 33s\tremaining: 19.9s\n",
            "825:\tlearn: 0.0008765\ttotal: 1m 33s\tremaining: 19.8s\n",
            "826:\tlearn: 0.0008765\ttotal: 1m 34s\tremaining: 19.7s\n",
            "827:\tlearn: 0.0008765\ttotal: 1m 34s\tremaining: 19.6s\n",
            "828:\tlearn: 0.0008765\ttotal: 1m 34s\tremaining: 19.4s\n",
            "829:\tlearn: 0.0008765\ttotal: 1m 34s\tremaining: 19.3s\n",
            "830:\tlearn: 0.0008765\ttotal: 1m 34s\tremaining: 19.2s\n",
            "831:\tlearn: 0.0008765\ttotal: 1m 34s\tremaining: 19.1s\n",
            "832:\tlearn: 0.0008765\ttotal: 1m 34s\tremaining: 19s\n",
            "833:\tlearn: 0.0008765\ttotal: 1m 34s\tremaining: 18.9s\n",
            "834:\tlearn: 0.0008765\ttotal: 1m 34s\tremaining: 18.7s\n",
            "835:\tlearn: 0.0008765\ttotal: 1m 34s\tremaining: 18.6s\n",
            "836:\tlearn: 0.0008765\ttotal: 1m 35s\tremaining: 18.5s\n",
            "837:\tlearn: 0.0008765\ttotal: 1m 35s\tremaining: 18.4s\n",
            "838:\tlearn: 0.0008765\ttotal: 1m 35s\tremaining: 18.3s\n",
            "839:\tlearn: 0.0008765\ttotal: 1m 35s\tremaining: 18.2s\n",
            "840:\tlearn: 0.0008765\ttotal: 1m 35s\tremaining: 18s\n",
            "841:\tlearn: 0.0008765\ttotal: 1m 35s\tremaining: 17.9s\n",
            "842:\tlearn: 0.0008765\ttotal: 1m 35s\tremaining: 17.8s\n",
            "843:\tlearn: 0.0008765\ttotal: 1m 35s\tremaining: 17.7s\n",
            "844:\tlearn: 0.0008765\ttotal: 1m 35s\tremaining: 17.6s\n",
            "845:\tlearn: 0.0008765\ttotal: 1m 36s\tremaining: 17.5s\n",
            "846:\tlearn: 0.0008765\ttotal: 1m 36s\tremaining: 17.4s\n",
            "847:\tlearn: 0.0008765\ttotal: 1m 36s\tremaining: 17.3s\n",
            "848:\tlearn: 0.0008765\ttotal: 1m 36s\tremaining: 17.2s\n",
            "849:\tlearn: 0.0008765\ttotal: 1m 36s\tremaining: 17.1s\n",
            "850:\tlearn: 0.0008765\ttotal: 1m 36s\tremaining: 17s\n",
            "851:\tlearn: 0.0008765\ttotal: 1m 37s\tremaining: 16.9s\n",
            "852:\tlearn: 0.0008765\ttotal: 1m 37s\tremaining: 16.8s\n",
            "853:\tlearn: 0.0008765\ttotal: 1m 37s\tremaining: 16.7s\n",
            "854:\tlearn: 0.0008765\ttotal: 1m 37s\tremaining: 16.6s\n",
            "855:\tlearn: 0.0008765\ttotal: 1m 37s\tremaining: 16.5s\n",
            "856:\tlearn: 0.0008765\ttotal: 1m 38s\tremaining: 16.4s\n",
            "857:\tlearn: 0.0008766\ttotal: 1m 38s\tremaining: 16.3s\n",
            "858:\tlearn: 0.0008766\ttotal: 1m 38s\tremaining: 16.1s\n",
            "859:\tlearn: 0.0008766\ttotal: 1m 38s\tremaining: 16s\n",
            "860:\tlearn: 0.0008765\ttotal: 1m 38s\tremaining: 15.9s\n",
            "861:\tlearn: 0.0008765\ttotal: 1m 38s\tremaining: 15.8s\n",
            "862:\tlearn: 0.0008765\ttotal: 1m 39s\tremaining: 15.7s\n",
            "863:\tlearn: 0.0008765\ttotal: 1m 39s\tremaining: 15.6s\n",
            "864:\tlearn: 0.0008765\ttotal: 1m 39s\tremaining: 15.5s\n",
            "865:\tlearn: 0.0008765\ttotal: 1m 39s\tremaining: 15.4s\n",
            "866:\tlearn: 0.0008765\ttotal: 1m 39s\tremaining: 15.3s\n",
            "867:\tlearn: 0.0008765\ttotal: 1m 39s\tremaining: 15.2s\n",
            "868:\tlearn: 0.0008765\ttotal: 1m 39s\tremaining: 15.1s\n",
            "869:\tlearn: 0.0008765\ttotal: 1m 40s\tremaining: 14.9s\n",
            "870:\tlearn: 0.0008765\ttotal: 1m 40s\tremaining: 14.8s\n",
            "871:\tlearn: 0.0008765\ttotal: 1m 40s\tremaining: 14.7s\n",
            "872:\tlearn: 0.0008765\ttotal: 1m 40s\tremaining: 14.6s\n",
            "873:\tlearn: 0.0008765\ttotal: 1m 40s\tremaining: 14.5s\n",
            "874:\tlearn: 0.0008765\ttotal: 1m 40s\tremaining: 14.4s\n",
            "875:\tlearn: 0.0008765\ttotal: 1m 40s\tremaining: 14.2s\n",
            "876:\tlearn: 0.0008765\ttotal: 1m 40s\tremaining: 14.1s\n",
            "877:\tlearn: 0.0008765\ttotal: 1m 40s\tremaining: 14s\n",
            "878:\tlearn: 0.0008765\ttotal: 1m 40s\tremaining: 13.9s\n",
            "879:\tlearn: 0.0008765\ttotal: 1m 40s\tremaining: 13.8s\n",
            "880:\tlearn: 0.0008765\ttotal: 1m 41s\tremaining: 13.7s\n",
            "881:\tlearn: 0.0008765\ttotal: 1m 41s\tremaining: 13.5s\n",
            "882:\tlearn: 0.0008765\ttotal: 1m 41s\tremaining: 13.4s\n",
            "883:\tlearn: 0.0008765\ttotal: 1m 41s\tremaining: 13.3s\n",
            "884:\tlearn: 0.0008765\ttotal: 1m 41s\tremaining: 13.2s\n",
            "885:\tlearn: 0.0008765\ttotal: 1m 41s\tremaining: 13.1s\n",
            "886:\tlearn: 0.0008765\ttotal: 1m 41s\tremaining: 13s\n",
            "887:\tlearn: 0.0008765\ttotal: 1m 41s\tremaining: 12.8s\n",
            "888:\tlearn: 0.0008765\ttotal: 1m 41s\tremaining: 12.7s\n",
            "889:\tlearn: 0.0008765\ttotal: 1m 41s\tremaining: 12.6s\n",
            "890:\tlearn: 0.0008765\ttotal: 1m 42s\tremaining: 12.5s\n",
            "891:\tlearn: 0.0008765\ttotal: 1m 42s\tremaining: 12.4s\n",
            "892:\tlearn: 0.0008765\ttotal: 1m 42s\tremaining: 12.2s\n",
            "893:\tlearn: 0.0008765\ttotal: 1m 42s\tremaining: 12.1s\n",
            "894:\tlearn: 0.0008765\ttotal: 1m 42s\tremaining: 12s\n",
            "895:\tlearn: 0.0008765\ttotal: 1m 42s\tremaining: 11.9s\n",
            "896:\tlearn: 0.0008765\ttotal: 1m 42s\tremaining: 11.8s\n",
            "897:\tlearn: 0.0008765\ttotal: 1m 42s\tremaining: 11.7s\n",
            "898:\tlearn: 0.0008765\ttotal: 1m 42s\tremaining: 11.5s\n",
            "899:\tlearn: 0.0008765\ttotal: 1m 42s\tremaining: 11.4s\n",
            "900:\tlearn: 0.0008765\ttotal: 1m 42s\tremaining: 11.3s\n",
            "901:\tlearn: 0.0008765\ttotal: 1m 43s\tremaining: 11.2s\n",
            "902:\tlearn: 0.0008765\ttotal: 1m 43s\tremaining: 11.1s\n",
            "903:\tlearn: 0.0008765\ttotal: 1m 43s\tremaining: 11s\n",
            "904:\tlearn: 0.0008765\ttotal: 1m 43s\tremaining: 10.8s\n",
            "905:\tlearn: 0.0008765\ttotal: 1m 43s\tremaining: 10.7s\n",
            "906:\tlearn: 0.0008765\ttotal: 1m 43s\tremaining: 10.6s\n",
            "907:\tlearn: 0.0008765\ttotal: 1m 43s\tremaining: 10.5s\n",
            "908:\tlearn: 0.0008765\ttotal: 1m 43s\tremaining: 10.4s\n",
            "909:\tlearn: 0.0008765\ttotal: 1m 43s\tremaining: 10.3s\n",
            "910:\tlearn: 0.0008765\ttotal: 1m 43s\tremaining: 10.2s\n",
            "911:\tlearn: 0.0008765\ttotal: 1m 43s\tremaining: 10s\n",
            "912:\tlearn: 0.0008765\ttotal: 1m 44s\tremaining: 9.92s\n",
            "913:\tlearn: 0.0008765\ttotal: 1m 44s\tremaining: 9.8s\n",
            "914:\tlearn: 0.0008765\ttotal: 1m 44s\tremaining: 9.69s\n",
            "915:\tlearn: 0.0008765\ttotal: 1m 44s\tremaining: 9.57s\n",
            "916:\tlearn: 0.0008765\ttotal: 1m 44s\tremaining: 9.45s\n",
            "917:\tlearn: 0.0008765\ttotal: 1m 44s\tremaining: 9.34s\n",
            "918:\tlearn: 0.0008765\ttotal: 1m 44s\tremaining: 9.22s\n",
            "919:\tlearn: 0.0008765\ttotal: 1m 44s\tremaining: 9.11s\n",
            "920:\tlearn: 0.0008765\ttotal: 1m 44s\tremaining: 8.99s\n",
            "921:\tlearn: 0.0008765\ttotal: 1m 44s\tremaining: 8.88s\n",
            "922:\tlearn: 0.0008765\ttotal: 1m 45s\tremaining: 8.76s\n",
            "923:\tlearn: 0.0008765\ttotal: 1m 45s\tremaining: 8.65s\n",
            "924:\tlearn: 0.0008765\ttotal: 1m 45s\tremaining: 8.53s\n",
            "925:\tlearn: 0.0008765\ttotal: 1m 45s\tremaining: 8.41s\n",
            "926:\tlearn: 0.0008765\ttotal: 1m 45s\tremaining: 8.3s\n",
            "927:\tlearn: 0.0008765\ttotal: 1m 45s\tremaining: 8.19s\n",
            "928:\tlearn: 0.0008765\ttotal: 1m 45s\tremaining: 8.07s\n",
            "929:\tlearn: 0.0008765\ttotal: 1m 45s\tremaining: 7.95s\n",
            "930:\tlearn: 0.0008765\ttotal: 1m 45s\tremaining: 7.84s\n",
            "931:\tlearn: 0.0008765\ttotal: 1m 45s\tremaining: 7.72s\n",
            "932:\tlearn: 0.0008765\ttotal: 1m 45s\tremaining: 7.61s\n",
            "933:\tlearn: 0.0008765\ttotal: 1m 46s\tremaining: 7.49s\n",
            "934:\tlearn: 0.0008765\ttotal: 1m 46s\tremaining: 7.38s\n",
            "935:\tlearn: 0.0008765\ttotal: 1m 46s\tremaining: 7.26s\n",
            "936:\tlearn: 0.0008765\ttotal: 1m 46s\tremaining: 7.15s\n",
            "937:\tlearn: 0.0008765\ttotal: 1m 46s\tremaining: 7.03s\n",
            "938:\tlearn: 0.0008765\ttotal: 1m 46s\tremaining: 6.92s\n",
            "939:\tlearn: 0.0008765\ttotal: 1m 46s\tremaining: 6.8s\n",
            "940:\tlearn: 0.0008765\ttotal: 1m 46s\tremaining: 6.69s\n",
            "941:\tlearn: 0.0008765\ttotal: 1m 46s\tremaining: 6.58s\n",
            "942:\tlearn: 0.0008765\ttotal: 1m 46s\tremaining: 6.46s\n",
            "943:\tlearn: 0.0008765\ttotal: 1m 46s\tremaining: 6.35s\n",
            "944:\tlearn: 0.0008765\ttotal: 1m 47s\tremaining: 6.23s\n",
            "945:\tlearn: 0.0008765\ttotal: 1m 47s\tremaining: 6.12s\n",
            "946:\tlearn: 0.0008765\ttotal: 1m 47s\tremaining: 6s\n",
            "947:\tlearn: 0.0008765\ttotal: 1m 47s\tremaining: 5.89s\n",
            "948:\tlearn: 0.0008765\ttotal: 1m 47s\tremaining: 5.77s\n",
            "949:\tlearn: 0.0008765\ttotal: 1m 47s\tremaining: 5.66s\n",
            "950:\tlearn: 0.0008765\ttotal: 1m 47s\tremaining: 5.54s\n",
            "951:\tlearn: 0.0008765\ttotal: 1m 47s\tremaining: 5.43s\n",
            "952:\tlearn: 0.0008765\ttotal: 1m 47s\tremaining: 5.32s\n",
            "953:\tlearn: 0.0008765\ttotal: 1m 47s\tremaining: 5.2s\n",
            "954:\tlearn: 0.0008765\ttotal: 1m 48s\tremaining: 5.09s\n",
            "955:\tlearn: 0.0008765\ttotal: 1m 48s\tremaining: 4.97s\n",
            "956:\tlearn: 0.0008765\ttotal: 1m 48s\tremaining: 4.86s\n",
            "957:\tlearn: 0.0008765\ttotal: 1m 48s\tremaining: 4.75s\n",
            "958:\tlearn: 0.0008765\ttotal: 1m 48s\tremaining: 4.63s\n",
            "959:\tlearn: 0.0008765\ttotal: 1m 48s\tremaining: 4.52s\n",
            "960:\tlearn: 0.0008765\ttotal: 1m 48s\tremaining: 4.41s\n",
            "961:\tlearn: 0.0008765\ttotal: 1m 48s\tremaining: 4.29s\n",
            "962:\tlearn: 0.0008764\ttotal: 1m 48s\tremaining: 4.18s\n",
            "963:\tlearn: 0.0008764\ttotal: 1m 48s\tremaining: 4.07s\n",
            "964:\tlearn: 0.0008764\ttotal: 1m 48s\tremaining: 3.95s\n",
            "965:\tlearn: 0.0008764\ttotal: 1m 49s\tremaining: 3.84s\n",
            "966:\tlearn: 0.0008764\ttotal: 1m 49s\tremaining: 3.72s\n",
            "967:\tlearn: 0.0008764\ttotal: 1m 49s\tremaining: 3.61s\n",
            "968:\tlearn: 0.0008764\ttotal: 1m 49s\tremaining: 3.5s\n",
            "969:\tlearn: 0.0008764\ttotal: 1m 49s\tremaining: 3.38s\n",
            "970:\tlearn: 0.0008764\ttotal: 1m 49s\tremaining: 3.27s\n",
            "971:\tlearn: 0.0008764\ttotal: 1m 49s\tremaining: 3.16s\n",
            "972:\tlearn: 0.0008764\ttotal: 1m 49s\tremaining: 3.04s\n",
            "973:\tlearn: 0.0008764\ttotal: 1m 49s\tremaining: 2.93s\n",
            "974:\tlearn: 0.0008764\ttotal: 1m 49s\tremaining: 2.82s\n",
            "975:\tlearn: 0.0008764\ttotal: 1m 50s\tremaining: 2.71s\n",
            "976:\tlearn: 0.0008764\ttotal: 1m 50s\tremaining: 2.6s\n",
            "977:\tlearn: 0.0008764\ttotal: 1m 50s\tremaining: 2.49s\n",
            "978:\tlearn: 0.0008764\ttotal: 1m 50s\tremaining: 2.37s\n",
            "979:\tlearn: 0.0008764\ttotal: 1m 50s\tremaining: 2.26s\n",
            "980:\tlearn: 0.0008764\ttotal: 1m 51s\tremaining: 2.15s\n",
            "981:\tlearn: 0.0008764\ttotal: 1m 51s\tremaining: 2.04s\n",
            "982:\tlearn: 0.0008764\ttotal: 1m 51s\tremaining: 1.93s\n",
            "983:\tlearn: 0.0008764\ttotal: 1m 51s\tremaining: 1.81s\n",
            "984:\tlearn: 0.0008764\ttotal: 1m 51s\tremaining: 1.7s\n",
            "985:\tlearn: 0.0008764\ttotal: 1m 51s\tremaining: 1.59s\n",
            "986:\tlearn: 0.0008764\ttotal: 1m 52s\tremaining: 1.48s\n",
            "987:\tlearn: 0.0008764\ttotal: 1m 52s\tremaining: 1.36s\n",
            "988:\tlearn: 0.0008764\ttotal: 1m 52s\tremaining: 1.25s\n",
            "989:\tlearn: 0.0008764\ttotal: 1m 52s\tremaining: 1.14s\n",
            "990:\tlearn: 0.0008764\ttotal: 1m 52s\tremaining: 1.02s\n",
            "991:\tlearn: 0.0008764\ttotal: 1m 52s\tremaining: 911ms\n",
            "992:\tlearn: 0.0008764\ttotal: 1m 53s\tremaining: 798ms\n",
            "993:\tlearn: 0.0008764\ttotal: 1m 53s\tremaining: 684ms\n",
            "994:\tlearn: 0.0008764\ttotal: 1m 53s\tremaining: 570ms\n",
            "995:\tlearn: 0.0008764\ttotal: 1m 53s\tremaining: 457ms\n",
            "996:\tlearn: 0.0008764\ttotal: 1m 53s\tremaining: 343ms\n",
            "997:\tlearn: 0.0008764\ttotal: 1m 53s\tremaining: 228ms\n",
            "998:\tlearn: 0.0008764\ttotal: 1m 54s\tremaining: 114ms\n",
            "999:\tlearn: 0.0008764\ttotal: 1m 54s\tremaining: 0us\n"
          ]
        }
      ],
      "source": [
        "random_search_cbt.fit(X_resampled,y_resampled)\n",
        "best_model_cbt = random_search_cbt.best_estimator_"
      ]
    },
    {
      "cell_type": "code",
      "execution_count": null,
      "metadata": {
        "id": "ZCwlT3Fk6jQo",
        "colab": {
          "base_uri": "https://localhost:8080/"
        },
        "outputId": "535bee36-00cd-4d8e-ecbf-4dff20562fcc"
      },
      "outputs": [
        {
          "output_type": "execute_result",
          "data": {
            "text/plain": [
              "{'learning_rate': 0.2, 'l2_leaf_reg': 1.5, 'iterations': 1000, 'depth': 6}"
            ]
          },
          "metadata": {},
          "execution_count": 28
        }
      ],
      "source": [
        "random_search_cbt.best_params_"
      ]
    },
    {
      "cell_type": "code",
      "execution_count": null,
      "metadata": {
        "id": "RDtXd8zE6jQp",
        "colab": {
          "base_uri": "https://localhost:8080/"
        },
        "outputId": "7214236d-fbb5-4094-859e-31b71d02b52b"
      },
      "outputs": [
        {
          "output_type": "execute_result",
          "data": {
            "text/plain": [
              "['/content/drive/MyDrive/credit_card_fraud_detection/model/cbt.joblib']"
            ]
          },
          "metadata": {},
          "execution_count": 29
        }
      ],
      "source": [
        "dump(best_model_cbt, '/content/drive/MyDrive/credit_card_fraud_detection/model/cbt.joblib')"
      ]
    },
    {
      "cell_type": "code",
      "execution_count": 41,
      "metadata": {
        "id": "_9nWGm6b6jQq"
      },
      "outputs": [],
      "source": [
        "best_model_cbt = load('/content/drive/MyDrive/credit_card_fraud_detection/model/cbt.joblib')"
      ]
    },
    {
      "cell_type": "code",
      "execution_count": 51,
      "metadata": {
        "id": "gQgsWEtl6jQq"
      },
      "outputs": [],
      "source": [
        "test_pool = Pool(X_test,y_test)\n",
        "y_pred_cbt = best_model_cbt.predict(test_pool)"
      ]
    },
    {
      "cell_type": "code",
      "execution_count": null,
      "metadata": {
        "id": "tzy7l5jI7q_N",
        "colab": {
          "base_uri": "https://localhost:8080/",
          "height": 498
        },
        "outputId": "e549d4c5-39b9-450b-c74d-272157b471c6"
      },
      "outputs": [
        {
          "output_type": "execute_result",
          "data": {
            "text/plain": [
              "Text(46.25, 0.5, 'True')"
            ]
          },
          "metadata": {},
          "execution_count": 32
        },
        {
          "output_type": "display_data",
          "data": {
            "text/plain": [
              "<Figure size 640x480 with 2 Axes>"
            ],
            "image/png": "[encoded data removed]"
          },
          "metadata": {}
        }
      ],
      "source": [
        "# (a) 绘制混淆矩阵\n",
        "cm_cbt = confusion_matrix(y_test, y_pred_cbt)\n",
        "sns.heatmap(cm_cbt, annot=True, fmt='d', cmap='Blues')\n",
        "plt.title('Confusion Matrix for CatBoost')\n",
        "plt.xlabel('Predicted')\n",
        "plt.ylabel('True')"
      ]
    },
    {
      "cell_type": "code",
      "execution_count": 77,
      "metadata": {
        "colab": {
          "base_uri": "https://localhost:8080/",
          "height": 480
        },
        "id": "zwJhsaDV5yND",
        "outputId": "536ed65a-5b00-45b1-8d37-f935fea1f08c"
      },
      "outputs": [
        {
          "output_type": "display_data",
          "data": {
            "text/plain": [
              "<Figure size 640x480 with 1 Axes>"
            ],
            "image/png": "[encoded data removed]"
          },
          "metadata": {}
        }
      ],
      "source": [
        "# (b) 计算Precision-Recall AUC并绘制曲线\n",
        "precision_cbt, recall_cbt, _ = precision_recall_curve(y_test, best_model_cbt.predict_proba(X_test)[:, 1])\n",
        "auc_pr_cbt = auc(recall_cbt, precision_cbt)\n",
        "plt.figure()\n",
        "no_skill = len(y_test[y_test==1]) / len(y_test)\n",
        "plt.plot([0, 1], [no_skill, no_skill], linestyle='--', label='No Skill')\n",
        "plt.plot(recall_cbt, precision_cbt, label='CatBoost AUC_PR = %0.3f' % auc_pr_cbt)\n",
        "plt.xlabel('Recall')\n",
        "plt.ylabel('Precision')\n",
        "plt.title('CatBoost Precision-Recall Curve')\n",
        "plt.legend(loc='center left')\n",
        "plt.grid(False)"
      ]
    },
    {
      "cell_type": "code",
      "execution_count": null,
      "metadata": {
        "colab": {
          "base_uri": "https://localhost:8080/",
          "height": 500
        },
        "outputId": "fa9673de-595e-4203-dc44-f2ae0c15e86b",
        "id": "d-6bKJ5I5yNF"
      },
      "outputs": [
        {
          "output_type": "stream",
          "name": "stderr",
          "text": [
            "<ipython-input-50-35caceb64aea>:7: UserWarning: FixedFormatter should only be used together with FixedLocator\n",
            "  s.set_xticklabels(s.get_xticklabels(),rotation=90)\n"
          ]
        },
        {
          "output_type": "display_data",
          "data": {
            "text/plain": [
              "<Figure size 700x400 with 1 Axes>"
            ],
            "image/png": "[encoded data removed]"
          },
          "metadata": {}
        }
      ],
      "source": [
        "# (c) 绘制特征重要性\n",
        "tmp = pd.DataFrame({'Feature': predictors, 'Feature importance': best_model_cbt.feature_importances_})\n",
        "tmp = tmp.sort_values(by='Feature importance',ascending=False)\n",
        "plt.figure(figsize = (7,4))\n",
        "plt.title('CatBoost Features importance',fontsize=14)\n",
        "s = sns.barplot(x='Feature',y='Feature importance',data=tmp)\n",
        "s.set_xticklabels(s.get_xticklabels(),rotation=90)\n",
        "plt.show()"
      ]
    },
    {
      "cell_type": "markdown",
      "source": [
        "## 评估"
      ],
      "metadata": {
        "id": "jb_DF51euFqS"
      }
    },
    {
      "cell_type": "code",
      "source": [
        "y_pred"
      ],
      "metadata": {
        "colab": {
          "base_uri": "https://localhost:8080/"
        },
        "id": "SaFtJ_3Hw5Qz",
        "outputId": "3f204d44-e709-43db-853d-1858a6276103"
      },
      "execution_count": 53,
      "outputs": [
        {
          "output_type": "execute_result",
          "data": {
            "text/plain": [
              "array([0, 0, 0, ..., 0, 0, 0])"
            ]
          },
          "metadata": {},
          "execution_count": 53
        }
      ]
    },
    {
      "cell_type": "code",
      "source": [
        "y_test.values"
      ],
      "metadata": {
        "colab": {
          "base_uri": "https://localhost:8080/"
        },
        "id": "l9HpFqgeznTT",
        "outputId": "19bfe506-0a3d-44e0-e320-4c7669e945ee"
      },
      "execution_count": 59,
      "outputs": [
        {
          "output_type": "execute_result",
          "data": {
            "text/plain": [
              "array([0, 0, 0, ..., 0, 0, 0])"
            ]
          },
          "metadata": {},
          "execution_count": 59
        }
      ]
    },
    {
      "cell_type": "code",
      "execution_count": 72,
      "metadata": {
        "colab": {
          "base_uri": "https://localhost:8080/"
        },
        "id": "JM2yZjlMBDhM",
        "outputId": "9ff85a6b-b01b-487c-aedb-57d54a073e4c"
      },
      "outputs": [
        {
          "output_type": "stream",
          "name": "stdout",
          "text": [
            "Recall: 0.885\n",
            "Precision: 0.804\n",
            "F1-Score: 0.842\n",
            "MCC: 0.843\n"
          ]
        }
      ],
      "source": [
        "# 计算 Recall\n",
        "recall = recall_score(y_test.values, y_pred)\n",
        "recall_str = f\"{recall:.3f}\"\n",
        "\n",
        "# 计算 Precision\n",
        "precision = precision_score(y_test.values, y_pred)\n",
        "precision_str = f\"{precision:.3f}\"\n",
        "\n",
        "# 计算 F1-Score\n",
        "f1 = f1_score(y_test.values, y_pred)\n",
        "f1_str = f\"{f1:.3f}\"\n",
        "\n",
        "# 计算 MCC\n",
        "mcc = matthews_corrcoef(y_test.values, y_pred)\n",
        "mcc_str = f\"{mcc:.3f}\"\n",
        "\n",
        "print(f\"Recall: {recall_str}\")\n",
        "print(f\"Precision: {precision_str}\")\n",
        "print(f\"F1-Score: {f1_str}\")\n",
        "print(f\"MCC: {mcc_str}\")"
      ]
    },
    {
      "cell_type": "code",
      "execution_count": 71,
      "metadata": {
        "colab": {
          "base_uri": "https://localhost:8080/"
        },
        "outputId": "aeb74d58-c151-45cf-ac95-8c1905c073e4",
        "id": "EShHuqr6uPNy"
      },
      "outputs": [
        {
          "output_type": "stream",
          "name": "stdout",
          "text": [
            "Recall: 0.892\n",
            "Precision: 0.786\n",
            "F1-Score: 0.835\n",
            "MCC: 0.837\n"
          ]
        }
      ],
      "source": [
        "# 计算 Recall\n",
        "recall = recall_score(y_test.values, y_pred_rf)\n",
        "recall_str = f\"{recall:.3f}\"\n",
        "\n",
        "# 计算 Precision\n",
        "precision = precision_score(y_test.values, y_pred_rf)\n",
        "precision_str = f\"{precision:.3f}\"\n",
        "\n",
        "# 计算 F1-Score\n",
        "f1 = f1_score(y_test.values, y_pred_rf)\n",
        "f1_str = f\"{f1:.3f}\"\n",
        "\n",
        "# 计算 MCC\n",
        "mcc = matthews_corrcoef(y_test.values, y_pred_rf)\n",
        "mcc_str = f\"{mcc:.3f}\"\n",
        "\n",
        "print(f\"Recall: {recall_str}\")\n",
        "print(f\"Precision: {precision_str}\")\n",
        "print(f\"F1-Score: {f1_str}\")\n",
        "print(f\"MCC: {mcc_str}\")"
      ]
    },
    {
      "cell_type": "code",
      "execution_count": 70,
      "metadata": {
        "colab": {
          "base_uri": "https://localhost:8080/"
        },
        "outputId": "be8443fe-8a3a-4899-8f6f-71e80efaff5a",
        "id": "lkKpPbQYuP6P"
      },
      "outputs": [
        {
          "output_type": "stream",
          "name": "stdout",
          "text": [
            "Recall: 0.885\n",
            "Precision: 0.804\n",
            "F1-Score: 0.842\n",
            "MCC: 0.843\n"
          ]
        }
      ],
      "source": [
        "# 计算 Recall\n",
        "recall = recall_score(y_test.values, y_pred_xgb)\n",
        "recall_str = f\"{recall:.3f}\"\n",
        "\n",
        "# 计算 Precision\n",
        "precision = precision_score(y_test.values, y_pred_xgb)\n",
        "precision_str = f\"{precision:.3f}\"\n",
        "\n",
        "# 计算 F1-Score\n",
        "f1 = f1_score(y_test.values, y_pred_xgb)\n",
        "f1_str = f\"{f1:.3f}\"\n",
        "\n",
        "# 计算 MCC\n",
        "mcc = matthews_corrcoef(y_test.values, y_pred_xgb)\n",
        "mcc_str = f\"{mcc:.3f}\"\n",
        "\n",
        "print(f\"Recall: {recall_str}\")\n",
        "print(f\"Precision: {precision_str}\")\n",
        "print(f\"F1-Score: {f1_str}\")\n",
        "print(f\"MCC: {mcc_str}\")"
      ]
    },
    {
      "cell_type": "code",
      "execution_count": 69,
      "metadata": {
        "colab": {
          "base_uri": "https://localhost:8080/"
        },
        "outputId": "3d92fdfe-551a-434d-ca9a-d001bc0068de",
        "id": "_Al-yazkuQfx"
      },
      "outputs": [
        {
          "output_type": "stream",
          "name": "stdout",
          "text": [
            "Recall: 0.899\n",
            "Precision: 0.831\n",
            "F1-Score: 0.864\n",
            "MCC: 0.864\n"
          ]
        }
      ],
      "source": [
        "# 计算 Recall\n",
        "recall = recall_score(y_test.values, y_pred_lgb)\n",
        "recall_str = f\"{recall:.3f}\"\n",
        "\n",
        "# 计算 Precision\n",
        "precision = precision_score(y_test.values, y_pred_lgb)\n",
        "precision_str = f\"{precision:.3f}\"\n",
        "\n",
        "# 计算 F1-Score\n",
        "f1 = f1_score(y_test.values, y_pred_lgb)\n",
        "f1_str = f\"{f1:.3f}\"\n",
        "\n",
        "# 计算 MCC\n",
        "mcc = matthews_corrcoef(y_test.values, y_pred_lgb)\n",
        "mcc_str = f\"{mcc:.3f}\"\n",
        "\n",
        "print(f\"Recall: {recall_str}\")\n",
        "print(f\"Precision: {precision_str}\")\n",
        "print(f\"F1-Score: {f1_str}\")\n",
        "print(f\"MCC: {mcc_str}\")"
      ]
    },
    {
      "cell_type": "code",
      "execution_count": 68,
      "metadata": {
        "colab": {
          "base_uri": "https://localhost:8080/"
        },
        "outputId": "f49b2f5b-c3ba-4876-bb16-c293b505ffce",
        "id": "id2Gr5j7uRKE"
      },
      "outputs": [
        {
          "output_type": "stream",
          "name": "stdout",
          "text": [
            "Recall: 0.892\n",
            "Precision: 0.641\n",
            "F1-Score: 0.746\n",
            "MCC: 0.756\n"
          ]
        }
      ],
      "source": [
        "# 计算 Recall\n",
        "recall = recall_score(y_test.values, y_pred_cbt)\n",
        "recall_str = f\"{recall:.3f}\"\n",
        "\n",
        "# 计算 Precision\n",
        "precision = precision_score(y_test.values, y_pred_cbt)\n",
        "precision_str = f\"{precision:.3f}\"\n",
        "\n",
        "# 计算 F1-Score\n",
        "f1 = f1_score(y_test.values, y_pred_cbt)\n",
        "f1_str = f\"{f1:.3f}\"\n",
        "\n",
        "# 计算 MCC\n",
        "mcc = matthews_corrcoef(y_test.values, y_pred_cbt)\n",
        "mcc_str = f\"{mcc:.3f}\"\n",
        "\n",
        "print(f\"Recall: {recall_str}\")\n",
        "print(f\"Precision: {precision_str}\")\n",
        "print(f\"F1-Score: {f1_str}\")\n",
        "print(f\"MCC: {mcc_str}\")"
      ]
    },
    {
      "cell_type": "markdown",
      "metadata": {
        "id": "Dl-uUbsSie-Y"
      },
      "source": [
        " Given the class imbalance ratio, we recommend measuring the accuracy using the Area Under the Precision-Recall Curve (AUPRC). Confusion matrix accuracy is not meaningful for unbalanced classification."
      ]
    }
  ],
  "metadata": {
    "colab": {
      "collapsed_sections": [
        "vBARCtSSVm5s",
        "s1VliyQf9Mkm",
        "JhcC27B2zSba",
        "_2l9K9KnzkbZ",
        "6BFtP-r0zoGS",
        "aRMxZnHEzqX7"
      ],
      "provenance": [],
      "mount_file_id": "1M672erfjCaijPqXATLLhRMGn2pI5lwLU",
      "authorship_tag": "ABX9TyMFn4u8Q8MwcqT7zyhtonHV",
      "include_colab_link": true
    },
    "kernelspec": {
      "display_name": "Python 3",
      "name": "python3"
    },
    "language_info": {
      "name": "python"
    }
  },
  "nbformat": 4,
  "nbformat_minor": 0
}